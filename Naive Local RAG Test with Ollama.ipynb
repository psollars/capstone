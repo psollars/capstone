{
 "cells": [
  {
   "cell_type": "code",
   "execution_count": 1,
   "id": "c91f286f-c77e-4a16-8855-19586be59bda",
   "metadata": {},
   "outputs": [],
   "source": [
    "# Adapted from Medium article by Rubentak dated 24 October 2023: \n",
    "# https://medium.com/@rubentak/talk-to-your-files-in-a-local-rag-application-using-mistral-7b-langchain-and-chroma-db-no-2b4ba77358e0\n",
    "# Requires Ollama (see ollama.ai)\n",
    "\n",
    "# Import libraries\n",
    "import os\n",
    "from langchain.vectorstores import Chroma\n",
    "from langchain.embeddings import OpenAIEmbeddings\n",
    "from langchain.llms import Ollama\n",
    "from langchain.callbacks.manager import CallbackManager\n",
    "from langchain.callbacks.streaming_stdout import StreamingStdOutCallbackHandler\n",
    "from langchain.embeddings import OllamaEmbeddings\n",
    "from langchain.prompts import PromptTemplate\n",
    "from langchain.document_loaders import UnstructuredPDFLoader, OnlinePDFLoader, PyPDFLoader, PDFMinerLoader\n",
    "from langchain.text_splitter import CharacterTextSplitter, RecursiveCharacterTextSplitter\n",
    "from langchain.document_loaders import DirectoryLoader\n",
    "from langchain.chains import RetrievalQA"
   ]
  },
  {
   "cell_type": "code",
   "execution_count": 25,
   "id": "54be1acc-f17d-4a18-9cdd-fefddbe53a42",
   "metadata": {},
   "outputs": [],
   "source": [
    "# Ollama embeddings\n",
    "embeddings_open = OllamaEmbeddings(model=\"Llama2\") #(model=\"mistral\")\n",
    "# OpenAI embeddings\n",
    "#embedding = OpenAIEmbeddings()\n",
    "\n",
    "llm_open = Ollama(  #model=\"mistral\",\n",
    "                    model='Llama2',\n",
    "                    callback_manager = CallbackManager([StreamingStdOutCallbackHandler()]))"
   ]
  },
  {
   "cell_type": "code",
   "execution_count": 3,
   "id": "599a708e-be6e-4a3a-8f0a-2bd6c0e5c665",
   "metadata": {},
   "outputs": [
    {
     "data": {
      "text/plain": [
       "4"
      ]
     },
     "execution_count": 3,
     "metadata": {},
     "output_type": "execute_result"
    }
   ],
   "source": [
    "from langchain.document_loaders import DirectoryLoader\n",
    "\n",
    "# Print number of pdf files in directory\n",
    "loader = DirectoryLoader('Source Documents/', glob=\"./*.pdf\", loader_cls=PDFMinerLoader)\n",
    "\n",
    "# load pdfs from directory and print number of pdfs\n",
    "# loader = PyPDFLoader('.../data/PDFs/How_to_build_your_carreer_in_AI.pdf')\n",
    "# loader = PyPDFLoader('MADS Student Handbook.pdf')\n",
    "\n",
    "# load another file directly\n",
    "# loader = DirectoryLoader('/your/path/to/file.txt')\n",
    "\n",
    "doc = loader.load()\n",
    "#doc = loader.load_and_split()\n",
    "\n",
    "len(doc)"
   ]
  },
  {
   "cell_type": "code",
   "execution_count": 35,
   "id": "00bfa8a4-6008-46c8-9cf3-28ab3d213b06",
   "metadata": {},
   "outputs": [],
   "source": [
    "#doc"
   ]
  },
  {
   "cell_type": "code",
   "execution_count": 5,
   "id": "85becf91-4eeb-4b5d-8fb0-41daf80daac8",
   "metadata": {},
   "outputs": [
    {
     "data": {
      "text/plain": [
       "121"
      ]
     },
     "execution_count": 5,
     "metadata": {},
     "output_type": "execute_result"
    }
   ],
   "source": [
    "text_splitter = RecursiveCharacterTextSplitter (chunk_size=1000, chunk_overlap=100)\n",
    "#text_splitter = CharacterTextSplitter (chunk_size=1000, chunk_overlap=100)\n",
    "texts = text_splitter.split_documents(doc)\n",
    "\n",
    "len(texts)"
   ]
  },
  {
   "cell_type": "code",
   "execution_count": 36,
   "id": "0ee2f71f-54a8-48fd-a54a-d0b7295e89a4",
   "metadata": {},
   "outputs": [],
   "source": [
    "#texts[32]"
   ]
  },
  {
   "cell_type": "code",
   "execution_count": 7,
   "id": "4f12e00f-89c5-44cd-9316-afe247728ed7",
   "metadata": {},
   "outputs": [],
   "source": [
    "# PDFs from directory\n",
    "# persist_directory = 'PDFs_How_to_build_your_carreer_in_AI'\n",
    "\n",
    "# Langchain documentation\n",
    "# persist_directory = 'vdb_langchain_doc_small'\n",
    "\n",
    "# Your documents \n",
    "# persist_directory = 'your_new_database'\n",
    "persist_directory = 'chromadb_test'\n",
    "\n",
    "vectordb = Chroma.from_documents(documents=texts, collection_name='MADS',\n",
    "                                 # Chose the embedding you want to use\n",
    "                                 embedding=embeddings_open,                                 \n",
    "                                 persist_directory=persist_directory,\n",
    "                                )"
   ]
  },
  {
   "cell_type": "code",
   "execution_count": 8,
   "id": "36b1f758-0f78-45ad-93fe-61aae13cb2ff",
   "metadata": {},
   "outputs": [],
   "source": [
    "# Save to disk\n",
    "vectordb.persist()\n",
    "vectordb = None"
   ]
  },
  {
   "cell_type": "code",
   "execution_count": 9,
   "id": "522ac177-1e49-4d5b-bff2-2f8f1d6aa03c",
   "metadata": {},
   "outputs": [],
   "source": [
    "# Reload from disk\n",
    "vectordb = Chroma('MADS', persist_directory = persist_directory,\n",
    "                  embedding_function = embeddings_open,\n",
    "                  collection_metadata={\"hnsw:space\": \"cosine\"})"
   ]
  },
  {
   "cell_type": "code",
   "execution_count": 32,
   "id": "79d51609-9ca9-4fd6-bc42-ac7c418994cb",
   "metadata": {},
   "outputs": [],
   "source": [
    "# Create retriever\n",
    "retriever = vectordb.as_retriever(\n",
    "            #search_type=\"mmr\",\n",
    "            #search_kwargs={'k': 5, 'fetch_k': 20}\n",
    "            #search_type=\"similarity_score_threshold\",\n",
    "            #search_kwargs={'score_threshold': 0.8}\n",
    "        )"
   ]
  },
  {
   "cell_type": "code",
   "execution_count": 13,
   "id": "1df02303-8529-4df0-b385-db163b0af60e",
   "metadata": {},
   "outputs": [
    {
     "data": {
      "text/plain": [
       "5"
      ]
     },
     "execution_count": 13,
     "metadata": {},
     "output_type": "execute_result"
    }
   ],
   "source": [
    "docs = retriever.get_relevant_documents(\"Who is the course manager for SIADS 699?\")\n",
    "len(docs)"
   ]
  },
  {
   "cell_type": "code",
   "execution_count": 19,
   "id": "5e3cf251-684d-487c-b2e5-c9cf2a05dfcb",
   "metadata": {},
   "outputs": [],
   "source": [
    "def process_llm_response(llm_response):\n",
    "    #print(llm_response['result'])\n",
    "    print('\\n\\nSources:')\n",
    "    for source in llm_response[\"source_documents\"]:\n",
    "        print(source.metadata['source'])"
   ]
  },
  {
   "cell_type": "code",
   "execution_count": 26,
   "id": "8b21fa6a-d3ee-4a43-a9d7-c01912fd8712",
   "metadata": {},
   "outputs": [],
   "source": [
    "qa_chain = RetrievalQA.from_chain_type(llm=llm_open,\n",
    "                                  chain_type=\"stuff\",\n",
    "                                  retriever=retriever,\n",
    "                                  return_source_documents=True,\n",
    "                                  verbose=True)"
   ]
  },
  {
   "cell_type": "code",
   "execution_count": 37,
   "id": "ab20435a-724a-4f79-9d7d-729ae8056d2c",
   "metadata": {},
   "outputs": [
    {
     "name": "stdout",
     "output_type": "stream",
     "text": [
      "\n",
      "\n",
      "\u001b[1m> Entering new RetrievalQA chain...\u001b[0m\n",
      "Based on the provided context, it appears that you are asking about the requirements for the Capstone project in the SIADS 699 course. Specifically, you want to know what you need to turn in for the project.\n",
      "\n",
      "From the course syllabus, it is mentioned that the Capstone project is a group data science project that students will independently design and execute. The intention of the project is to create a resume-worthy portfolio piece in a format that is ready to share and present with the broader community of data science professionals.\n",
      "\n",
      "To answer your question, you will need to propose and build an end-to-end data science project in your domain of interest. The project will be supervised by instructors with regular peer review, and students are expected to demonstrate mastery of data science concepts and methods from their MADS training.\n",
      "\n",
      "The course syllabus also mentions that students are required to uphold the Coursera Honor Code, which includes not sharing solutions with others unless given explicit permission by the instructor. Additionally, students who need a class for credit will receive priority for seats, but they may not change their status to official visit after the last day of class.\n",
      "\n",
      "In summary, to complete the Capstone project in SIADS 699, you will need to propose and build an end-to-end data science project in your domain of interest, while upholding the Coursera Honor Code and following any additional instructions provided by the instructor.\n",
      "\u001b[1m> Finished chain.\u001b[0m\n",
      "\n",
      "\n",
      "Sources:\n",
      "Source Documents/Capstone Project Announcement.pdf\n",
      "Source Documents/Course Syllabus for SIADS 699.pdf\n",
      "Source Documents/Course Syllabus for SIADS 699.pdf\n",
      "Source Documents/MADS Student Handbook.pdf\n",
      "Source Documents/MADS Student Handbook.pdf\n"
     ]
    }
   ],
   "source": [
    "# Question\n",
    "query = \"Tell me what I need to turn in for the capstone project\"\n",
    "llm_response = qa_chain(query)\n",
    "process_llm_response(llm_response)"
   ]
  },
  {
   "cell_type": "code",
   "execution_count": null,
   "id": "ba0d7276-abc4-4467-8eb9-0726764547a8",
   "metadata": {},
   "outputs": [],
   "source": []
  }
 ],
 "metadata": {
  "kernelspec": {
   "display_name": "Python 3 (ipykernel)",
   "language": "python",
   "name": "python3"
  },
  "language_info": {
   "codemirror_mode": {
    "name": "ipython",
    "version": 3
   },
   "file_extension": ".py",
   "mimetype": "text/x-python",
   "name": "python",
   "nbconvert_exporter": "python",
   "pygments_lexer": "ipython3",
   "version": "3.11.3"
  }
 },
 "nbformat": 4,
 "nbformat_minor": 5
}
