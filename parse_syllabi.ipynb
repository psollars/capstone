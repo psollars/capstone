{
 "cells": [
  {
   "cell_type": "code",
   "execution_count": 1,
   "metadata": {},
   "outputs": [],
   "source": [
    "from bs4 import BeautifulSoup\n",
    "import markdownify\n",
    "\n",
    "\n",
    "def extract_text_from_html(file_path):\n",
    "    with open(file_path, \"r\", encoding=\"utf-8\") as file:\n",
    "        html_content = file.read()\n",
    "\n",
    "    soup = BeautifulSoup(html_content, \"lxml\")\n",
    "\n",
    "    # Strip these tags out\n",
    "    [x.extract() for x in soup.findAll([\"style\", \"script\"])]\n",
    "\n",
    "    # Use a single line of html text for the markdown parser\n",
    "    html_content = str(soup).replace(\"\\n\", \"\")\n",
    "\n",
    "    return markdownify.markdownify(html_content, heading_style=\"ATX\")\n",
    "\n",
    "\n",
    "text = extract_text_from_html(\"./raw_syllabi/2021-12_532.html\")\n",
    "\n",
    "with open(f\"./parsed_syllabi/2021-12_532.md\", \"w\", encoding=\"utf-8\") as file:\n",
    "    file.write(text)"
   ]
  },
  {
   "cell_type": "code",
   "execution_count": 2,
   "metadata": {},
   "outputs": [],
   "source": [
    "import fitz  # PyMuPDF\n",
    "\n",
    "\n",
    "def extract_text_from_pdf(file_path):\n",
    "    with fitz.open(file_path) as doc:\n",
    "        text = \"\"\n",
    "        for page in doc:\n",
    "            text += page.get_text()\n",
    "\n",
    "    return text"
   ]
  },
  {
   "cell_type": "code",
   "execution_count": 3,
   "metadata": {},
   "outputs": [],
   "source": [
    "course_records = [\n",
    "    (\"2021-09\", \"505\"),\n",
    "    (\"2021-10\", \"502\"),\n",
    "    (\"2021-10\", \"515\"),\n",
    "    (\"2021-11\", \"521\"), # This one is listed under week 1 and doesn't have a reference in \"resources\"\n",
    "    (\"2021-12\", \"532\"),\n",
    "    (\"2022-01\", \"501\"), # pdf\n",
    "    (\"2022-01\", \"511\"),\n",
    "    (\"2022-02\", \"522\"),\n",
    "    (\"2022-03\", \"503\"),\n",
    "    (\"2022-04\", \"523\"),\n",
    "    (\"2022-05\", \"542\"), # This one is listed under week 1 materials\n",
    "    (\"2022-06\", \"543\"), # This one is listed under week 1 materials\n",
    "    (\"2022-06\", \"611\"),\n",
    "    (\"2022-07\", \"516\"),\n",
    "    (\"2022-08\", \"622\"),\n",
    "    (\"2022-09\", \"593\"),\n",
    "    (\"2022-11\", \"631\"),\n",
    "    (\"2023-01\", \"652\"), # pdf\n",
    "    (\"2023-02\", \"632\"),\n",
    "    (\"2023-02\", \"673\"), # This was just a link to a Google Doc, which I downloaded as a pdf\n",
    "    (\"2023-03\", \"642\"),\n",
    "    (\"2023-03\", \"643\"), # This was just a link to a Google Doc, which I downloaded as a pdf\n",
    "    (\"2023-04\", \"655\"), # This one is listed under week 1 materials\n",
    "    (\"2023-05\", \"524\"),\n",
    "    (\"2023-06\", \"601\"),\n",
    "    (\"2023-06\", \"630\"),\n",
    "    (\"2023-09\", \"696\"), # This is a pdf on in a Google Drive folder that I no longer have access to, luckily I kept a copy that I downloaded during the class\n",
    "    (\"2023-11\", \"682\"),\n",
    "    (\"2023-12\", \"688\"),\n",
    "    (\"2024-02\", \"699\"), # This was just a link to a Google Doc, which I downloaded as a pdf\n",
    "]\n",
    "\n",
    "courses = [f\"{date}_{num}\" for date, num in course_records]"
   ]
  },
  {
   "cell_type": "code",
   "execution_count": 4,
   "metadata": {},
   "outputs": [],
   "source": [
    "import os\n",
    "\n",
    "\n",
    "def extract_text(file_identifier, base_path=\"./raw_syllabi/\"):\n",
    "    html_path = os.path.join(base_path, f\"{file_identifier}.html\")\n",
    "    pdf_path = os.path.join(base_path, f\"{file_identifier}.pdf\")\n",
    "\n",
    "    if os.path.exists(html_path):\n",
    "        return extract_text_from_html(html_path)\n",
    "    elif os.path.exists(pdf_path):\n",
    "        return extract_text_from_pdf(pdf_path)\n",
    "    else:\n",
    "        return f\"Course Syllabus does not exist at: {base_path}{file_identifier}\""
   ]
  },
  {
   "cell_type": "code",
   "execution_count": 5,
   "metadata": {},
   "outputs": [],
   "source": [
    "for course in courses:\n",
    "    text = extract_text(course)\n",
    "\n",
    "    with open(f\"./parsed_syllabi/{course}.md\", \"w\", encoding=\"utf-8\") as file:\n",
    "        file.write(text)"
   ]
  },
  {
   "cell_type": "code",
   "execution_count": 6,
   "metadata": {},
   "outputs": [
    {
     "name": "stdout",
     "output_type": "stream",
     "text": [
      "\u001b[K\u001b[?25h░░░░⠂⠂⠂⠂⠂⠂⸩ ⠼ build:prettier: sill doSerial build 8\u001b[0m\u001b[K/.npm/_locks\u001b[0m\u001b[K[0m\u001b[Knpx: installed 1 in 1.444s\n",
      "parsed_syllabi/2021-09_505.md\u001b[2K\u001b[1Gparsed_syllabi/2021-09_505.md 94ms\n",
      "parsed_syllabi/2021-09_505.txt\u001b[2K\u001b[1Gparsed_syllabi/2021-10_502.md\u001b[2K\u001b[1Gparsed_syllabi/2021-10_502.md 75ms\n",
      "parsed_syllabi/2021-10_502.txt\u001b[2K\u001b[1Gparsed_syllabi/2021-10_515.md\u001b[2K\u001b[1Gparsed_syllabi/2021-10_515.md 58ms\n",
      "parsed_syllabi/2021-10_515.txt\u001b[2K\u001b[1Gparsed_syllabi/2021-11_521.md\u001b[2K\u001b[1Gparsed_syllabi/2021-11_521.md 37ms\n",
      "parsed_syllabi/2021-11_521.txt\u001b[2K\u001b[1Gparsed_syllabi/2021-12_532.md\u001b[2K\u001b[1Gparsed_syllabi/2021-12_532.md 48ms\n",
      "parsed_syllabi/2021-12_532.txt\u001b[2K\u001b[1Gparsed_syllabi/2022-01_501.md\u001b[2K\u001b[1Gparsed_syllabi/2022-01_501.md 39ms\n",
      "parsed_syllabi/2022-01_501.txt\u001b[2K\u001b[1Gparsed_syllabi/2022-01_511.md\u001b[2K\u001b[1Gparsed_syllabi/2022-01_511.md 41ms\n",
      "parsed_syllabi/2022-01_511.txt\u001b[2K\u001b[1Gparsed_syllabi/2022-02_522.md\u001b[2K\u001b[1Gparsed_syllabi/2022-02_522.md 41ms\n",
      "parsed_syllabi/2022-02_522.txt\u001b[2K\u001b[1Gparsed_syllabi/2022-03_503.md\u001b[2K\u001b[1Gparsed_syllabi/2022-03_503.md 149ms\n",
      "parsed_syllabi/2022-03_503.txt\u001b[2K\u001b[1Gparsed_syllabi/2022-04_523.md\u001b[2K\u001b[1Gparsed_syllabi/2022-04_523.md 58ms\n",
      "parsed_syllabi/2022-04_523.txt\u001b[2K\u001b[1Gparsed_syllabi/2022-05_542.md\u001b[2K\u001b[1Gparsed_syllabi/2022-05_542.md 85ms\n",
      "parsed_syllabi/2022-05_542.txt\u001b[2K\u001b[1Gparsed_syllabi/2022-06_543.md\u001b[2K\u001b[1Gparsed_syllabi/2022-06_543.md 73ms\n",
      "parsed_syllabi/2022-06_543.txt\u001b[2K\u001b[1Gparsed_syllabi/2022-06_611.md\u001b[2K\u001b[1Gparsed_syllabi/2022-06_611.md 25ms\n",
      "parsed_syllabi/2022-06_611.txt\u001b[2K\u001b[1Gparsed_syllabi/2022-07_516.md\u001b[2K\u001b[1Gparsed_syllabi/2022-07_516.md 47ms\n",
      "parsed_syllabi/2022-07_516.txt\u001b[2K\u001b[1Gparsed_syllabi/2022-08_622.md\u001b[2K\u001b[1Gparsed_syllabi/2022-08_622.md 37ms\n",
      "parsed_syllabi/2022-08_622.txt\u001b[2K\u001b[1Gparsed_syllabi/2022-09_593.md\u001b[2K\u001b[1Gparsed_syllabi/2022-09_593.md 66ms\n",
      "parsed_syllabi/2022-09_593.txt\u001b[2K\u001b[1Gparsed_syllabi/2022-11_631.md\u001b[2K\u001b[1Gparsed_syllabi/2022-11_631.md 34ms\n",
      "parsed_syllabi/2022-11_631.txt\u001b[2K\u001b[1Gparsed_syllabi/2023-01_652.md\u001b[2K\u001b[1Gparsed_syllabi/2023-01_652.md 49ms\n",
      "parsed_syllabi/2023-01_652.txt\u001b[2K\u001b[1Gparsed_syllabi/2023-02_632.md\u001b[2K\u001b[1Gparsed_syllabi/2023-02_632.md 43ms\n",
      "parsed_syllabi/2023-02_632.txt\u001b[2K\u001b[1Gparsed_syllabi/2023-02_673.md\u001b[2K\u001b[1G\u001b[90mparsed_syllabi/2023-02_673.md\u001b[39m 28ms (unchanged)\n",
      "parsed_syllabi/2023-02_673.txt\u001b[2K\u001b[1Gparsed_syllabi/2023-03_642.md\u001b[2K\u001b[1Gparsed_syllabi/2023-03_642.md 26ms\n",
      "parsed_syllabi/2023-03_642.txt\u001b[2K\u001b[1Gparsed_syllabi/2023-03_643.md\u001b[2K\u001b[1G\u001b[90mparsed_syllabi/2023-03_643.md\u001b[39m 25ms (unchanged)\n",
      "parsed_syllabi/2023-03_643.txt\u001b[2K\u001b[1Gparsed_syllabi/2023-04_655.md\u001b[2K\u001b[1Gparsed_syllabi/2023-04_655.md 39ms\n",
      "parsed_syllabi/2023-04_655.txt\u001b[2K\u001b[1Gparsed_syllabi/2023-05_524.md\u001b[2K\u001b[1Gparsed_syllabi/2023-05_524.md 53ms\n",
      "parsed_syllabi/2023-05_524.txt\u001b[2K\u001b[1Gparsed_syllabi/2023-06_601.md\u001b[2K\u001b[1Gparsed_syllabi/2023-06_601.md 63ms\n",
      "parsed_syllabi/2023-06_601.txt\u001b[2K\u001b[1Gparsed_syllabi/2023-06_630.md\u001b[2K\u001b[1Gparsed_syllabi/2023-06_630.md 41ms\n",
      "parsed_syllabi/2023-06_630.txt\u001b[2K\u001b[1Gparsed_syllabi/2023-09_696.md\u001b[2K\u001b[1Gparsed_syllabi/2023-09_696.md 73ms\n",
      "parsed_syllabi/2023-09_696.txt\u001b[2K\u001b[1Gparsed_syllabi/2023-11_682.md\u001b[2K\u001b[1Gparsed_syllabi/2023-11_682.md 67ms\n",
      "parsed_syllabi/2023-11_682.txt\u001b[2K\u001b[1Gparsed_syllabi/2023-12_688.md\u001b[2K\u001b[1Gparsed_syllabi/2023-12_688.md 66ms\n",
      "parsed_syllabi/2023-12_688.txt\u001b[2K\u001b[1Gparsed_syllabi/2024-02_699.md\u001b[2K\u001b[1G\u001b[90mparsed_syllabi/2024-02_699.md\u001b[39m 40ms (unchanged)\n",
      "parsed_syllabi/2024-02_699.txt\u001b[2K\u001b[1G"
     ]
    }
   ],
   "source": [
    "!npx prettier ./parsed_syllabi/ --write"
   ]
  }
 ],
 "metadata": {
  "kernelspec": {
   "display_name": ".venv",
   "language": "python",
   "name": "python3"
  },
  "language_info": {
   "codemirror_mode": {
    "name": "ipython",
    "version": 3
   },
   "file_extension": ".py",
   "mimetype": "text/x-python",
   "name": "python",
   "nbconvert_exporter": "python",
   "pygments_lexer": "ipython3",
   "version": "3.11.3"
  }
 },
 "nbformat": 4,
 "nbformat_minor": 2
}
