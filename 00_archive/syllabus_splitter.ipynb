{
 "cells": [
  {
   "cell_type": "code",
   "execution_count": 1,
   "id": "c91f286f-c77e-4a16-8855-19586be59bda",
   "metadata": {},
   "outputs": [],
   "source": [
    "from langchain.vectorstores import Chroma\n",
    "from langchain.embeddings import OllamaEmbeddings\n",
    "from langchain.text_splitter import MarkdownTextSplitter\n",
    "from langchain_core.documents.base import Document\n",
    "from langchain.document_loaders import DirectoryLoader\n",
    "\n",
    "# from langchain_community.document_loaders import TextLoader"
   ]
  },
  {
   "cell_type": "code",
   "execution_count": 31,
   "id": "fdedb955",
   "metadata": {},
   "outputs": [],
   "source": [
    "# https://www.si.umich.edu/programs/master-applied-data-science/curriculum/mads-courses\n",
    "\n",
    "courses = {\n",
    "    \"505\": \"Data Manipulation\",\n",
    "    \"502\": \"Math Methods I\",\n",
    "    \"515\": \"Efficient Data Processing\",\n",
    "    \"521\": \"Visual Exploration of Data\",\n",
    "    \"532\": \"Data Mining I\",\n",
    "    \"501\": \"Being a Data Scientist\",\n",
    "    \"511\": \"SQL and Databases\",\n",
    "    \"522\": \"Information Visualization I\",\n",
    "    \"503\": \"Data Science Ethics\",\n",
    "    \"523\": \"Communicating Data Science Results\",\n",
    "    \"542\": \"Supervised Learning\",\n",
    "    \"543\": \"Unsupervised Learning\",\n",
    "    \"611\": \"Database Architecture & Technology\",\n",
    "    \"516\": \"Big Data: Scalable Data Processing\",\n",
    "    \"622\": \"Information Visualization II\",\n",
    "    \"593\": \"Milestone I\",\n",
    "    \"631\": \"Experiment Design and Analysis\",\n",
    "    \"652\": \"Network Analysis\",\n",
    "    \"632\": \"Data Mining II\",\n",
    "    \"673\": \"Cloud Computing\",\n",
    "    \"642\": \"Deep Learning I\",\n",
    "    \"643\": \"Machine Learning Pipelines\",\n",
    "    \"655\": \"Applied Natural Language Processing\",\n",
    "    \"524\": \"Presenting Uncertainty\",\n",
    "    \"601\": \"Qualitative Inquiry for Data Scientists\",\n",
    "    \"630\": \"Causal Inference\",\n",
    "    \"696\": \"Milestone II\",\n",
    "    \"682\": \"Social Media Analytics\",\n",
    "    \"688\": \"Data Science for Social Good\",\n",
    "    \"699\": \"Capstone\",\n",
    "    # \"571\": \"Business SQL\",\n",
    "    # \"602\": \"Math Methods II\",\n",
    "    # \"644\": \"Reinforcement Learning Algorithms\",\n",
    "    # \"680\": \"Learning Analytics and Educational Data Science\",\n",
    "    # \"681\": \"Health Analytics\",\n",
    "    # \"685\": \"Search and Recommender Systems\",\n",
    "    # \"687\": \"Introduction to Sports Analytics\",\n",
    "}"
   ]
  },
  {
   "cell_type": "code",
   "execution_count": 32,
   "id": "e4158f9b",
   "metadata": {},
   "outputs": [],
   "source": [
    "descriptions = {\n",
    "    \"505\": \"This course will introduce data manipulation and cleaning techniques using the popular python pandas data science library and introduce the abstraction of the Series and Data Frame as the central data structures for data analysis, along with understanding of how to use functions such as groupby, merge, and pivot tables effectively. By the end of this course, students will be able to take tabular data, clean it, manipulate it, and run basic inferential statistical analyses.\",\n",
    "    \"502\": \"This course covers foundational topics in linear algebra and probability. Important mathematical concepts are introduced or derived in a rigorous manner. Through guided exercises, students will also learn to program with NumPy, the data science library that will be used extensively in subsequent technical courses. \",\n",
    "    \"515\": \"This course will introduce students to the basics of the linux command-line interface, debugging concepts, basic algorithmic principles such as memoization, recursion, caching, and generators, as well as efficiency and code profiling.\",\n",
    "    \"521\": \"Visual Exploration of Data teaches students how to look for (visually) aggregate patterns within data using the matplotlib library. Students will learn the challenges in visually exploring and representing analytic data with a focus on understanding how statistical measures can be applied.\",\n",
    "    \"532\": \"Data Mining I introduces basic concepts and tasks of data mining. This course focuses on how to formally represent real world information as basic data types (itemsets, matrices and sequences) that facilitate downstream analytics tasks. Students will learn how to characterize each type of data through pattern extraction and similarity measures.\",\n",
    "    \"501\": \"This course explores what expertise, perspectives and ethical commitments applied data scientists bring to projects. We will apply that lens to four phases of data science projects: problem formulation, data acquisition, modeling and analysis, and presentation of results. Through this process students will formulate a statement of who they want to be as data scientists.\",\n",
    "    \"511\": \"This course will introduce the students to beginning and intermediate database concepts. The students will learn the structured query language, the design of data models, loading and normalizing data, how to query databases, and how to measure the performance of various ways of indexing and querying data.\",\n",
    "    \"522\": \"Information Visualization I will initiate information visualization — visual representations of data through interactive systems. Specific focus is on the role of visualization in understanding data, multidimensional data, and how perception, cognition, and good design enhance visualization. This course introduces APIs for visualization construction.\",\n",
    "    \"503\": \"The course introduces the ethical challenges that data scientists face and can help to resolve using case-based reasoning within four domains that are central to data science: data privacy, bias, data provenance, and accountability.\",\n",
    "    \"523\": \"Data scientists need to be able to present their analyses to clients and stakeholders, sometimes \\\"translating\\\" to those without statistical or data fluency. You will learn strategies for effective visual, written, and oral communication and create a technical report and oral presentation for your professional portfolio.\",\n",
    "    \"542\": \"Students will learn how to correctly apply, interpret results, and iteratively refine and tune supervised machine learning models to solve a diverse set of problems on real-world datasets. Application is emphasized over theoretical content.\",\n",
    "    \"543\": \"Students will learn how to correctly apply, interpret results, and iteratively refine and tune unsupervised machine learning models to solve a diverse set of problems on real-world datasets. Application is emphasized over theoretical content.\",\n",
    "    \"611\": \"This course will cover advanced techniques in representing and indexing data in JSON and full-text fields. We will also review and cover the performance of database operations across all types of SQL queries. We also compare and contrast relational and non-relational approaches to database and discuss when to use various different database technologies.\",\n",
    "    \"516\": \"This course will introduce students to the use of the Spark data analysis framework for the analysis of Big Data. We will cover the theory and application of MapReduce strategies, the use of Resilient Distributed Datasets in cluster computing, and higher-level abstractions such as DataFrames and SparkSQL, which facilitate efficient analysis of large amounts of data.\",\n",
    "    \"622\": \"This course extends our understanding of information visualization. Leveraging the topics covered in Information Visualization I, we introduce interactive techniques that can be used broadly for visualization. The course will also introduce techniques for visualizing specific data types: temporal, network, hierarchical, and text.\",\n",
    "    \"593\": \"Students will engage in a portfolio project which covers data analysis, manipulation, and visualization, as well as a comprehensive exam to date on learning to date.\",\n",
    "    \"631\": \"Experiment Design and Analysis presents experiment design for laboratory and field experiments. Students will discuss the logic of experimentation and the ways in which experimentation has been — and could be — used to investigate social and technological phenomena. Students will learn how to design experiments and analyze experimental data. \",\n",
    "    \"652\": \"This course will introduce students to basic network analysis techniques, with an emphasis on developing programming skills to manipulate an analyze real network data using Python. The course includes topics such as network evolution, link prediction, network centrality, models of information diffusion on networks, and community structure.\",\n",
    "    \"632\": \"This course extends Data Mining I and introduces additional data representations and tasks involved in mining real world data, with a particular focus on sequence modeling, time series analysis, and mining data streams. It introduces how to extract patterns, compute similarities/distances of data, and conduct other relevant data mining tasks under these data representations.\",\n",
    "    \"673\": \"This course will serve as an introduction to cloud computing and teach students about cloud infrastructure, cloud networks, management, methods to compare and contrast computing services, and performance, scalability, and availability of cloud resources for data related tasks. Transferring of large datasets around within the cloud to create cloud based pipelines will also be covered. At the end of this course, students should be able to set up cloud based workflows for doing common data science tasks.\",\n",
    "    \"642\": \"This course will introduce basics of neural networks and deep learning. It will focus on developing an understanding of what kind of real-world data problems are amenable to deep learning models. Students will develop familiarity with various commonly used deep learning methods such as Convolutional Neural Networks (CNNs), Recurrent Neural Networks (RNNs), and Generative Adversarial Networks (GANs) via hands-on coding exercises and multichoice quizzes.\",\n",
    "    \"643\": \"Students will gain an understanding of how machine learning pipelines function and common issues that occur during the construction and deployment phases. Students will learn how to prototype, test, evaluate, and validate pipelines. By the end, students should be able to build an end-to-end pipeline for supervised machine learning tasks.\",\n",
    "    \"655\": \"This course introduces students to working with language data and how to turn unstructured text into structured information for use with other data science areas. Students will learn how to use common techniques and software libraries for analyzing the semantics and syntax of language.\",\n",
    "    \"524\": \"This course will introduce strategies and techniques for effective uncertainty communication, with a particular focus on uncertainty visualization. A coherent framework for understanding the communication of uncertainty from statistical models will be introduced, as well as strategies for communicating, uncertainty about model specifications themselves.\",\n",
    "    \"601\": \"Qualitative research methodologies are useful to data scientists as a way to gain insight into data sets, to generate hypotheses about data, and to synthesize analysis outcomes. The course will overview basic qualitative research skills including interview protocols, semi-structured interviews, qualitative analysis through affinity diagrams, and synthesis for written reports.\",\n",
    "    \"630\": \"This course introduces common methods of causal inference. Students will learn how to think about appropriate research designs to estimate causal effects. Topics include randomized experiments, regression discontinuity, instrumental variables, and differences-in-differences. We will go through examples using python. Familiarity with basic concepts in probability and statistics is desirable.\",\n",
    "    \"696\": \"Milestone II represents a key assessment point for assessing fundamental data analytics skills and practices applied to realistic data science problems. Students will complete project-based work with guidance from the instructor, as well as a comprehensive exam.\",\n",
    "    \"682\": \"This course will introduce concepts and approaches to mining social media data. It focuses on obtaining and exploring those data, mining networks, and mining texts from social platforms. Students will learn how to apply previously learned data mining concepts in the context of social media data.\",\n",
    "    \"688\": \"This course analyzes the motivations and incentives for people to contribute to public goods. Students will learn how to apply causal inference techniques and social science theories to nudge pro-social behavior and evaluate the impact of such interventions. Application domains include energy conservation, safe driving, contributions to open content (Wikipedia), and open source software.\",\n",
    "    \"699\": \"This is a project-based course in which students propose and build end-to-end data science projects in their domains of interest. Students are asked to demonstrate mastery of data science concepts and methods from their MADS training and produce a creative, original, and technically rigorous portfolio piece. Projects will be supervised by instructors with regular peer review.\",\n",
    "    # \"571\": \"This class will teach you how to handle complex SQL queries from business logic. Students will be presented with a variety of business needs and a database, students will have to respond to the business need using the database to answer the business question. This will cover using pandas to query a database as well.\"\n",
    "    # \"602\": \"As a natural continuation of Math Methods I, this course covers more advanced topics in linear algebra and statistics in addition to some introductory optimization. Beyond rigorous mathematical definitions and derivations, students will also learn and explore important applications built upon selected concepts. The assessments in this course will explicitly encourage students to write efficient code that re-implements the mathematical ideas taught in the lectures.\",\n",
    "    # \"644\": \"This course covers the basic principles of reinforcement learning and popular modern reinforcement learning algorithms. Students will develop familiarity with both model-based and model-free reinforcement learning algorithms, including Q-learning, Actor-Critic algorithms, and multi-armed bandit algorithms.\"\n",
    "    # \"680\": \"The course examines the application of data science to better understand and improve learning. Anchored in the fields of learning analytics and educational data mining, this course analyzes the unique opportunities and challenges associated with applying data science methods to data stemming from schools, universities, and myriad learning opportunities.\"\n",
    "    # \"681\": \"This course analyzes successful deployments and case studies of health analytics. Students will learn how to recognize the role of data analytics in healthcare settings and will be given a broad healthcare challenge to identify the appropriate technical tools to bear on the task. Students will gain experience with consumer informatics / mobile health, electronic health records, medical imaging and public health datasets. They will also gain domain expertise in the areas of stress and physical activity, pharmaceuticals, lung disease and epidemiology.\",\n",
    "    # \"685\": \"This course introduces concepts, methods, and applications of information retrieval, with a focus on search and recommendations. Students will learn algorithms, evaluation metrics, and tools for indexing, ranking, and filtering text data and understand the context of popular industrial applications, including Web search, ads ranking, feeds ranking, and recommender systems.\",\n",
    "    # \"687\": \"In this course students will study how supervised machine learning techniques are applied in the domain of sports analytics including in individual sporting events, team events, and emerging wearable sensor technologies. Students will engage in applying their knowledge of machine learning through a hands-on competition in one or more sports analytics domains.\",\n",
    "}"
   ]
  },
  {
   "cell_type": "code",
   "execution_count": 44,
   "id": "e8d8c805",
   "metadata": {},
   "outputs": [],
   "source": [
    "from datetime import datetime\n",
    "import re\n",
    "from typing import List\n",
    "\n",
    "from langchain_core.documents import Document\n",
    "from langchain_community.document_loaders.base import BaseLoader\n",
    "\n",
    "\n",
    "class SyllabusLoader(BaseLoader):\n",
    "    def __init__(self, file_path: str):\n",
    "        self.file_path = file_path\n",
    "\n",
    "    def load(self) -> List[Document]:\n",
    "        try:\n",
    "            with open(self.file_path, encoding=\"UTF-8\") as f:\n",
    "                text = f.read()\n",
    "        except Exception as e:\n",
    "            raise RuntimeError(f\"Error loading {self.file_path}\") from e\n",
    "\n",
    "        heading_pattern = r\"^(#{1,6})\\s*(.*)$\"\n",
    "        headings = [\n",
    "            (match.start(), match.group())\n",
    "            for match in re.finditer(heading_pattern, text, flags=re.MULTILINE)\n",
    "        ]\n",
    "\n",
    "        sections = []\n",
    "        for i in range(len(headings)):\n",
    "            start, heading = headings[i]\n",
    "            end = headings[i + 1][0] if i + 1 < len(headings) else len(text)\n",
    "            section_text = text[start:end].replace(heading, \"\").strip()\n",
    "\n",
    "            file = self.file_path.split(\"/\")[-1]\n",
    "            date, course = file.split(\"_\")\n",
    "            course_number = course.replace(\".md\", \"\")\n",
    "\n",
    "            metadata = {\n",
    "                \"source\": file,\n",
    "                \"heading\": heading.replace(\"#\", \"\").strip(),\n",
    "                \"course_number\": f\"SIADS {course_number}\",\n",
    "                \"course_title\": courses[course_number],\n",
    "                \"course_date\": datetime.strptime(date, \"%Y-%m\").strftime(\"%B %Y\"),\n",
    "            }\n",
    "\n",
    "            sections.append([Document(page_content=section_text, metadata=metadata)])\n",
    "\n",
    "        return sections"
   ]
  },
  {
   "cell_type": "code",
   "execution_count": 45,
   "id": "599a708e-be6e-4a3a-8f0a-2bd6c0e5c665",
   "metadata": {},
   "outputs": [
    {
     "data": {
      "text/plain": [
       "571"
      ]
     },
     "execution_count": 45,
     "metadata": {},
     "output_type": "execute_result"
    }
   ],
   "source": [
    "loader = DirectoryLoader(\"./parsed_syllabi\", glob=\"*.md\", loader_cls=SyllabusLoader)\n",
    "\n",
    "doc = loader.load()\n",
    "\n",
    "len(doc)"
   ]
  },
  {
   "cell_type": "code",
   "execution_count": 47,
   "id": "00bfa8a4-6008-46c8-9cf3-28ab3d213b06",
   "metadata": {},
   "outputs": [
    {
     "data": {
      "text/plain": [
       "[Document(page_content='Refer to the [Screen reader configuration for Jupyter Notebook Content](https://docs.google.com/document/d/1ct4BShNTYVU2J_oYeuTTsODSAFlEhtODXMlfc4-t5PM/edit#heading=h.t003rxazhbx3) document to learn accessibility tips for Jupyter Notebooks.', metadata={'source': '2023-11_682.md', 'heading': 'Accessibility', 'course_number': 'SIADS 682', 'course_title': 'Social Media Analytics', 'course_date': 'November 2023'})]"
      ]
     },
     "execution_count": 47,
     "metadata": {},
     "output_type": "execute_result"
    }
   ],
   "source": [
    "doc[40]"
   ]
  },
  {
   "cell_type": "code",
   "execution_count": 7,
   "id": "85becf91-4eeb-4b5d-8fb0-41daf80daac8",
   "metadata": {},
   "outputs": [
    {
     "data": {
      "text/plain": [
       "485"
      ]
     },
     "execution_count": 7,
     "metadata": {},
     "output_type": "execute_result"
    }
   ],
   "source": [
    "text_splitter = MarkdownTextSplitter(chunk_size=1000, chunk_overlap=100)\n",
    "texts = text_splitter.split_documents(doc)\n",
    "\n",
    "len(texts)"
   ]
  },
  {
   "cell_type": "code",
   "execution_count": 8,
   "id": "0ee2f71f-54a8-48fd-a54a-d0b7295e89a4",
   "metadata": {},
   "outputs": [
    {
     "data": {
      "text/plain": [
       "Document(page_content='Online access to these textbooks are provided through the University of Michigan Library. You may be asked to sign in with your UMich uniquename and password to access these materials.\\n\\n### **Technology Requirements (unique to this course)**\\n\\n_None_\\n\\n### **Accessibility**\\n\\n[Screen reader configuration for Jupyter Notebook Content](https://docs.google.com/document/d/1ct4BShNTYVU2J_oYeuTTsODSAFlEhtODXMlfc4-t5PM/edit?usp=sharing)\\n\\n### **Learning Outcomes**', metadata={'source': 'parsed_syllabi/2021-12_532.md'})"
      ]
     },
     "execution_count": 8,
     "metadata": {},
     "output_type": "execute_result"
    }
   ],
   "source": [
    "texts[32]"
   ]
  },
  {
   "cell_type": "code",
   "execution_count": 10,
   "id": "4f12e00f-89c5-44cd-9316-afe247728ed7",
   "metadata": {},
   "outputs": [],
   "source": [
    "persist_directory = \"chromadb_test\""
   ]
  },
  {
   "cell_type": "code",
   "execution_count": 9,
   "id": "a47dfbe0",
   "metadata": {},
   "outputs": [
    {
     "name": "stderr",
     "output_type": "stream",
     "text": [
      "/Users/Pat/Documents/umich/2024-02 SIADS 699/capstone/.venv/lib/python3.11/site-packages/tqdm/auto.py:21: TqdmWarning: IProgress not found. Please update jupyter and ipywidgets. See https://ipywidgets.readthedocs.io/en/stable/user_install.html\n",
      "  from .autonotebook import tqdm as notebook_tqdm\n",
      "README.md: 100%|██████████| 10.7k/10.7k [00:00<00:00, 23.4MB/s]s]\n",
      "Fetching 16 files: 100%|██████████| 16/16 [00:00<00:00, 57.33it/s]\n"
     ]
    },
    {
     "data": {
      "text/plain": [
       "'/Users/Pat/.cache/huggingface/hub/models--sentence-transformers--all-MiniLM-L6-v2/snapshots/44eb4044493a3c34bc6d7faae1a71ec76665ebc6'"
      ]
     },
     "execution_count": 9,
     "metadata": {},
     "output_type": "execute_result"
    }
   ],
   "source": [
    "from huggingface_hub import snapshot_download\n",
    "\n",
    "# Running hugging face hub in a cell and downloading cache\n",
    "snapshot_download(repo_id=\"sentence-transformers/all-MiniLM-L6-v2\")"
   ]
  },
  {
   "cell_type": "code",
   "execution_count": 11,
   "id": "94dc14ad",
   "metadata": {},
   "outputs": [],
   "source": [
    "vectordb = Chroma.from_documents(\n",
    "    documents=texts,\n",
    "    collection_name=\"MADS\",\n",
    "    # Chose the embedding you want to use\n",
    "    embedding=embeddings_open,\n",
    "    persist_directory=persist_directory,\n",
    ")"
   ]
  },
  {
   "cell_type": "code",
   "execution_count": 12,
   "id": "36b1f758-0f78-45ad-93fe-61aae13cb2ff",
   "metadata": {},
   "outputs": [],
   "source": [
    "# Save to disk\n",
    "vectordb.persist()\n",
    "vectordb = None"
   ]
  },
  {
   "cell_type": "code",
   "execution_count": 13,
   "id": "522ac177-1e49-4d5b-bff2-2f8f1d6aa03c",
   "metadata": {},
   "outputs": [],
   "source": [
    "# Reload from disk\n",
    "vectordb = Chroma(\n",
    "    \"MADS\",\n",
    "    persist_directory=persist_directory,\n",
    "    embedding_function=embeddings_open,\n",
    "    collection_metadata={\"hnsw:space\": \"cosine\"},\n",
    ")"
   ]
  },
  {
   "cell_type": "code",
   "execution_count": null,
   "id": "442cae65",
   "metadata": {},
   "outputs": [],
   "source": []
  },
  {
   "cell_type": "code",
   "execution_count": 14,
   "id": "79d51609-9ca9-4fd6-bc42-ac7c418994cb",
   "metadata": {},
   "outputs": [],
   "source": [
    "# Create retriever\n",
    "retriever = vectordb.as_retriever(\n",
    "    # search_type=\"mmr\",\n",
    "    # search_kwargs={'k': 5, 'fetch_k': 20}\n",
    "    # search_type=\"similarity_score_threshold\",\n",
    "    # search_kwargs={'score_threshold': 0.8}\n",
    ")"
   ]
  },
  {
   "cell_type": "code",
   "execution_count": 15,
   "id": "1df02303-8529-4df0-b385-db163b0af60e",
   "metadata": {},
   "outputs": [
    {
     "data": {
      "text/plain": [
       "4"
      ]
     },
     "execution_count": 15,
     "metadata": {},
     "output_type": "execute_result"
    }
   ],
   "source": [
    "docs = retriever.get_relevant_documents(\"Who is the course manager for SIADS 699?\")\n",
    "len(docs)"
   ]
  },
  {
   "cell_type": "code",
   "execution_count": 16,
   "id": "66f09304",
   "metadata": {},
   "outputs": [
    {
     "data": {
      "text/plain": [
       "[Document(page_content='1. American Civil Liberties Union. (2004). \"Scary Pizza.\" (video.) 01:42. Available online: <https://www.youtube.com/watch?v=33CIVjvYyEk>\\n2. Raji, Deborah. (December 10, 2020). \" [How our data encodes systematic racism](https://www.technologyreview.com/2020/12/10/1013617/racism-data-science-artificial-intelligence-ai-opinion/) .\" MIT Technology Review.\\n3. Wallach, Hanna. (December 14, 2014). [Big Data, Machine Learning, and the Social Sciences: Fairness, Accountability, and Transparency.](https://medium.com/@hannawallach/big-data-machine-learning-and-the-social-sciences-927a8e20460d) Medium.com.', metadata={'source': 'parsed_syllabi/2022-03_503.md'}),\n",
       " Document(page_content='- Correctly apply and interpret results from clustering methods in scikit-learn, including k-means, agglomerative clustering, hierarchical clustering, and DBSCAN.\\n- Understand the use of topic modeling (Latent Dirichlet Allocation and Non-Negative Matrix Factorization forms) and best practices for its application.\\n- Correctly apply and interpret results from manifold learning methods, including multidimensional scaling (MDS) and t-SNE.\\n- Understand how to evaluate clustering results using a variety of metrics.\\n- Understand the tradeoffs and assumptions inherent in different clustering techniques.\\n- Understand how unsupervised learning can be used to improve supervised prediction.\\n- Perform density estimation using a kernel, with a single random variable.\\n- Interpret a biplot result from principal components analysis (PCA).\\n- Build awareness of the basic mechanism and use of word embeddings (in preparation for later coverage in deep learning).', metadata={'source': 'parsed_syllabi/2022-06_543.md'}),\n",
       " Document(page_content='# How to Get Help\\n\\nIf you have questions concerning the degree program, encounter a technical issue with Coursera, or issues using Slack, please submit a report to the ticketing system at [umsimadshelp@umich.edu](mailto:umsimadshelp@umich.edu) .\\n\\nIf you have an issue specific to the Coursera environment, you can also begin a [live chat session](https://learner.coursera.help/hc/en-us/articles/360024928831-Chat-with-us) with Coursera Technical Support (24/7) or view [Coursera troubleshooting guide](https://learner.coursera.help/) s. (you may be asked to log in to your Coursera account).\\n\\nFor questions regarding course content, refer to the **Communications Expectations** section below.\\n\\n# Weekly Readings or Textbook Information', metadata={'source': 'parsed_syllabi/2023-02_632.md'}),\n",
       " Document(page_content='**Week 1 - Digital Public Goods and Externalities: Nudging Safe Driving**\\n\\n- Chen, Yan, Fangwen Lu and Jinan Zhang (2017). “Social comparisons, status and driving behavior.” Journal of Public Economics 155: 11-20. **Prusell assignment**\\n- Chen, Y. (2020). Digital Public Goods. Chapter 1.\\n- Ariely, Dan, Anat Bracha, and Stephan Meier. 2009. Doing Good or Doing Well? Image Motivation and Monetary Incentives in Behaving Prosocially. American Economic Review 99 (1): 544-55.\\n\\n  **Week 2 - Information Nudges for Energy Conservation**', metadata={'source': 'parsed_syllabi/2023-12_688.md'})]"
      ]
     },
     "execution_count": 16,
     "metadata": {},
     "output_type": "execute_result"
    }
   ],
   "source": [
    "docs"
   ]
  },
  {
   "cell_type": "code",
   "execution_count": 17,
   "id": "5e3cf251-684d-487c-b2e5-c9cf2a05dfcb",
   "metadata": {},
   "outputs": [],
   "source": [
    "def process_llm_response(llm_response):\n",
    "    # print(llm_response['result'])\n",
    "    print(\"\\n\\nSources:\")\n",
    "    for source in llm_response[\"source_documents\"]:\n",
    "        print(source.metadata[\"source\"])"
   ]
  },
  {
   "cell_type": "code",
   "execution_count": 18,
   "id": "8b21fa6a-d3ee-4a43-a9d7-c01912fd8712",
   "metadata": {},
   "outputs": [],
   "source": [
    "qa_chain = RetrievalQA.from_chain_type(\n",
    "    llm=llm_open,\n",
    "    chain_type=\"stuff\",\n",
    "    retriever=retriever,\n",
    "    return_source_documents=True,\n",
    "    verbose=True,\n",
    ")"
   ]
  },
  {
   "cell_type": "code",
   "execution_count": 24,
   "id": "ab20435a-724a-4f79-9d7d-729ae8056d2c",
   "metadata": {},
   "outputs": [
    {
     "name": "stdout",
     "output_type": "stream",
     "text": [
      "\n",
      "\n",
      "\u001b[1m> Entering new RetrievalQA chain...\u001b[0m\n"
     ]
    },
    {
     "ename": "ValueError",
     "evalue": "Error raised by inference API HTTP code: 404, {\"error\":\"model 'Llama2' not found, try pulling it first\"}",
     "output_type": "error",
     "traceback": [
      "\u001b[0;31m---------------------------------------------------------------------------\u001b[0m",
      "\u001b[0;31mValueError\u001b[0m                                Traceback (most recent call last)",
      "Cell \u001b[0;32mIn[24], line 4\u001b[0m\n\u001b[1;32m      2\u001b[0m query \u001b[38;5;241m=\u001b[39m \u001b[38;5;124m\"\u001b[39m\u001b[38;5;124mTell me what I need to turn in for the capstone project\u001b[39m\u001b[38;5;124m\"\u001b[39m\n\u001b[1;32m      3\u001b[0m \u001b[38;5;66;03m# query = \"Which course can I take to learn about item sets?\"\u001b[39;00m\n\u001b[0;32m----> 4\u001b[0m llm_response \u001b[38;5;241m=\u001b[39m \u001b[43mqa_chain\u001b[49m\u001b[43m(\u001b[49m\u001b[43mquery\u001b[49m\u001b[43m)\u001b[49m\n\u001b[1;32m      5\u001b[0m process_llm_response(llm_response)\n",
      "File \u001b[0;32m~/Documents/umich/2024-02 SIADS 699/capstone/.venv/lib/python3.11/site-packages/langchain_core/_api/deprecation.py:145\u001b[0m, in \u001b[0;36mdeprecated.<locals>.deprecate.<locals>.warning_emitting_wrapper\u001b[0;34m(*args, **kwargs)\u001b[0m\n\u001b[1;32m    143\u001b[0m     warned \u001b[38;5;241m=\u001b[39m \u001b[38;5;28;01mTrue\u001b[39;00m\n\u001b[1;32m    144\u001b[0m     emit_warning()\n\u001b[0;32m--> 145\u001b[0m \u001b[38;5;28;01mreturn\u001b[39;00m \u001b[43mwrapped\u001b[49m\u001b[43m(\u001b[49m\u001b[38;5;241;43m*\u001b[39;49m\u001b[43margs\u001b[49m\u001b[43m,\u001b[49m\u001b[43m \u001b[49m\u001b[38;5;241;43m*\u001b[39;49m\u001b[38;5;241;43m*\u001b[39;49m\u001b[43mkwargs\u001b[49m\u001b[43m)\u001b[49m\n",
      "File \u001b[0;32m~/Documents/umich/2024-02 SIADS 699/capstone/.venv/lib/python3.11/site-packages/langchain/chains/base.py:363\u001b[0m, in \u001b[0;36mChain.__call__\u001b[0;34m(self, inputs, return_only_outputs, callbacks, tags, metadata, run_name, include_run_info)\u001b[0m\n\u001b[1;32m    331\u001b[0m \u001b[38;5;250m\u001b[39m\u001b[38;5;124;03m\"\"\"Execute the chain.\u001b[39;00m\n\u001b[1;32m    332\u001b[0m \n\u001b[1;32m    333\u001b[0m \u001b[38;5;124;03mArgs:\u001b[39;00m\n\u001b[0;32m   (...)\u001b[0m\n\u001b[1;32m    354\u001b[0m \u001b[38;5;124;03m        `Chain.output_keys`.\u001b[39;00m\n\u001b[1;32m    355\u001b[0m \u001b[38;5;124;03m\"\"\"\u001b[39;00m\n\u001b[1;32m    356\u001b[0m config \u001b[38;5;241m=\u001b[39m {\n\u001b[1;32m    357\u001b[0m     \u001b[38;5;124m\"\u001b[39m\u001b[38;5;124mcallbacks\u001b[39m\u001b[38;5;124m\"\u001b[39m: callbacks,\n\u001b[1;32m    358\u001b[0m     \u001b[38;5;124m\"\u001b[39m\u001b[38;5;124mtags\u001b[39m\u001b[38;5;124m\"\u001b[39m: tags,\n\u001b[1;32m    359\u001b[0m     \u001b[38;5;124m\"\u001b[39m\u001b[38;5;124mmetadata\u001b[39m\u001b[38;5;124m\"\u001b[39m: metadata,\n\u001b[1;32m    360\u001b[0m     \u001b[38;5;124m\"\u001b[39m\u001b[38;5;124mrun_name\u001b[39m\u001b[38;5;124m\"\u001b[39m: run_name,\n\u001b[1;32m    361\u001b[0m }\n\u001b[0;32m--> 363\u001b[0m \u001b[38;5;28;01mreturn\u001b[39;00m \u001b[38;5;28;43mself\u001b[39;49m\u001b[38;5;241;43m.\u001b[39;49m\u001b[43minvoke\u001b[49m\u001b[43m(\u001b[49m\n\u001b[1;32m    364\u001b[0m \u001b[43m    \u001b[49m\u001b[43minputs\u001b[49m\u001b[43m,\u001b[49m\n\u001b[1;32m    365\u001b[0m \u001b[43m    \u001b[49m\u001b[43mcast\u001b[49m\u001b[43m(\u001b[49m\u001b[43mRunnableConfig\u001b[49m\u001b[43m,\u001b[49m\u001b[43m \u001b[49m\u001b[43m{\u001b[49m\u001b[43mk\u001b[49m\u001b[43m:\u001b[49m\u001b[43m \u001b[49m\u001b[43mv\u001b[49m\u001b[43m \u001b[49m\u001b[38;5;28;43;01mfor\u001b[39;49;00m\u001b[43m \u001b[49m\u001b[43mk\u001b[49m\u001b[43m,\u001b[49m\u001b[43m \u001b[49m\u001b[43mv\u001b[49m\u001b[43m \u001b[49m\u001b[38;5;129;43;01min\u001b[39;49;00m\u001b[43m \u001b[49m\u001b[43mconfig\u001b[49m\u001b[38;5;241;43m.\u001b[39;49m\u001b[43mitems\u001b[49m\u001b[43m(\u001b[49m\u001b[43m)\u001b[49m\u001b[43m \u001b[49m\u001b[38;5;28;43;01mif\u001b[39;49;00m\u001b[43m \u001b[49m\u001b[43mv\u001b[49m\u001b[43m \u001b[49m\u001b[38;5;129;43;01mis\u001b[39;49;00m\u001b[43m \u001b[49m\u001b[38;5;129;43;01mnot\u001b[39;49;00m\u001b[43m \u001b[49m\u001b[38;5;28;43;01mNone\u001b[39;49;00m\u001b[43m}\u001b[49m\u001b[43m)\u001b[49m\u001b[43m,\u001b[49m\n\u001b[1;32m    366\u001b[0m \u001b[43m    \u001b[49m\u001b[43mreturn_only_outputs\u001b[49m\u001b[38;5;241;43m=\u001b[39;49m\u001b[43mreturn_only_outputs\u001b[49m\u001b[43m,\u001b[49m\n\u001b[1;32m    367\u001b[0m \u001b[43m    \u001b[49m\u001b[43minclude_run_info\u001b[49m\u001b[38;5;241;43m=\u001b[39;49m\u001b[43minclude_run_info\u001b[49m\u001b[43m,\u001b[49m\n\u001b[1;32m    368\u001b[0m \u001b[43m\u001b[49m\u001b[43m)\u001b[49m\n",
      "File \u001b[0;32m~/Documents/umich/2024-02 SIADS 699/capstone/.venv/lib/python3.11/site-packages/langchain/chains/base.py:162\u001b[0m, in \u001b[0;36mChain.invoke\u001b[0;34m(self, input, config, **kwargs)\u001b[0m\n\u001b[1;32m    160\u001b[0m \u001b[38;5;28;01mexcept\u001b[39;00m \u001b[38;5;167;01mBaseException\u001b[39;00m \u001b[38;5;28;01mas\u001b[39;00m e:\n\u001b[1;32m    161\u001b[0m     run_manager\u001b[38;5;241m.\u001b[39mon_chain_error(e)\n\u001b[0;32m--> 162\u001b[0m     \u001b[38;5;28;01mraise\u001b[39;00m e\n\u001b[1;32m    163\u001b[0m run_manager\u001b[38;5;241m.\u001b[39mon_chain_end(outputs)\n\u001b[1;32m    164\u001b[0m final_outputs: Dict[\u001b[38;5;28mstr\u001b[39m, Any] \u001b[38;5;241m=\u001b[39m \u001b[38;5;28mself\u001b[39m\u001b[38;5;241m.\u001b[39mprep_outputs(\n\u001b[1;32m    165\u001b[0m     inputs, outputs, return_only_outputs\n\u001b[1;32m    166\u001b[0m )\n",
      "File \u001b[0;32m~/Documents/umich/2024-02 SIADS 699/capstone/.venv/lib/python3.11/site-packages/langchain/chains/base.py:156\u001b[0m, in \u001b[0;36mChain.invoke\u001b[0;34m(self, input, config, **kwargs)\u001b[0m\n\u001b[1;32m    149\u001b[0m run_manager \u001b[38;5;241m=\u001b[39m callback_manager\u001b[38;5;241m.\u001b[39mon_chain_start(\n\u001b[1;32m    150\u001b[0m     dumpd(\u001b[38;5;28mself\u001b[39m),\n\u001b[1;32m    151\u001b[0m     inputs,\n\u001b[1;32m    152\u001b[0m     name\u001b[38;5;241m=\u001b[39mrun_name,\n\u001b[1;32m    153\u001b[0m )\n\u001b[1;32m    154\u001b[0m \u001b[38;5;28;01mtry\u001b[39;00m:\n\u001b[1;32m    155\u001b[0m     outputs \u001b[38;5;241m=\u001b[39m (\n\u001b[0;32m--> 156\u001b[0m         \u001b[38;5;28;43mself\u001b[39;49m\u001b[38;5;241;43m.\u001b[39;49m\u001b[43m_call\u001b[49m\u001b[43m(\u001b[49m\u001b[43minputs\u001b[49m\u001b[43m,\u001b[49m\u001b[43m \u001b[49m\u001b[43mrun_manager\u001b[49m\u001b[38;5;241;43m=\u001b[39;49m\u001b[43mrun_manager\u001b[49m\u001b[43m)\u001b[49m\n\u001b[1;32m    157\u001b[0m         \u001b[38;5;28;01mif\u001b[39;00m new_arg_supported\n\u001b[1;32m    158\u001b[0m         \u001b[38;5;28;01melse\u001b[39;00m \u001b[38;5;28mself\u001b[39m\u001b[38;5;241m.\u001b[39m_call(inputs)\n\u001b[1;32m    159\u001b[0m     )\n\u001b[1;32m    160\u001b[0m \u001b[38;5;28;01mexcept\u001b[39;00m \u001b[38;5;167;01mBaseException\u001b[39;00m \u001b[38;5;28;01mas\u001b[39;00m e:\n\u001b[1;32m    161\u001b[0m     run_manager\u001b[38;5;241m.\u001b[39mon_chain_error(e)\n",
      "File \u001b[0;32m~/Documents/umich/2024-02 SIADS 699/capstone/.venv/lib/python3.11/site-packages/langchain/chains/retrieval_qa/base.py:141\u001b[0m, in \u001b[0;36mBaseRetrievalQA._call\u001b[0;34m(self, inputs, run_manager)\u001b[0m\n\u001b[1;32m    137\u001b[0m accepts_run_manager \u001b[38;5;241m=\u001b[39m (\n\u001b[1;32m    138\u001b[0m     \u001b[38;5;124m\"\u001b[39m\u001b[38;5;124mrun_manager\u001b[39m\u001b[38;5;124m\"\u001b[39m \u001b[38;5;129;01min\u001b[39;00m inspect\u001b[38;5;241m.\u001b[39msignature(\u001b[38;5;28mself\u001b[39m\u001b[38;5;241m.\u001b[39m_get_docs)\u001b[38;5;241m.\u001b[39mparameters\n\u001b[1;32m    139\u001b[0m )\n\u001b[1;32m    140\u001b[0m \u001b[38;5;28;01mif\u001b[39;00m accepts_run_manager:\n\u001b[0;32m--> 141\u001b[0m     docs \u001b[38;5;241m=\u001b[39m \u001b[38;5;28;43mself\u001b[39;49m\u001b[38;5;241;43m.\u001b[39;49m\u001b[43m_get_docs\u001b[49m\u001b[43m(\u001b[49m\u001b[43mquestion\u001b[49m\u001b[43m,\u001b[49m\u001b[43m \u001b[49m\u001b[43mrun_manager\u001b[49m\u001b[38;5;241;43m=\u001b[39;49m\u001b[43m_run_manager\u001b[49m\u001b[43m)\u001b[49m\n\u001b[1;32m    142\u001b[0m \u001b[38;5;28;01melse\u001b[39;00m:\n\u001b[1;32m    143\u001b[0m     docs \u001b[38;5;241m=\u001b[39m \u001b[38;5;28mself\u001b[39m\u001b[38;5;241m.\u001b[39m_get_docs(question)  \u001b[38;5;66;03m# type: ignore[call-arg]\u001b[39;00m\n",
      "File \u001b[0;32m~/Documents/umich/2024-02 SIADS 699/capstone/.venv/lib/python3.11/site-packages/langchain/chains/retrieval_qa/base.py:221\u001b[0m, in \u001b[0;36mRetrievalQA._get_docs\u001b[0;34m(self, question, run_manager)\u001b[0m\n\u001b[1;32m    214\u001b[0m \u001b[38;5;28;01mdef\u001b[39;00m \u001b[38;5;21m_get_docs\u001b[39m(\n\u001b[1;32m    215\u001b[0m     \u001b[38;5;28mself\u001b[39m,\n\u001b[1;32m    216\u001b[0m     question: \u001b[38;5;28mstr\u001b[39m,\n\u001b[1;32m    217\u001b[0m     \u001b[38;5;241m*\u001b[39m,\n\u001b[1;32m    218\u001b[0m     run_manager: CallbackManagerForChainRun,\n\u001b[1;32m    219\u001b[0m ) \u001b[38;5;241m-\u001b[39m\u001b[38;5;241m>\u001b[39m List[Document]:\n\u001b[1;32m    220\u001b[0m \u001b[38;5;250m    \u001b[39m\u001b[38;5;124;03m\"\"\"Get docs.\"\"\"\u001b[39;00m\n\u001b[0;32m--> 221\u001b[0m     \u001b[38;5;28;01mreturn\u001b[39;00m \u001b[38;5;28;43mself\u001b[39;49m\u001b[38;5;241;43m.\u001b[39;49m\u001b[43mretriever\u001b[49m\u001b[38;5;241;43m.\u001b[39;49m\u001b[43mget_relevant_documents\u001b[49m\u001b[43m(\u001b[49m\n\u001b[1;32m    222\u001b[0m \u001b[43m        \u001b[49m\u001b[43mquestion\u001b[49m\u001b[43m,\u001b[49m\u001b[43m \u001b[49m\u001b[43mcallbacks\u001b[49m\u001b[38;5;241;43m=\u001b[39;49m\u001b[43mrun_manager\u001b[49m\u001b[38;5;241;43m.\u001b[39;49m\u001b[43mget_child\u001b[49m\u001b[43m(\u001b[49m\u001b[43m)\u001b[49m\n\u001b[1;32m    223\u001b[0m \u001b[43m    \u001b[49m\u001b[43m)\u001b[49m\n",
      "File \u001b[0;32m~/Documents/umich/2024-02 SIADS 699/capstone/.venv/lib/python3.11/site-packages/langchain_core/retrievers.py:224\u001b[0m, in \u001b[0;36mBaseRetriever.get_relevant_documents\u001b[0;34m(self, query, callbacks, tags, metadata, run_name, **kwargs)\u001b[0m\n\u001b[1;32m    222\u001b[0m \u001b[38;5;28;01mexcept\u001b[39;00m \u001b[38;5;167;01mException\u001b[39;00m \u001b[38;5;28;01mas\u001b[39;00m e:\n\u001b[1;32m    223\u001b[0m     run_manager\u001b[38;5;241m.\u001b[39mon_retriever_error(e)\n\u001b[0;32m--> 224\u001b[0m     \u001b[38;5;28;01mraise\u001b[39;00m e\n\u001b[1;32m    225\u001b[0m \u001b[38;5;28;01melse\u001b[39;00m:\n\u001b[1;32m    226\u001b[0m     run_manager\u001b[38;5;241m.\u001b[39mon_retriever_end(\n\u001b[1;32m    227\u001b[0m         result,\n\u001b[1;32m    228\u001b[0m     )\n",
      "File \u001b[0;32m~/Documents/umich/2024-02 SIADS 699/capstone/.venv/lib/python3.11/site-packages/langchain_core/retrievers.py:217\u001b[0m, in \u001b[0;36mBaseRetriever.get_relevant_documents\u001b[0;34m(self, query, callbacks, tags, metadata, run_name, **kwargs)\u001b[0m\n\u001b[1;32m    215\u001b[0m _kwargs \u001b[38;5;241m=\u001b[39m kwargs \u001b[38;5;28;01mif\u001b[39;00m \u001b[38;5;28mself\u001b[39m\u001b[38;5;241m.\u001b[39m_expects_other_args \u001b[38;5;28;01melse\u001b[39;00m {}\n\u001b[1;32m    216\u001b[0m \u001b[38;5;28;01mif\u001b[39;00m \u001b[38;5;28mself\u001b[39m\u001b[38;5;241m.\u001b[39m_new_arg_supported:\n\u001b[0;32m--> 217\u001b[0m     result \u001b[38;5;241m=\u001b[39m \u001b[38;5;28;43mself\u001b[39;49m\u001b[38;5;241;43m.\u001b[39;49m\u001b[43m_get_relevant_documents\u001b[49m\u001b[43m(\u001b[49m\n\u001b[1;32m    218\u001b[0m \u001b[43m        \u001b[49m\u001b[43mquery\u001b[49m\u001b[43m,\u001b[49m\u001b[43m \u001b[49m\u001b[43mrun_manager\u001b[49m\u001b[38;5;241;43m=\u001b[39;49m\u001b[43mrun_manager\u001b[49m\u001b[43m,\u001b[49m\u001b[43m \u001b[49m\u001b[38;5;241;43m*\u001b[39;49m\u001b[38;5;241;43m*\u001b[39;49m\u001b[43m_kwargs\u001b[49m\n\u001b[1;32m    219\u001b[0m \u001b[43m    \u001b[49m\u001b[43m)\u001b[49m\n\u001b[1;32m    220\u001b[0m \u001b[38;5;28;01melse\u001b[39;00m:\n\u001b[1;32m    221\u001b[0m     result \u001b[38;5;241m=\u001b[39m \u001b[38;5;28mself\u001b[39m\u001b[38;5;241m.\u001b[39m_get_relevant_documents(query, \u001b[38;5;241m*\u001b[39m\u001b[38;5;241m*\u001b[39m_kwargs)\n",
      "File \u001b[0;32m~/Documents/umich/2024-02 SIADS 699/capstone/.venv/lib/python3.11/site-packages/langchain_core/vectorstores.py:654\u001b[0m, in \u001b[0;36mVectorStoreRetriever._get_relevant_documents\u001b[0;34m(self, query, run_manager)\u001b[0m\n\u001b[1;32m    650\u001b[0m \u001b[38;5;28;01mdef\u001b[39;00m \u001b[38;5;21m_get_relevant_documents\u001b[39m(\n\u001b[1;32m    651\u001b[0m     \u001b[38;5;28mself\u001b[39m, query: \u001b[38;5;28mstr\u001b[39m, \u001b[38;5;241m*\u001b[39m, run_manager: CallbackManagerForRetrieverRun\n\u001b[1;32m    652\u001b[0m ) \u001b[38;5;241m-\u001b[39m\u001b[38;5;241m>\u001b[39m List[Document]:\n\u001b[1;32m    653\u001b[0m     \u001b[38;5;28;01mif\u001b[39;00m \u001b[38;5;28mself\u001b[39m\u001b[38;5;241m.\u001b[39msearch_type \u001b[38;5;241m==\u001b[39m \u001b[38;5;124m\"\u001b[39m\u001b[38;5;124msimilarity\u001b[39m\u001b[38;5;124m\"\u001b[39m:\n\u001b[0;32m--> 654\u001b[0m         docs \u001b[38;5;241m=\u001b[39m \u001b[38;5;28;43mself\u001b[39;49m\u001b[38;5;241;43m.\u001b[39;49m\u001b[43mvectorstore\u001b[49m\u001b[38;5;241;43m.\u001b[39;49m\u001b[43msimilarity_search\u001b[49m\u001b[43m(\u001b[49m\u001b[43mquery\u001b[49m\u001b[43m,\u001b[49m\u001b[43m \u001b[49m\u001b[38;5;241;43m*\u001b[39;49m\u001b[38;5;241;43m*\u001b[39;49m\u001b[38;5;28;43mself\u001b[39;49m\u001b[38;5;241;43m.\u001b[39;49m\u001b[43msearch_kwargs\u001b[49m\u001b[43m)\u001b[49m\n\u001b[1;32m    655\u001b[0m     \u001b[38;5;28;01melif\u001b[39;00m \u001b[38;5;28mself\u001b[39m\u001b[38;5;241m.\u001b[39msearch_type \u001b[38;5;241m==\u001b[39m \u001b[38;5;124m\"\u001b[39m\u001b[38;5;124msimilarity_score_threshold\u001b[39m\u001b[38;5;124m\"\u001b[39m:\n\u001b[1;32m    656\u001b[0m         docs_and_similarities \u001b[38;5;241m=\u001b[39m (\n\u001b[1;32m    657\u001b[0m             \u001b[38;5;28mself\u001b[39m\u001b[38;5;241m.\u001b[39mvectorstore\u001b[38;5;241m.\u001b[39msimilarity_search_with_relevance_scores(\n\u001b[1;32m    658\u001b[0m                 query, \u001b[38;5;241m*\u001b[39m\u001b[38;5;241m*\u001b[39m\u001b[38;5;28mself\u001b[39m\u001b[38;5;241m.\u001b[39msearch_kwargs\n\u001b[1;32m    659\u001b[0m             )\n\u001b[1;32m    660\u001b[0m         )\n",
      "File \u001b[0;32m~/Documents/umich/2024-02 SIADS 699/capstone/.venv/lib/python3.11/site-packages/langchain_community/vectorstores/chroma.py:348\u001b[0m, in \u001b[0;36mChroma.similarity_search\u001b[0;34m(self, query, k, filter, **kwargs)\u001b[0m\n\u001b[1;32m    331\u001b[0m \u001b[38;5;28;01mdef\u001b[39;00m \u001b[38;5;21msimilarity_search\u001b[39m(\n\u001b[1;32m    332\u001b[0m     \u001b[38;5;28mself\u001b[39m,\n\u001b[1;32m    333\u001b[0m     query: \u001b[38;5;28mstr\u001b[39m,\n\u001b[0;32m   (...)\u001b[0m\n\u001b[1;32m    336\u001b[0m     \u001b[38;5;241m*\u001b[39m\u001b[38;5;241m*\u001b[39mkwargs: Any,\n\u001b[1;32m    337\u001b[0m ) \u001b[38;5;241m-\u001b[39m\u001b[38;5;241m>\u001b[39m List[Document]:\n\u001b[1;32m    338\u001b[0m \u001b[38;5;250m    \u001b[39m\u001b[38;5;124;03m\"\"\"Run similarity search with Chroma.\u001b[39;00m\n\u001b[1;32m    339\u001b[0m \n\u001b[1;32m    340\u001b[0m \u001b[38;5;124;03m    Args:\u001b[39;00m\n\u001b[0;32m   (...)\u001b[0m\n\u001b[1;32m    346\u001b[0m \u001b[38;5;124;03m        List[Document]: List of documents most similar to the query text.\u001b[39;00m\n\u001b[1;32m    347\u001b[0m \u001b[38;5;124;03m    \"\"\"\u001b[39;00m\n\u001b[0;32m--> 348\u001b[0m     docs_and_scores \u001b[38;5;241m=\u001b[39m \u001b[38;5;28;43mself\u001b[39;49m\u001b[38;5;241;43m.\u001b[39;49m\u001b[43msimilarity_search_with_score\u001b[49m\u001b[43m(\u001b[49m\n\u001b[1;32m    349\u001b[0m \u001b[43m        \u001b[49m\u001b[43mquery\u001b[49m\u001b[43m,\u001b[49m\u001b[43m \u001b[49m\u001b[43mk\u001b[49m\u001b[43m,\u001b[49m\u001b[43m \u001b[49m\u001b[38;5;28;43mfilter\u001b[39;49m\u001b[38;5;241;43m=\u001b[39;49m\u001b[38;5;28;43mfilter\u001b[39;49m\u001b[43m,\u001b[49m\u001b[43m \u001b[49m\u001b[38;5;241;43m*\u001b[39;49m\u001b[38;5;241;43m*\u001b[39;49m\u001b[43mkwargs\u001b[49m\n\u001b[1;32m    350\u001b[0m \u001b[43m    \u001b[49m\u001b[43m)\u001b[49m\n\u001b[1;32m    351\u001b[0m     \u001b[38;5;28;01mreturn\u001b[39;00m [doc \u001b[38;5;28;01mfor\u001b[39;00m doc, _ \u001b[38;5;129;01min\u001b[39;00m docs_and_scores]\n",
      "File \u001b[0;32m~/Documents/umich/2024-02 SIADS 699/capstone/.venv/lib/python3.11/site-packages/langchain_community/vectorstores/chroma.py:437\u001b[0m, in \u001b[0;36mChroma.similarity_search_with_score\u001b[0;34m(self, query, k, filter, where_document, **kwargs)\u001b[0m\n\u001b[1;32m    429\u001b[0m     results \u001b[38;5;241m=\u001b[39m \u001b[38;5;28mself\u001b[39m\u001b[38;5;241m.\u001b[39m__query_collection(\n\u001b[1;32m    430\u001b[0m         query_texts\u001b[38;5;241m=\u001b[39m[query],\n\u001b[1;32m    431\u001b[0m         n_results\u001b[38;5;241m=\u001b[39mk,\n\u001b[0;32m   (...)\u001b[0m\n\u001b[1;32m    434\u001b[0m         \u001b[38;5;241m*\u001b[39m\u001b[38;5;241m*\u001b[39mkwargs,\n\u001b[1;32m    435\u001b[0m     )\n\u001b[1;32m    436\u001b[0m \u001b[38;5;28;01melse\u001b[39;00m:\n\u001b[0;32m--> 437\u001b[0m     query_embedding \u001b[38;5;241m=\u001b[39m \u001b[38;5;28;43mself\u001b[39;49m\u001b[38;5;241;43m.\u001b[39;49m\u001b[43m_embedding_function\u001b[49m\u001b[38;5;241;43m.\u001b[39;49m\u001b[43membed_query\u001b[49m\u001b[43m(\u001b[49m\u001b[43mquery\u001b[49m\u001b[43m)\u001b[49m\n\u001b[1;32m    438\u001b[0m     results \u001b[38;5;241m=\u001b[39m \u001b[38;5;28mself\u001b[39m\u001b[38;5;241m.\u001b[39m__query_collection(\n\u001b[1;32m    439\u001b[0m         query_embeddings\u001b[38;5;241m=\u001b[39m[query_embedding],\n\u001b[1;32m    440\u001b[0m         n_results\u001b[38;5;241m=\u001b[39mk,\n\u001b[0;32m   (...)\u001b[0m\n\u001b[1;32m    443\u001b[0m         \u001b[38;5;241m*\u001b[39m\u001b[38;5;241m*\u001b[39mkwargs,\n\u001b[1;32m    444\u001b[0m     )\n\u001b[1;32m    446\u001b[0m \u001b[38;5;28;01mreturn\u001b[39;00m _results_to_docs_and_scores(results)\n",
      "File \u001b[0;32m~/Documents/umich/2024-02 SIADS 699/capstone/.venv/lib/python3.11/site-packages/langchain_community/embeddings/ollama.py:217\u001b[0m, in \u001b[0;36mOllamaEmbeddings.embed_query\u001b[0;34m(self, text)\u001b[0m\n\u001b[1;32m    208\u001b[0m \u001b[38;5;250m\u001b[39m\u001b[38;5;124;03m\"\"\"Embed a query using a Ollama deployed embedding model.\u001b[39;00m\n\u001b[1;32m    209\u001b[0m \n\u001b[1;32m    210\u001b[0m \u001b[38;5;124;03mArgs:\u001b[39;00m\n\u001b[0;32m   (...)\u001b[0m\n\u001b[1;32m    214\u001b[0m \u001b[38;5;124;03m    Embeddings for the text.\u001b[39;00m\n\u001b[1;32m    215\u001b[0m \u001b[38;5;124;03m\"\"\"\u001b[39;00m\n\u001b[1;32m    216\u001b[0m instruction_pair \u001b[38;5;241m=\u001b[39m \u001b[38;5;124mf\u001b[39m\u001b[38;5;124m\"\u001b[39m\u001b[38;5;132;01m{\u001b[39;00m\u001b[38;5;28mself\u001b[39m\u001b[38;5;241m.\u001b[39mquery_instruction\u001b[38;5;132;01m}\u001b[39;00m\u001b[38;5;132;01m{\u001b[39;00mtext\u001b[38;5;132;01m}\u001b[39;00m\u001b[38;5;124m\"\u001b[39m\n\u001b[0;32m--> 217\u001b[0m embedding \u001b[38;5;241m=\u001b[39m \u001b[38;5;28;43mself\u001b[39;49m\u001b[38;5;241;43m.\u001b[39;49m\u001b[43m_embed\u001b[49m\u001b[43m(\u001b[49m\u001b[43m[\u001b[49m\u001b[43minstruction_pair\u001b[49m\u001b[43m]\u001b[49m\u001b[43m)\u001b[49m[\u001b[38;5;241m0\u001b[39m]\n\u001b[1;32m    218\u001b[0m \u001b[38;5;28;01mreturn\u001b[39;00m embedding\n",
      "File \u001b[0;32m~/Documents/umich/2024-02 SIADS 699/capstone/.venv/lib/python3.11/site-packages/langchain_community/embeddings/ollama.py:192\u001b[0m, in \u001b[0;36mOllamaEmbeddings._embed\u001b[0;34m(self, input)\u001b[0m\n\u001b[1;32m    190\u001b[0m \u001b[38;5;28;01melse\u001b[39;00m:\n\u001b[1;32m    191\u001b[0m     iter_ \u001b[38;5;241m=\u001b[39m \u001b[38;5;28minput\u001b[39m\n\u001b[0;32m--> 192\u001b[0m \u001b[38;5;28;01mreturn\u001b[39;00m \u001b[43m[\u001b[49m\u001b[38;5;28;43mself\u001b[39;49m\u001b[38;5;241;43m.\u001b[39;49m\u001b[43m_process_emb_response\u001b[49m\u001b[43m(\u001b[49m\u001b[43mprompt\u001b[49m\u001b[43m)\u001b[49m\u001b[43m \u001b[49m\u001b[38;5;28;43;01mfor\u001b[39;49;00m\u001b[43m \u001b[49m\u001b[43mprompt\u001b[49m\u001b[43m \u001b[49m\u001b[38;5;129;43;01min\u001b[39;49;00m\u001b[43m \u001b[49m\u001b[43miter_\u001b[49m\u001b[43m]\u001b[49m\n",
      "File \u001b[0;32m~/Documents/umich/2024-02 SIADS 699/capstone/.venv/lib/python3.11/site-packages/langchain_community/embeddings/ollama.py:192\u001b[0m, in \u001b[0;36m<listcomp>\u001b[0;34m(.0)\u001b[0m\n\u001b[1;32m    190\u001b[0m \u001b[38;5;28;01melse\u001b[39;00m:\n\u001b[1;32m    191\u001b[0m     iter_ \u001b[38;5;241m=\u001b[39m \u001b[38;5;28minput\u001b[39m\n\u001b[0;32m--> 192\u001b[0m \u001b[38;5;28;01mreturn\u001b[39;00m [\u001b[38;5;28;43mself\u001b[39;49m\u001b[38;5;241;43m.\u001b[39;49m\u001b[43m_process_emb_response\u001b[49m\u001b[43m(\u001b[49m\u001b[43mprompt\u001b[49m\u001b[43m)\u001b[49m \u001b[38;5;28;01mfor\u001b[39;00m prompt \u001b[38;5;129;01min\u001b[39;00m iter_]\n",
      "File \u001b[0;32m~/Documents/umich/2024-02 SIADS 699/capstone/.venv/lib/python3.11/site-packages/langchain_community/embeddings/ollama.py:166\u001b[0m, in \u001b[0;36mOllamaEmbeddings._process_emb_response\u001b[0;34m(self, input)\u001b[0m\n\u001b[1;32m    163\u001b[0m     \u001b[38;5;28;01mraise\u001b[39;00m \u001b[38;5;167;01mValueError\u001b[39;00m(\u001b[38;5;124mf\u001b[39m\u001b[38;5;124m\"\u001b[39m\u001b[38;5;124mError raised by inference endpoint: \u001b[39m\u001b[38;5;132;01m{\u001b[39;00me\u001b[38;5;132;01m}\u001b[39;00m\u001b[38;5;124m\"\u001b[39m)\n\u001b[1;32m    165\u001b[0m \u001b[38;5;28;01mif\u001b[39;00m res\u001b[38;5;241m.\u001b[39mstatus_code \u001b[38;5;241m!=\u001b[39m \u001b[38;5;241m200\u001b[39m:\n\u001b[0;32m--> 166\u001b[0m     \u001b[38;5;28;01mraise\u001b[39;00m \u001b[38;5;167;01mValueError\u001b[39;00m(\n\u001b[1;32m    167\u001b[0m         \u001b[38;5;124m\"\u001b[39m\u001b[38;5;124mError raised by inference API HTTP code: \u001b[39m\u001b[38;5;132;01m%s\u001b[39;00m\u001b[38;5;124m, \u001b[39m\u001b[38;5;132;01m%s\u001b[39;00m\u001b[38;5;124m\"\u001b[39m\n\u001b[1;32m    168\u001b[0m         \u001b[38;5;241m%\u001b[39m (res\u001b[38;5;241m.\u001b[39mstatus_code, res\u001b[38;5;241m.\u001b[39mtext)\n\u001b[1;32m    169\u001b[0m     )\n\u001b[1;32m    170\u001b[0m \u001b[38;5;28;01mtry\u001b[39;00m:\n\u001b[1;32m    171\u001b[0m     t \u001b[38;5;241m=\u001b[39m res\u001b[38;5;241m.\u001b[39mjson()\n",
      "\u001b[0;31mValueError\u001b[0m: Error raised by inference API HTTP code: 404, {\"error\":\"model 'Llama2' not found, try pulling it first\"}"
     ]
    }
   ],
   "source": [
    "# Question\n",
    "query = \"Tell me what I need to turn in for the capstone project\"\n",
    "# query = \"Which course can I take to learn about degree centrality?\"\n",
    "llm_response = qa_chain(query)\n",
    "process_llm_response(llm_response)"
   ]
  },
  {
   "cell_type": "code",
   "execution_count": null,
   "id": "ba0d7276-abc4-4467-8eb9-0726764547a8",
   "metadata": {},
   "outputs": [],
   "source": []
  }
 ],
 "metadata": {
  "kernelspec": {
   "display_name": "Python 3 (ipykernel)",
   "language": "python",
   "name": "python3"
  },
  "language_info": {
   "codemirror_mode": {
    "name": "ipython",
    "version": 3
   },
   "file_extension": ".py",
   "mimetype": "text/x-python",
   "name": "python",
   "nbconvert_exporter": "python",
   "pygments_lexer": "ipython3",
   "version": "3.11.3"
  }
 },
 "nbformat": 4,
 "nbformat_minor": 5
}
