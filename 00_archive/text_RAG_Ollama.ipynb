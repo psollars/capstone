{
 "cells": [
  {
   "cell_type": "code",
   "execution_count": 4,
   "id": "c91f286f-c77e-4a16-8855-19586be59bda",
   "metadata": {},
   "outputs": [],
   "source": [
    "# Adapted from Medium article by Rubentak dated 24 October 2023:\n",
    "# https://medium.com/@rubentak/talk-to-your-files-in-a-local-rag-application-using-mistral-7b-langchain-and-chroma-db-no-2b4ba77358e0\n",
    "# Requires Ollama (see ollama.ai)\n",
    "\n",
    "from langchain.vectorstores import Chroma\n",
    "from langchain.llms import Ollama\n",
    "from langchain.callbacks.manager import CallbackManager\n",
    "from langchain.callbacks.streaming_stdout import StreamingStdOutCallbackHandler\n",
    "from langchain.embeddings import OllamaEmbeddings\n",
    "from langchain.text_splitter import RecursiveCharacterTextSplitter\n",
    "from langchain.chains import RetrievalQA"
   ]
  },
  {
   "cell_type": "code",
   "execution_count": 5,
   "id": "54be1acc-f17d-4a18-9cdd-fefddbe53a42",
   "metadata": {},
   "outputs": [],
   "source": [
    "# Ollama embeddings\n",
    "embeddings_open = OllamaEmbeddings(model=\"Llama2\")\n",
    "# (model=\"mistral\")\n",
    "\n",
    "# Download Ollama executable\n",
    "\n",
    "# model=\"mistral\",\n",
    "llm_open = Ollama(\n",
    "    model=\"Llama2\", callback_manager=CallbackManager([StreamingStdOutCallbackHandler()])\n",
    ")"
   ]
  },
  {
   "cell_type": "code",
   "execution_count": 6,
   "id": "599a708e-be6e-4a3a-8f0a-2bd6c0e5c665",
   "metadata": {},
   "outputs": [
    {
     "data": {
      "text/plain": [
       "30"
      ]
     },
     "execution_count": 6,
     "metadata": {},
     "output_type": "execute_result"
    }
   ],
   "source": [
    "from langchain.document_loaders import DirectoryLoader\n",
    "from langchain_community.document_loaders import TextLoader\n",
    "\n",
    "loader = DirectoryLoader(\"./parsed_syllabi\", glob=\"*.txt\", loader_cls=TextLoader)\n",
    "\n",
    "doc = loader.load()\n",
    "\n",
    "len(doc)"
   ]
  },
  {
   "cell_type": "code",
   "execution_count": 12,
   "id": "00bfa8a4-6008-46c8-9cf3-28ab3d213b06",
   "metadata": {},
   "outputs": [
    {
     "data": {
      "text/plain": [
       "Document(page_content=\"Course Syllabus for SIADS 515: Efficient Data Processing Course Overview and Prerequisites This course will introduce students to the basics of the linux command-line interface, debugging concepts, basic algorithmic principles such as memoization, recursion, caching, and generators, as well as efficiency and code profiling.\\n\\nThere are no prerequisites. Instructor and Course Assistants Instructor: Chris Teplovs, Ph.D. Lecturer IV in Information and Research Investigator, School of Information\\n\\nCourse Assistant: Kris Steinhoff, Intermittent Lecturer in Information, School of Information and Staff Data Engineer, Toyota Research Institute Course Communication Expectations If you have questions about course content (e.g. lecture videos, quizzes, or assignments), please use the class Slack channel to discuss with classmates and the instructional team. Instructor and course assistant response time to Slack messages will be within 24 hours. Personal communication that may involve sensitive information can be emailed directly to the instructional team at siads-515-fall-2021-instructors@umich.edu . Instructor and course assistant response time to email messages will be within 24 hours. Required Weekly Textbooks and Readings See the Library’s access instructions for the readings hosted by O’Reilly Online. Week 1: Linux Command-Line Interface The Linux Command Line by William Shotts (Chapters 1-4 only) Week 2: Iterators, Generators, Decorators Iterators and Generators Effective Python: 90 Specific Ways to Write Better Python by Brett Slatkin (Chapter 4. Comprehensions and Generators) Decorators Head First Python, 2nd Edition Second Edition by Paul Barry (Chapter 10. Function Decorators: Wrapping Functions) Week 3: Debugging The Visual Python Debugger for Jupyter Notebooks You’ve Always Wanted by David Taieb Python Scope & the LEGB Rule: Resolving Names in Your Code by Leodanis Pozo Ramos Week 4: Complexity and Optimization A Common-Sense Guide to Data Structures and Algorithms by Jay Wengrow (Chapter 3) Python Data Science Handbook by Jake VanderPlasw (Chapter 1, section 7: Profiling and Timing Code) Learning Outcomes Familiarity with the linux command-line interface Understanding generators, memoizing and cacheing Debugging Efficient data structures Theory and measurement of complexity Course Schedule This course begins on Monday September 27 and ends on Sunday October 24, 2021 . Weekly assignments will be due on Sunday at 11:59 pm (Ann Arbor, Michigan time- Eastern Daylight Time - EDT, UTC -4). In Week 1 , you will be introduced to the linux command line interface (CLI) and you will learn basic data manipulation techniques without having to use Python. In Week 2 , you will learn about iterators, generators, decorators, caching, and memoization -- all useful techniques to improve the writing and execution of your code. In Week 3 , we will review some basic data structures, learn to use advanced ones to help with data manipulation, and debugging techniques for data science. In Week 4 , we will discuss algorithmic complexity and look at how we can use profiling to improve the efficiency of our code. Weekly Office Hours via Zoom (Ann Arbor, Michigan time): Your instructor will hold weekly, synchronous office hours using the video-conferencing tool, Zoom. The schedule of office hours can be found by clicking on the Live Events link in the lefthand navigation menu. Additionally, all office hours will be recorded and archived so that you can retrieve at a later date. Archived office hours can be found in respective module of the course. Grading Course Item Percentage of Final Grade Due Week 1 Assignment 25% Sunday, October 3, 2021 Week 2 Assignment 25% Sunday, October 10, 2021 Week 3 Assignment 25% Sunday, October 17, 2021 Week 4 Assignment 25% Sunday, October 24, 2021 Total 100% Note: All assignments are required to earn credit for this course. Letter Grades, Course Grades, and Late Submission Policy We realize that the occasional crisis might mess up your schedule enough to require a bit of extra time in completing a course assignment. Thus, we have instituted the following late policy that gives you a limited number of flexible “late day” credits. You have three (3) free late days to use during SIADS 515. One late day equals exactly one 24-hour period after the due date of the assignment (including weekends). No fractional late days: they are all or nothing. Once you have used up your late days, 25% penalty for each subsequent 24-hour period after the deadline that an assignment is late. For example, if the due date is 11:59pm Sunday, with no late days left, penalties would be: Before 11:59pm Monday: 25% deduction Before 11:59pm Tuesday: 50% deduction Before 11:59pm Wednesday: 75% deduction After 11:59pm Thursday: 100% deduction You don't need to explain or get permission to use late days, and we will track them for you. Note that resubmissions after the deadline will be counted as late submissions. The grading scale for this course is as follows: A 95% A- 90% B+ 87% B 83% B- 80% C+ 77% C 73% C- 70% D+ 67% D 63% D- 60% F 0% Academic Integrity/Code of Conduct Refer to the Academic and Professional Integrity section of the UMSI Student Handbook. (access to Student Orientation course required). Accommodations Refer to the Accommodations for Students with Disabilities section of the UMSI Student Handbook. Use the\\xa0 Student Application Form in Accommodate to begin the process of working with the University’s Office of Services for Students with Disabilities. Accessibility Refer to the Screen reader configuration for Jupyter Notebook Content document to learn accessibility tips for Jupyter Notebooks. Help Desk(s): How to get Help Degree program questions or general help - umsimadshelp@umich.edu Coursera’s Technical Support (24/7) - https://learner.coursera.help/ Library Access Refer to the U-M Library’s information sheet on accessing library resources from off-campus. For more information regarding library support services, please refer to the U-M Library Resources section of the UMSI Student Handbook (access to the Student Orientation course required). Student Mental Health Refer to the University’s Resources for Stress and Mental Health website for a listing of resources for students. Student Services Refer to the Introduction to UMSI Student Life section of the UMSI Student Handbook (access to the Student Orientation course required). Technology Tips Recommended Technology This program requires Jupyter Notebook for completion of problem sets and Adobe or other PDF viewer for reading articles. Working Offline While the Coursera platform has an integrated Jupyter Notebook system, you can work offline on your own computer by installing Python 3.5+ and the Jupyter software packages. For more details, consult the Jupyter Notebook FAQ .\", metadata={'source': 'parsed_syllabi/2021-10_515.txt'})"
      ]
     },
     "execution_count": 12,
     "metadata": {},
     "output_type": "execute_result"
    }
   ],
   "source": [
    "doc[0]"
   ]
  },
  {
   "cell_type": "code",
   "execution_count": 6,
   "id": "85becf91-4eeb-4b5d-8fb0-41daf80daac8",
   "metadata": {},
   "outputs": [
    {
     "data": {
      "text/plain": [
       "313"
      ]
     },
     "execution_count": 6,
     "metadata": {},
     "output_type": "execute_result"
    }
   ],
   "source": [
    "text_splitter = RecursiveCharacterTextSplitter(chunk_size=1000, chunk_overlap=100)\n",
    "texts = text_splitter.split_documents(doc)\n",
    "\n",
    "len(texts)"
   ]
  },
  {
   "cell_type": "code",
   "execution_count": 13,
   "id": "0ee2f71f-54a8-48fd-a54a-d0b7295e89a4",
   "metadata": {},
   "outputs": [
    {
     "data": {
      "text/plain": [
       "Document(page_content='working from notes you took while participating in a study session. Largely duplicate copies of the same assignment will receive an equal division of the total point score from the one piece of work. You may incorporate selected excerpts from publications by other authors, but they must be clearly marked as quotations and must be attributed. If you build on the ideas of prior authors, you must cite their work. You may obtain copy editing assistance, and you may discuss your ideas with others, but all substantive writing and ideas must be your own, or be explicitly attributed to another. See the Rackham Graduate policy on Academic and Professional Integrity for the definition of plagiarism, and associated consequences. Letter Grades, Course Grades, and Late Submission Policy If you are late submitting an assignment, the following late policy will typically apply: 15% reduction if assignment is turned in one day late, 30% reduction if two days late, 45% reduction if three days late, and', metadata={'source': 'parsed_syllabi/2023-12_688.txt'})"
      ]
     },
     "execution_count": 13,
     "metadata": {},
     "output_type": "execute_result"
    }
   ],
   "source": [
    "texts[32]"
   ]
  },
  {
   "cell_type": "code",
   "execution_count": 9,
   "id": "4f12e00f-89c5-44cd-9316-afe247728ed7",
   "metadata": {},
   "outputs": [],
   "source": [
    "persist_directory = \"chromadb_test\""
   ]
  },
  {
   "cell_type": "code",
   "execution_count": 17,
   "id": "a47dfbe0",
   "metadata": {},
   "outputs": [
    {
     "name": "stderr",
     "output_type": "stream",
     "text": [
      "/Users/Pat/Documents/umich/2024-02 SIADS 699/capstone/.venv/lib/python3.11/site-packages/tqdm/auto.py:21: TqdmWarning: IProgress not found. Please update jupyter and ipywidgets. See https://ipywidgets.readthedocs.io/en/stable/user_install.html\n",
      "  from .autonotebook import tqdm as notebook_tqdm\n",
      "config.json: 100%|██████████| 612/612 [00:00<00:00, 1.29MB/s]\n",
      "\n",
      "data_config.json: 100%|██████████| 39.3k/39.3k [00:00<00:00, 18.4MB/s]\n",
      ".gitattributes: 100%|██████████| 1.18k/1.18k [00:00<00:00, 138kB/s]\n",
      "\n",
      "\n",
      "Fetching 16 files:   6%|▋         | 1/16 [00:00<00:03,  3.79it/s]\n",
      "1_Pooling/config.json: 100%|██████████| 190/190 [00:00<00:00, 37.2kB/s]\n",
      "modules.json: 100%|██████████| 349/349 [00:00<00:00, 27.6kB/s]\n",
      "README.md: 100%|██████████| 10.7k/10.7k [00:00<00:00, 1.10MB/s]\n",
      "config_sentence_transformers.json: 100%|██████████| 116/116 [00:00<00:00, 213kB/s]\n",
      "\n",
      "sentence_bert_config.json: 100%|██████████| 53.0/53.0 [00:00<00:00, 241kB/s]\n",
      "\n",
      "special_tokens_map.json: 100%|██████████| 112/112 [00:00<00:00, 200kB/s]\n",
      "\n",
      "tokenizer_config.json: 100%|██████████| 350/350 [00:00<00:00, 197kB/s]\n",
      "\n",
      "\u001b[A\n",
      "\n",
      "\u001b[A\u001b[A\n",
      "\n",
      "\n",
      "train_script.py: 100%|██████████| 13.2k/13.2k [00:00<00:00, 32.5MB/s]\n",
      "\n",
      "\n",
      "\n",
      "\u001b[A\u001b[A\u001b[A\n",
      "\n",
      "\n",
      "\n",
      "\u001b[A\u001b[A\u001b[A\u001b[A\n",
      "tokenizer.json: 100%|██████████| 466k/466k [00:00<00:00, 4.26MB/s]\n",
      "vocab.txt: 100%|██████████| 232k/232k [00:00<00:00, 4.16MB/s]\n",
      "\n",
      "\n",
      "\n",
      "\u001b[A\u001b[A\u001b[A\n",
      "\n",
      "\n",
      "\u001b[A\u001b[A\u001b[A\n",
      "\n",
      "\n",
      "\u001b[A\u001b[A\u001b[A\n",
      "\n",
      "\u001b[A\u001b[A\n",
      "\n",
      "\n",
      "\u001b[A\u001b[A\u001b[A\n",
      "\n",
      "\n",
      "\u001b[A\u001b[A\u001b[A\n",
      "\n",
      "\u001b[A\u001b[A\n",
      "\n",
      "\n",
      "\u001b[A\u001b[A\u001b[A\n",
      "\n",
      "\n",
      "\u001b[A\u001b[A\u001b[A\n",
      "\n",
      "\n",
      "\u001b[A\u001b[A\u001b[A\n",
      "\n",
      "pytorch_model.bin: 100%|██████████| 90.9M/90.9M [00:03<00:00, 24.3MB/s]\n",
      "Fetching 16 files:  50%|█████     | 8/16 [00:04<00:04,  1.90it/s]\n",
      "\n",
      "\n",
      "tf_model.h5: 100%|██████████| 91.0M/91.0M [00:03<00:00, 24.2MB/s]\n",
      "\n",
      "\n",
      "\u001b[A\u001b[A\n",
      "\n",
      "\u001b[A\u001b[A\n",
      "\n",
      "\u001b[A\u001b[A\n",
      "\n",
      "\u001b[A\u001b[A\n",
      "\n",
      "\u001b[A\u001b[A\n",
      "\n",
      "rust_model.ot: 100%|██████████| 90.9M/90.9M [00:06<00:00, 14.6MB/s]\n",
      "Fetching 16 files: 100%|██████████| 16/16 [00:06<00:00,  2.37it/s]\n"
     ]
    },
    {
     "data": {
      "text/plain": [
       "'/Users/Pat/.cache/huggingface/hub/models--sentence-transformers--all-MiniLM-L6-v2/snapshots/1a310852cf8e58d22c5ebff537711d504ad4ad66'"
      ]
     },
     "execution_count": 17,
     "metadata": {},
     "output_type": "execute_result"
    }
   ],
   "source": [
    "from huggingface_hub import snapshot_download\n",
    "\n",
    "# Running hugging face hub in a cell and downloading cache\n",
    "snapshot_download(repo_id=\"sentence-transformers/all-MiniLM-L6-v2\")"
   ]
  },
  {
   "cell_type": "code",
   "execution_count": null,
   "id": "94dc14ad",
   "metadata": {},
   "outputs": [],
   "source": [
    "vectordb = Chroma.from_documents(\n",
    "    documents=texts,\n",
    "    collection_name=\"MADS\",\n",
    "    # Chose the embedding you want to use\n",
    "    embedding=embeddings_open,\n",
    "    persist_directory=persist_directory,\n",
    ")"
   ]
  },
  {
   "cell_type": "code",
   "execution_count": 22,
   "id": "36b1f758-0f78-45ad-93fe-61aae13cb2ff",
   "metadata": {},
   "outputs": [],
   "source": [
    "# Save to disk\n",
    "vectordb.persist()\n",
    "vectordb = None"
   ]
  },
  {
   "cell_type": "code",
   "execution_count": 10,
   "id": "522ac177-1e49-4d5b-bff2-2f8f1d6aa03c",
   "metadata": {},
   "outputs": [],
   "source": [
    "# Reload from disk\n",
    "vectordb = Chroma('MADS', persist_directory = persist_directory,\n",
    "                  embedding_function = embeddings_open,\n",
    "                  collection_metadata={\"hnsw:space\": \"cosine\"})"
   ]
  },
  {
   "cell_type": "code",
   "execution_count": 11,
   "id": "79d51609-9ca9-4fd6-bc42-ac7c418994cb",
   "metadata": {},
   "outputs": [],
   "source": [
    "# Create retriever\n",
    "retriever = vectordb.as_retriever(\n",
    "    # search_type=\"mmr\",\n",
    "    # search_kwargs={'k': 5, 'fetch_k': 20}\n",
    "    # search_type=\"similarity_score_threshold\",\n",
    "    # search_kwargs={'score_threshold': 0.8}\n",
    ")"
   ]
  },
  {
   "cell_type": "code",
   "execution_count": 12,
   "id": "1df02303-8529-4df0-b385-db163b0af60e",
   "metadata": {},
   "outputs": [
    {
     "data": {
      "text/plain": [
       "4"
      ]
     },
     "execution_count": 12,
     "metadata": {},
     "output_type": "execute_result"
    }
   ],
   "source": [
    "docs = retriever.get_relevant_documents(\"Who is the course manager for SIADS 699?\")\n",
    "len(docs)"
   ]
  },
  {
   "cell_type": "code",
   "execution_count": 13,
   "id": "66f09304",
   "metadata": {},
   "outputs": [
    {
     "data": {
      "text/plain": [
       "[Document(page_content='Services for Students with Disabilities.\\nAccessibility\\nIf you have accessibility issues with the material in this class, please reach out to the instructional team.\\nStudent Mental Health\\nRefer to the University’s Resources for Stress and Mental Health website for a listing of resources for students.\\nStudent Services\\nRefer to the Introduction to UMSI Student Life section of the UMSI Student Handbook (access to the Student Orientation course\\nrequired).\\nTechnology Tips\\n● Working Offline\\n○ If you have an issue with ongoing access to the coursera platform, and have docker running on your local\\ncomputer, please reach out to the instructional team for help getting setup offline.', metadata={'source': 'parsed_syllabi/2023-03_643.txt'}),\n",
       " Document(page_content='For questions regarding course content, refer to the Communications Expectations section above. \\n \\nWeekly Readings or Textbook Information \\n \\n \\n \\n \\nDaniel M Romero \\nAssociate Professor  \\nSchool of Information \\nComplex Systems \\nComputer Science \\nEmail: drom@umich.edu \\nCory Bilyeu \\nLecturer \\nSchool of Information \\nEmail: cbilyeu@umich.edu \\n \\nYou Wu \\nMaster’s Student \\nSchool of Information \\nEmail: uvuuview@umich.edu \\n \\n \\nEasley, David and Kleinberg, Jon. 2010. Networks, Crowds, and Markets: Reasoning About a Highly Connected \\nWorld. Cambridge University Press, USA. \\n \\nNewman, Mark. 2018. Networks. Oxford University Press, USA. \\nLiben‐Nowell, David, and Kleinberg, Jon. 2007. \"The link‐prediction problem for social networks.\" Journal of the \\nAmerican Society for Information Science and Technology. 58(7): 1019-1031. \\nKossinets, Gueorgi, and Duncan J. Watts. 2006. \"Empirical analysis of an evolving social network.\" Science. 311(5757 \\n): 88-90.', metadata={'source': 'parsed_syllabi/2023-01_652.txt'}),\n",
       " Document(page_content='here:\\nMADS Milestone II: Project Guidelines (FA2023)\\nGrading and Course Checklist\\nNote that compared to Milestone 1, the weight of the project component has increased, so that it has\\nbeen given considerably more weight than the comprehensive exam component.\\nWe anticipate no major changes to this course grading scheme. However, as the course progresses, we\\nmay make minor adjustments as circumstances require, for any evaluation method in this course. If\\nchanges are made, they will always be done in a way that maximizes your grade across options.\\nYou must complete all assignments and assessments, regardless of their weighting in the final grade,\\nto get credit for this course.\\nCourse Item\\nPercentage of Final Grade\\nTeam formation\\n0 (but required)\\nDraft proposal for peer\\nreview/Revised proposal for\\ninstructor review\\n5\\nPeer reviews of project\\nproposals (do 2 reviews)\\nPlease sign up and update\\nthe sheet after peer review.\\n2 x 2.5 = 5\\nDiscussions of project with\\nassigned project coach (2)', metadata={'source': 'parsed_syllabi/2023-09_696.txt'}),\n",
       " Document(page_content='Please use slack for all communications. If slack is not working for you, or there is privacy\\nconcern, please email mlhess@umich.edu directly. If you have a VISA form please send it to\\nmlhess@umich.edu in the first week of class.\\nTextbook Information\\nThere are selected readings that are inside the course with direct links to the text. There is no single\\ntextbook to read.\\nLearning Outcomes\\n●\\nWhat makes all cloud vendors the same, and what makes some different.\\n●\\nExplain the cloud paradigm, why it happened, and where it will be going in the future.\\n●\\nBe able to compare and contrast different cloud platforms and offerings and form a\\nrecommendation to move their project forward.\\n●\\nBe able to compare and contrast different cloud platforms and offerings and form a\\nrecommendation to move their project forward.\\n●\\nUnderstand the infrastructure that runs the internet (firewalls, servers, networks, dns, disks,\\netc).\\n●', metadata={'source': 'parsed_syllabi/2023-02_673.txt'})]"
      ]
     },
     "execution_count": 13,
     "metadata": {},
     "output_type": "execute_result"
    }
   ],
   "source": [
    "docs"
   ]
  },
  {
   "cell_type": "code",
   "execution_count": 14,
   "id": "5e3cf251-684d-487c-b2e5-c9cf2a05dfcb",
   "metadata": {},
   "outputs": [],
   "source": [
    "def process_llm_response(llm_response):\n",
    "    # print(llm_response['result'])\n",
    "    print(\"\\n\\nSources:\")\n",
    "    for source in llm_response[\"source_documents\"]:\n",
    "        print(source.metadata[\"source\"])"
   ]
  },
  {
   "cell_type": "code",
   "execution_count": 15,
   "id": "8b21fa6a-d3ee-4a43-a9d7-c01912fd8712",
   "metadata": {},
   "outputs": [],
   "source": [
    "qa_chain = RetrievalQA.from_chain_type(\n",
    "    llm=llm_open,\n",
    "    chain_type=\"stuff\",\n",
    "    retriever=retriever,\n",
    "    return_source_documents=True,\n",
    "    verbose=True,\n",
    ")"
   ]
  },
  {
   "cell_type": "code",
   "execution_count": 16,
   "id": "ab20435a-724a-4f79-9d7d-729ae8056d2c",
   "metadata": {},
   "outputs": [
    {
     "name": "stderr",
     "output_type": "stream",
     "text": [
      "/Users/Pat/Documents/umich/2024-02 SIADS 699/capstone/.venv/lib/python3.11/site-packages/langchain_core/_api/deprecation.py:117: LangChainDeprecationWarning: The function `__call__` was deprecated in LangChain 0.1.0 and will be removed in 0.2.0. Use invoke instead.\n",
      "  warn_deprecated(\n"
     ]
    },
    {
     "name": "stdout",
     "output_type": "stream",
     "text": [
      "\n",
      "\n",
      "\u001b[1m> Entering new RetrievalQA chain...\u001b[0m\n",
      "Based on the context provided, it seems that the course you are referring to is likely \"Complex Systems\" offered by the University of Michigan through Coursera. The course description mentions the topic of item sets, which are a central concept in the field of complex systems.\n",
      "\n",
      "To answer your question, I would recommend taking the \"Complex Systems\" course offered by Professor Daniel M Romero and colleagues at the University of Michigan. This course provides an introduction to the field of complex systems, including the concepts of item sets and their role in understanding complex systems. The course also covers a range of topics such as networks, crowds, and markets, which are relevant to understanding the behavior of item sets in complex systems.\n",
      "\n",
      "Alternatively, if you are interested in learning more about item sets specifically, you could consider taking courses on data mining or machine learning, which often cover techniques for discovering and analyzing item sets in large datasets.\n",
      "\u001b[1m> Finished chain.\u001b[0m\n",
      "\n",
      "\n",
      "Sources:\n",
      "parsed_syllabi/2022-09_593.txt\n",
      "parsed_syllabi/2023-01_652.txt\n",
      "parsed_syllabi/2023-03_643.txt\n",
      "parsed_syllabi/2023-02_673.txt\n"
     ]
    }
   ],
   "source": [
    "# Question\n",
    "# query = \"Tell me what I need to turn in for the capstone project\"\n",
    "query = \"Which course can I take to learn about item sets?\"\n",
    "llm_response = qa_chain(query)\n",
    "process_llm_response(llm_response)"
   ]
  },
  {
   "cell_type": "code",
   "execution_count": null,
   "id": "ba0d7276-abc4-4467-8eb9-0726764547a8",
   "metadata": {},
   "outputs": [],
   "source": []
  }
 ],
 "metadata": {
  "kernelspec": {
   "display_name": "Python 3 (ipykernel)",
   "language": "python",
   "name": "python3"
  },
  "language_info": {
   "codemirror_mode": {
    "name": "ipython",
    "version": 3
   },
   "file_extension": ".py",
   "mimetype": "text/x-python",
   "name": "python",
   "nbconvert_exporter": "python",
   "pygments_lexer": "ipython3",
   "version": "3.11.3"
  }
 },
 "nbformat": 4,
 "nbformat_minor": 5
}
