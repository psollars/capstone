{
 "cells": [
  {
   "cell_type": "code",
   "execution_count": 1,
   "metadata": {
    "executionInfo": {
     "elapsed": 925,
     "status": "ok",
     "timestamp": 1710981103835,
     "user": {
      "displayName": "Patrick Sollars",
      "userId": "12439928852339899354"
     },
     "user_tz": 300
    },
    "id": "QwOjhhrmC2Ln"
   },
   "outputs": [],
   "source": [
    "from langchain_community.document_loaders import (\n",
    "    UnstructuredHTMLLoader,\n",
    "    BSHTMLLoader,\n",
    "    TextLoader,\n",
    "    JSONLoader,\n",
    ")\n",
    "from langchain.document_loaders import DirectoryLoader\n",
    "from langchain.text_splitter import (\n",
    "    CharacterTextSplitter,\n",
    "    RecursiveCharacterTextSplitter,\n",
    "    MarkdownTextSplitter,\n",
    ")\n",
    "from langchain_community.embeddings import HuggingFaceEmbeddings\n",
    "from langchain.callbacks.manager import CallbackManager\n",
    "from langchain.callbacks.streaming_stdout import StreamingStdOutCallbackHandler\n",
    "from langchain.vectorstores import Chroma\n",
    "from langchain.chains import (\n",
    "    RetrievalQA,\n",
    "    ConversationalRetrievalChain,\n",
    "    RetrievalQAWithSourcesChain,\n",
    ")\n",
    "from langchain.memory import ConversationBufferMemory\n",
    "from langchain_community.llms import LlamaCpp\n",
    "import pandas as pd\n",
    "\n",
    "\n",
    "import matplotlib.pyplot as plt\n",
    "import seaborn as sns\n",
    "from bert_score import plot_example, score\n",
    "\n",
    "import logging\n",
    "import pickle\n",
    "\n",
    "\n",
    "logging.getLogger(\"transformers.modeling_utils\").setLevel(logging.ERROR)"
   ]
  },
  {
   "cell_type": "markdown",
   "metadata": {},
   "source": [
    "## Helpers"
   ]
  },
  {
   "cell_type": "code",
   "execution_count": 2,
   "metadata": {},
   "outputs": [],
   "source": [
    "retrieval_strategy = \"mmr\"\n",
    "model = \"llama-2-7b-chat.Q4_K_M\"\n",
    "\n",
    "persist_directory = \"./../embeddings\""
   ]
  },
  {
   "cell_type": "code",
   "execution_count": 3,
   "metadata": {},
   "outputs": [],
   "source": [
    "def process_llm_response(llm_response):\n",
    "    print(\"\\n\\nSources:\")\n",
    "    for i, source in enumerate(llm_response[\"source_documents\"]):\n",
    "        m = source.metadata\n",
    "        print(f\"{i + 1}. {m['course_title']} ({m['course_number']}): {m['heading']}\")"
   ]
  },
  {
   "cell_type": "code",
   "execution_count": 4,
   "metadata": {},
   "outputs": [],
   "source": [
    "class ResponseFormatter:\n",
    "    def __init__(self):\n",
    "        self.responses = {\n",
    "            \"question\": [],\n",
    "            \"contexts\": [],\n",
    "            \"answer\": [],\n",
    "            \"ground_truth\": [],\n",
    "        }\n",
    "\n",
    "    def add_response(self, llm_response, ground_truth):\n",
    "        self.responses[\"question\"].append(llm_response[\"query\"])\n",
    "        #self.responses[\"question\"].append(llm_response[\"question\"])\n",
    "        self.responses[\"contexts\"].append(\n",
    "            [doc.page_content for doc in llm_response[\"source_documents\"]]\n",
    "        )\n",
    "        self.responses[\"answer\"].append(llm_response[\"result\"])\n",
    "        #self.responses[\"answer\"].append(llm_response[\"answer\"])\n",
    "        self.responses[\"ground_truth\"].append(ground_truth)\n",
    "\n",
    "    def get_responses(self):\n",
    "        return self.responses\n",
    "    \n",
    "    def get_dataframe(self):\n",
    "        pd.DataFrame(self.responses[[\"question\", \"answer\", \"ground_truth\"]])"
   ]
  },
  {
   "cell_type": "markdown",
   "metadata": {},
   "source": [
    "## Vector Retriever"
   ]
  },
  {
   "cell_type": "code",
   "execution_count": 5,
   "metadata": {
    "executionInfo": {
     "elapsed": 9614,
     "status": "ok",
     "timestamp": 1710981480332,
     "user": {
      "displayName": "Patrick Sollars",
      "userId": "12439928852339899354"
     },
     "user_tz": 300
    },
    "id": "-wIDl75YDHrS"
   },
   "outputs": [],
   "source": [
    "with open(f\"{persist_directory}/embeddings.pickle\", 'rb') as handle:\n",
    "    embeddings = pickle.load(handle)\n"
   ]
  },
  {
   "cell_type": "code",
   "execution_count": 6,
   "metadata": {
    "executionInfo": {
     "elapsed": 2962,
     "status": "ok",
     "timestamp": 1710981486734,
     "user": {
      "displayName": "Patrick Sollars",
      "userId": "12439928852339899354"
     },
     "user_tz": 300
    },
    "id": "Z07d-i9mFhN0"
   },
   "outputs": [],
   "source": [
    "vectordb = Chroma(\n",
    "    \"documents\", # or \"transcripts\"\n",
    "    embedding_function=embeddings,\n",
    "    persist_directory=persist_directory,\n",
    "    collection_metadata={\"hnsw:space\": \"cosine\"},\n",
    ")"
   ]
  },
  {
   "cell_type": "code",
   "execution_count": 7,
   "metadata": {
    "executionInfo": {
     "elapsed": 3,
     "status": "ok",
     "timestamp": 1710981486735,
     "user": {
      "displayName": "Patrick Sollars",
      "userId": "12439928852339899354"
     },
     "user_tz": 300
    },
    "id": "EugAMdnjFlj4"
   },
   "outputs": [],
   "source": [
    "retriever = vectordb.as_retriever(\n",
    "    search_type=f\"{retrieval_strategy}\",\n",
    "    search_kwargs={\"k\": 5, \"fetch_k\": 20},\n",
    ")"
   ]
  },
  {
   "cell_type": "markdown",
   "metadata": {},
   "source": [
    "## Quantized Model"
   ]
  },
  {
   "cell_type": "code",
   "execution_count": 8,
   "metadata": {
    "colab": {
     "base_uri": "https://localhost:8080/"
    },
    "executionInfo": {
     "elapsed": 108136,
     "status": "ok",
     "timestamp": 1710981617241,
     "user": {
      "displayName": "Patrick Sollars",
      "userId": "12439928852339899354"
     },
     "user_tz": 300
    },
    "id": "aG_eNdSIGxwD",
    "outputId": "faf777f1-7a80-4b26-a452-9c493a6a5f47"
   },
   "outputs": [
    {
     "name": "stderr",
     "output_type": "stream",
     "text": [
      "/Users/arnewman/miniconda3/envs/rag/lib/python3.12/site-packages/langchain_core/utils/utils.py:159: UserWarning: WARNING! stream is not default parameter.\n",
      "                stream was transferred to model_kwargs.\n",
      "                Please confirm that stream is what you intended.\n",
      "  warnings.warn(\n",
      "llama_model_loader: loaded meta data with 19 key-value pairs and 291 tensors from /Users/arnewman/.cache/lm-studio/models/TheBloke/Llama-2-7B-Chat-GGUF/llama-2-7b-chat.Q4_K_M.gguf (version GGUF V2)\n",
      "llama_model_loader: Dumping metadata keys/values. Note: KV overrides do not apply in this output.\n",
      "llama_model_loader: - kv   0:                       general.architecture str              = llama\n",
      "llama_model_loader: - kv   1:                               general.name str              = LLaMA v2\n",
      "llama_model_loader: - kv   2:                       llama.context_length u32              = 4096\n",
      "llama_model_loader: - kv   3:                     llama.embedding_length u32              = 4096\n",
      "llama_model_loader: - kv   4:                          llama.block_count u32              = 32\n",
      "llama_model_loader: - kv   5:                  llama.feed_forward_length u32              = 11008\n",
      "llama_model_loader: - kv   6:                 llama.rope.dimension_count u32              = 128\n",
      "llama_model_loader: - kv   7:                 llama.attention.head_count u32              = 32\n",
      "llama_model_loader: - kv   8:              llama.attention.head_count_kv u32              = 32\n",
      "llama_model_loader: - kv   9:     llama.attention.layer_norm_rms_epsilon f32              = 0.000001\n",
      "llama_model_loader: - kv  10:                          general.file_type u32              = 15\n",
      "llama_model_loader: - kv  11:                       tokenizer.ggml.model str              = llama\n",
      "llama_model_loader: - kv  12:                      tokenizer.ggml.tokens arr[str,32000]   = [\"<unk>\", \"<s>\", \"</s>\", \"<0x00>\", \"<...\n",
      "llama_model_loader: - kv  13:                      tokenizer.ggml.scores arr[f32,32000]   = [0.000000, 0.000000, 0.000000, 0.0000...\n",
      "llama_model_loader: - kv  14:                  tokenizer.ggml.token_type arr[i32,32000]   = [2, 3, 3, 6, 6, 6, 6, 6, 6, 6, 6, 6, ...\n",
      "llama_model_loader: - kv  15:                tokenizer.ggml.bos_token_id u32              = 1\n",
      "llama_model_loader: - kv  16:                tokenizer.ggml.eos_token_id u32              = 2\n",
      "llama_model_loader: - kv  17:            tokenizer.ggml.unknown_token_id u32              = 0\n",
      "llama_model_loader: - kv  18:               general.quantization_version u32              = 2\n",
      "llama_model_loader: - type  f32:   65 tensors\n",
      "llama_model_loader: - type q4_K:  193 tensors\n",
      "llama_model_loader: - type q6_K:   33 tensors\n",
      "llm_load_vocab: special tokens definition check successful ( 259/32000 ).\n",
      "llm_load_print_meta: format           = GGUF V2\n",
      "llm_load_print_meta: arch             = llama\n",
      "llm_load_print_meta: vocab type       = SPM\n",
      "llm_load_print_meta: n_vocab          = 32000\n",
      "llm_load_print_meta: n_merges         = 0\n",
      "llm_load_print_meta: n_ctx_train      = 4096\n",
      "llm_load_print_meta: n_embd           = 4096\n",
      "llm_load_print_meta: n_head           = 32\n",
      "llm_load_print_meta: n_head_kv        = 32\n",
      "llm_load_print_meta: n_layer          = 32\n",
      "llm_load_print_meta: n_rot            = 128\n",
      "llm_load_print_meta: n_embd_head_k    = 128\n",
      "llm_load_print_meta: n_embd_head_v    = 128\n",
      "llm_load_print_meta: n_gqa            = 1\n",
      "llm_load_print_meta: n_embd_k_gqa     = 4096\n",
      "llm_load_print_meta: n_embd_v_gqa     = 4096\n",
      "llm_load_print_meta: f_norm_eps       = 0.0e+00\n",
      "llm_load_print_meta: f_norm_rms_eps   = 1.0e-06\n",
      "llm_load_print_meta: f_clamp_kqv      = 0.0e+00\n",
      "llm_load_print_meta: f_max_alibi_bias = 0.0e+00\n",
      "llm_load_print_meta: n_ff             = 11008\n",
      "llm_load_print_meta: n_expert         = 0\n",
      "llm_load_print_meta: n_expert_used    = 0\n",
      "llm_load_print_meta: rope scaling     = linear\n",
      "llm_load_print_meta: freq_base_train  = 10000.0\n",
      "llm_load_print_meta: freq_scale_train = 1\n",
      "llm_load_print_meta: n_yarn_orig_ctx  = 4096\n",
      "llm_load_print_meta: rope_finetuned   = unknown\n",
      "llm_load_print_meta: model type       = 7B\n",
      "llm_load_print_meta: model ftype      = Q4_K - Medium\n",
      "llm_load_print_meta: model params     = 6.74 B\n",
      "llm_load_print_meta: model size       = 3.80 GiB (4.84 BPW) \n",
      "llm_load_print_meta: general.name     = LLaMA v2\n",
      "llm_load_print_meta: BOS token        = 1 '<s>'\n",
      "llm_load_print_meta: EOS token        = 2 '</s>'\n",
      "llm_load_print_meta: UNK token        = 0 '<unk>'\n",
      "llm_load_print_meta: LF token         = 13 '<0x0A>'\n",
      "llm_load_tensors: ggml ctx size =    0.22 MiB\n",
      "ggml_backend_metal_buffer_from_ptr: allocated buffer, size =  3820.94 MiB, ( 4861.31 / 10922.67)\n",
      "llm_load_tensors: offloading 32 repeating layers to GPU\n",
      "llm_load_tensors: offloading non-repeating layers to GPU\n",
      "llm_load_tensors: offloaded 33/33 layers to GPU\n",
      "llm_load_tensors:        CPU buffer size =    70.31 MiB\n",
      "llm_load_tensors:      Metal buffer size =  3820.93 MiB\n",
      "..................................................................................................\n",
      "llama_new_context_with_model: n_ctx      = 4096\n",
      "llama_new_context_with_model: freq_base  = 10000.0\n",
      "llama_new_context_with_model: freq_scale = 1\n",
      "ggml_metal_init: allocating\n",
      "ggml_metal_init: found device: Apple M1 Pro\n",
      "ggml_metal_init: picking default device: Apple M1 Pro\n",
      "ggml_metal_init: default.metallib not found, loading from source\n",
      "ggml_metal_init: GGML_METAL_PATH_RESOURCES = nil\n",
      "ggml_metal_init: loading '/Users/arnewman/miniconda3/envs/rag/lib/python3.12/site-packages/llama_cpp/ggml-metal.metal'\n",
      "ggml_metal_init: GPU name:   Apple M1 Pro\n",
      "ggml_metal_init: GPU family: MTLGPUFamilyApple7  (1007)\n",
      "ggml_metal_init: GPU family: MTLGPUFamilyCommon3 (3003)\n",
      "ggml_metal_init: GPU family: MTLGPUFamilyMetal3  (5001)\n",
      "ggml_metal_init: simdgroup reduction support   = true\n",
      "ggml_metal_init: simdgroup matrix mul. support = true\n",
      "ggml_metal_init: hasUnifiedMemory              = true\n",
      "ggml_metal_init: recommendedMaxWorkingSetSize  = 11453.25 MB\n",
      "ggml_backend_metal_buffer_type_alloc_buffer: allocated buffer, size =  2048.00 MiB, ( 6910.56 / 10922.67)\n",
      "llama_kv_cache_init:      Metal KV buffer size =  2048.00 MiB\n",
      "llama_new_context_with_model: KV self size  = 2048.00 MiB, K (f16): 1024.00 MiB, V (f16): 1024.00 MiB\n",
      "llama_new_context_with_model:        CPU input buffer size   =     0.27 MiB\n",
      "ggml_backend_metal_buffer_type_alloc_buffer: allocated buffer, size =     0.02 MiB, ( 6910.58 / 10922.67)\n",
      "ggml_backend_metal_buffer_type_alloc_buffer: allocated buffer, size =     4.95 MiB, ( 6915.52 / 10922.67)\n",
      "llama_new_context_with_model:      Metal compute buffer size =     4.95 MiB\n",
      "llama_new_context_with_model:        CPU compute buffer size =     0.14 MiB\n",
      "llama_new_context_with_model: graph splits (measure): 3\n",
      "AVX = 0 | AVX_VNNI = 0 | AVX2 = 0 | AVX512 = 0 | AVX512_VBMI = 0 | AVX512_VNNI = 0 | FMA = 0 | NEON = 1 | ARM_FMA = 1 | F16C = 0 | FP16_VA = 1 | WASM_SIMD = 0 | BLAS = 1 | SSE3 = 0 | SSSE3 = 0 | VSX = 0 | \n",
      "Model metadata: {'general.quantization_version': '2', 'tokenizer.ggml.unknown_token_id': '0', 'tokenizer.ggml.eos_token_id': '2', 'tokenizer.ggml.bos_token_id': '1', 'tokenizer.ggml.model': 'llama', 'llama.attention.head_count_kv': '32', 'llama.context_length': '4096', 'llama.attention.head_count': '32', 'llama.rope.dimension_count': '128', 'general.file_type': '15', 'llama.feed_forward_length': '11008', 'llama.embedding_length': '4096', 'llama.block_count': '32', 'general.architecture': 'llama', 'llama.attention.layer_norm_rms_epsilon': '0.000001', 'general.name': 'LLaMA v2'}\n"
     ]
    }
   ],
   "source": [
    "llm_open = LlamaCpp(\n",
    "    #model_path=f\"./../models/{model}.gguf\",  # https://huggingface.co/TheBloke/Llama-2-7B-GGUF\n",
    "    model_path=f\"/Users/arnewman/.cache/lm-studio/models/TheBloke/Llama-2-7B-Chat-GGUF/{model}.gguf\",  # https://huggingface.co/TheBloke/Llama-2-7B-GGUF\n",
    "    n_ctx=4096,  # 4096 for Llama, 32*1024 for Mistral\n",
    "    n_gpu_layers=50,\n",
    "    temperature=0.15,\n",
    "    top_p=1,\n",
    "    top_k=40,\n",
    "    repeat_penalty=1.1,\n",
    "    max_tokens=1024,\n",
    "    callback_manager=CallbackManager([StreamingStdOutCallbackHandler()]),\n",
    "    stream=True,\n",
    ")"
   ]
  },
  {
   "cell_type": "code",
   "execution_count": 15,
   "metadata": {},
   "outputs": [],
   "source": [
    "from langchain_core.prompts import PromptTemplate\n",
    "\n",
    "template = '''\n",
    "Use only the following pieces of context to answer the question at the end. \n",
    "Keep your answers concise and do not provide additional explanations. \n",
    "If you don't know the answer, just say that you don't know, don't try to make up an answer.\n",
    "\n",
    "{context}\n",
    "\n",
    "Question: {question}\n",
    "Helpful Answer:\n",
    "'''"
   ]
  },
  {
   "cell_type": "code",
   "execution_count": 16,
   "metadata": {
    "executionInfo": {
     "elapsed": 3,
     "status": "ok",
     "timestamp": 1710981617242,
     "user": {
      "displayName": "Patrick Sollars",
      "userId": "12439928852339899354"
     },
     "user_tz": 300
    },
    "id": "llNw6QC1GsLa"
   },
   "outputs": [],
   "source": [
    "qa_chain = RetrievalQA.from_chain_type(\n",
    "#qa_chain = RetrievalQAWithSourcesChain.from_chain_type(\n",
    "    llm=llm_open,\n",
    "    chain_type=\"stuff\",\n",
    "    retriever=retriever,\n",
    "    return_source_documents=True,\n",
    "    verbose=True,\n",
    "    chain_type_kwargs={\n",
    "        \"prompt\": PromptTemplate(\n",
    "            template=template,\n",
    "            input_variables=[\"context\", \"question\"])},\n",
    ")"
   ]
  },
  {
   "cell_type": "code",
   "execution_count": 17,
   "metadata": {},
   "outputs": [
    {
     "name": "stdout",
     "output_type": "stream",
     "text": [
      "\n",
      "Use only the following pieces of context to answer the question at the end. \n",
      "Keep your answers concise and do not provide additional explanations. \n",
      "If you don't know the answer, just say that you don't know, don't try to make up an answer.\n",
      "\n",
      "{context}\n",
      "\n",
      "Question: {question}\n",
      "Helpful Answer:\n",
      "\n"
     ]
    }
   ],
   "source": [
    "print(qa_chain.combine_documents_chain.llm_chain.prompt.template)"
   ]
  },
  {
   "cell_type": "code",
   "execution_count": 18,
   "metadata": {
    "colab": {
     "base_uri": "https://localhost:8080/"
    },
    "executionInfo": {
     "elapsed": 842611,
     "status": "ok",
     "timestamp": 1710982459850,
     "user": {
      "displayName": "Patrick Sollars",
      "userId": "12439928852339899354"
     },
     "user_tz": 300
    },
    "id": "6jSlOi4WHCKI",
    "outputId": "785327bc-0dc8-4e5b-a2a8-eb2c88d7a3a1"
   },
   "outputs": [
    {
     "name": "stderr",
     "output_type": "stream",
     "text": [
      "/Users/arnewman/miniconda3/envs/rag/lib/python3.12/site-packages/langchain_core/_api/deprecation.py:117: LangChainDeprecationWarning: The function `__call__` was deprecated in LangChain 0.1.0 and will be removed in 0.2.0. Use invoke instead.\n",
      "  warn_deprecated(\n"
     ]
    },
    {
     "name": "stdout",
     "output_type": "stream",
     "text": [
      "\n",
      "\n",
      "\u001b[1m> Entering new RetrievalQA chain...\u001b[0m\n",
      "Data Mining II (SIADS 632) involves time series analysis."
     ]
    },
    {
     "name": "stderr",
     "output_type": "stream",
     "text": [
      "\n",
      "llama_print_timings:        load time =    4716.43 ms\n",
      "llama_print_timings:      sample time =       1.81 ms /    19 runs   (    0.10 ms per token, 10468.32 tokens per second)\n",
      "llama_print_timings: prompt eval time =   22170.42 ms /   916 tokens (   24.20 ms per token,    41.32 tokens per second)\n",
      "llama_print_timings:        eval time =     679.07 ms /    18 runs   (   37.73 ms per token,    26.51 tokens per second)\n",
      "llama_print_timings:       total time =   23028.44 ms /   934 tokens\n"
     ]
    },
    {
     "name": "stdout",
     "output_type": "stream",
     "text": [
      "\n",
      "\u001b[1m> Finished chain.\u001b[0m\n",
      "\n",
      "\n",
      "Sources:\n",
      "1. Data Mining II (SIADS 632): Learning Outcomes\n",
      "2. n/a (n/a): General Academic Advising > Q: Can you advise me on which courses are the heaviest workload, the most difficult, etc?\n",
      "3. Data Mining II (SIADS 632): Weekly Office Hours Via Zoom (Ann Arbor, Michigan Time):\n",
      "4. Visual Exploration of Data (SIADS 521): Syllabus Course Overview And Prerequisites\n",
      "5. Communicating Data Science Results (SIADS 523): Course Schedule\n"
     ]
    }
   ],
   "source": [
    "query = \"Which class involves time series analysis?\"\n",
    "\n",
    "llm_response = qa_chain(query)\n",
    "process_llm_response(llm_response)"
   ]
  },
  {
   "cell_type": "markdown",
   "metadata": {},
   "source": [
    "## Run the Model"
   ]
  },
  {
   "cell_type": "code",
   "execution_count": 19,
   "metadata": {},
   "outputs": [
    {
     "name": "stdout",
     "output_type": "stream",
     "text": [
      "Which class involves time series analysis?\n",
      "Who teaches the SQL and Databases class?\n",
      "What are the prerequisites for Data Science for Social Good?\n",
      "When are the office hours for the Math Methods course?\n",
      "Are there any weekly readings for Milestone II?\n",
      "What are the outcomes of Qualitative Inquiry?\n",
      "What textbook is required for SIADS 505?\n",
      "What textbook is required for Data Manipulation?\n",
      "Which week of unsupervised learning covers DBSCAN?\n",
      "How many credits are required to complete the MADS program?\n",
      "How long do students have to complete the MADS program start to finish?\n",
      "How many points is the comprehensive oral exam worth in SIADS 593?\n",
      "What is the penalty for late submission in SIADS 630?\n",
      "How do I get accommodations for a class?\n",
      "What is a backpack?\n",
      "When is the latest I can drop a course?\n",
      "How do I get an override to take a class?\n",
      "How do I take a leave of absence from the MADS program?\n",
      "What are the prerequisites for Search and Recommender Systems?\n"
     ]
    }
   ],
   "source": [
    "df = pd.read_csv(\"./evaluation_set.csv\")\n",
    "\n",
    "for _, row in df.iterrows():\n",
    "    print(row[\"question\"])"
   ]
  },
  {
   "cell_type": "code",
   "execution_count": 20,
   "metadata": {
    "id": "qC8HbRBHAdAQ"
   },
   "outputs": [],
   "source": [
    "formatter = ResponseFormatter()\n",
    "\n",
    "# Or, use the cached one\n",
    "# with open(\"./evaluation_set_formatter.pickle\", 'rb') as handle:\n",
    "#     formatter = pickle.load(handle)"
   ]
  },
  {
   "cell_type": "code",
   "execution_count": 21,
   "metadata": {
    "colab": {
     "base_uri": "https://localhost:8080/"
    },
    "id": "j2JXodnOCj-d",
    "outputId": "3da8e4e2-ada8-493f-e7ee-5f9dbcc7f1db"
   },
   "outputs": [
    {
     "name": "stdout",
     "output_type": "stream",
     "text": [
      "\n",
      "\n",
      "\u001b[1m> Entering new RetrievalQA chain...\u001b[0m\n"
     ]
    },
    {
     "name": "stderr",
     "output_type": "stream",
     "text": [
      "Llama.generate: prefix-match hit\n"
     ]
    },
    {
     "name": "stdout",
     "output_type": "stream",
     "text": [
      "Data Mining II (SIADS 632) involves time series analysis."
     ]
    },
    {
     "name": "stderr",
     "output_type": "stream",
     "text": [
      "\n",
      "llama_print_timings:        load time =    4716.43 ms\n",
      "llama_print_timings:      sample time =       2.12 ms /    19 runs   (    0.11 ms per token,  8962.26 tokens per second)\n",
      "llama_print_timings: prompt eval time =       0.00 ms /     1 tokens (    0.00 ms per token,      inf tokens per second)\n",
      "llama_print_timings:        eval time =    1003.82 ms /    19 runs   (   52.83 ms per token,    18.93 tokens per second)\n",
      "llama_print_timings:       total time =    1046.72 ms /    20 tokens\n"
     ]
    },
    {
     "name": "stdout",
     "output_type": "stream",
     "text": [
      "\n",
      "\u001b[1m> Finished chain.\u001b[0m\n",
      "\n",
      "\n",
      "Sources:\n",
      "1. Data Mining II (SIADS 632): Learning Outcomes\n",
      "2. n/a (n/a): General Academic Advising > Q: Can you advise me on which courses are the heaviest workload, the most difficult, etc?\n",
      "3. Data Mining II (SIADS 632): Weekly Office Hours Via Zoom (Ann Arbor, Michigan Time):\n",
      "4. Visual Exploration of Data (SIADS 521): Syllabus Course Overview And Prerequisites\n",
      "5. Communicating Data Science Results (SIADS 523): Course Schedule\n",
      "\n",
      "\n",
      "\u001b[1m> Entering new RetrievalQA chain...\u001b[0m\n"
     ]
    },
    {
     "name": "stderr",
     "output_type": "stream",
     "text": [
      "Llama.generate: prefix-match hit\n"
     ]
    },
    {
     "name": "stdout",
     "output_type": "stream",
     "text": [
      "Graham Hukill (gshukill@umich.edu)"
     ]
    },
    {
     "name": "stderr",
     "output_type": "stream",
     "text": [
      "\n",
      "llama_print_timings:        load time =    4716.43 ms\n",
      "llama_print_timings:      sample time =       1.57 ms /    17 runs   (    0.09 ms per token, 10807.37 tokens per second)\n",
      "llama_print_timings: prompt eval time =   10630.80 ms /   559 tokens (   19.02 ms per token,    52.58 tokens per second)\n",
      "llama_print_timings:        eval time =     580.82 ms /    16 runs   (   36.30 ms per token,    27.55 tokens per second)\n",
      "llama_print_timings:       total time =   11328.91 ms /   575 tokens\n"
     ]
    },
    {
     "name": "stdout",
     "output_type": "stream",
     "text": [
      "\n",
      "\u001b[1m> Finished chain.\u001b[0m\n",
      "\n",
      "\n",
      "Sources:\n",
      "1. SQL and Databases (SIADS 511): Instructor And Course Assistants\n",
      "2. SQL and Databases (SIADS 511): Course Outcomes\n",
      "3. SQL and Databases (SIADS 511): Technology Requirements (Unique To This Course)\n",
      "4. SQL and Databases (SIADS 511): Textbooks\n",
      "5. SQL and Databases (SIADS 511): Course Schedule\n",
      "\n",
      "\n",
      "\u001b[1m> Entering new RetrievalQA chain...\u001b[0m\n"
     ]
    },
    {
     "name": "stderr",
     "output_type": "stream",
     "text": [
      "Llama.generate: prefix-match hit\n"
     ]
    },
    {
     "name": "stdout",
     "output_type": "stream",
     "text": [
      "The prerequisites for Data Science for Social Good (SIADS 688) are:\n",
      "- Preceded or accompanied by SIADS 630, 631, and 694; (C- or better)"
     ]
    },
    {
     "name": "stderr",
     "output_type": "stream",
     "text": [
      "\n",
      "llama_print_timings:        load time =    4716.43 ms\n",
      "llama_print_timings:      sample time =       5.58 ms /    56 runs   (    0.10 ms per token, 10044.84 tokens per second)\n",
      "llama_print_timings: prompt eval time =   16681.40 ms /   871 tokens (   19.15 ms per token,    52.21 tokens per second)\n",
      "llama_print_timings:        eval time =    2083.48 ms /    55 runs   (   37.88 ms per token,    26.40 tokens per second)\n",
      "llama_print_timings:       total time =   19021.88 ms /   926 tokens\n"
     ]
    },
    {
     "name": "stdout",
     "output_type": "stream",
     "text": [
      "\n",
      "\u001b[1m> Finished chain.\u001b[0m\n",
      "\n",
      "\n",
      "Sources:\n",
      "1. Data Science for Social Good (SIADS 688): Course Syllabus for SIADS 688: Data Science for Social Good Course Overview and Prerequisites\n",
      "2. Communicating Data Science Results (SIADS 523): Course Syllabus SIADS 523: Communicating Data Science Results (Fall 2023) Course Overview And Prerequisites\n",
      "3. n/a (n/a): Academics > Master of Applied Data Science (MADS) > Summary of Degree Requirements\n",
      "4. Data Science Ethics (SIADS 503): Course Learning Outcomes\n",
      "5. Data Science for Social Good (SIADS 688): Assignments And Grading You Are Expected To Read An Assigned Paper On Perusall Before Watching Each Lecture, And Complete A Problem Set Afterwards.\n",
      "\n",
      "\n",
      "\u001b[1m> Entering new RetrievalQA chain...\u001b[0m\n"
     ]
    },
    {
     "name": "stderr",
     "output_type": "stream",
     "text": [
      "Llama.generate: prefix-match hit\n"
     ]
    },
    {
     "name": "stdout",
     "output_type": "stream",
     "text": [
      "The office hours for Math Methods (SIADS 602) are on Wednesdays from 4:00-5:00 pm EST with Hanna Hoover."
     ]
    },
    {
     "name": "stderr",
     "output_type": "stream",
     "text": [
      "\n",
      "llama_print_timings:        load time =    4716.43 ms\n",
      "llama_print_timings:      sample time =       4.07 ms /    42 runs   (    0.10 ms per token, 10316.88 tokens per second)\n",
      "llama_print_timings: prompt eval time =   16798.62 ms /   879 tokens (   19.11 ms per token,    52.33 tokens per second)\n",
      "llama_print_timings:        eval time =    1561.29 ms /    41 runs   (   38.08 ms per token,    26.26 tokens per second)\n",
      "llama_print_timings:       total time =   18585.23 ms /   920 tokens\n"
     ]
    },
    {
     "name": "stdout",
     "output_type": "stream",
     "text": [
      "\n",
      "\u001b[1m> Finished chain.\u001b[0m\n",
      "\n",
      "\n",
      "Sources:\n",
      "1. Math Methods II (SIADS 602): Course Schedule\n",
      "2. Unsupervised Learning (SIADS 543): Office Hours Schedule:\n",
      "3. Experiment Design and Analysis (SIADS 631): Course Schedule\n",
      "4. Causal Inference (SIADS 630): Office Hours:\n",
      "5. Machine Learning Pipelines (SIADS 643): Weekly Office Hours Via Zoom (Ann Arbor, Michigan Time):\n",
      "\n",
      "\n",
      "\u001b[1m> Entering new RetrievalQA chain...\u001b[0m\n"
     ]
    },
    {
     "name": "stderr",
     "output_type": "stream",
     "text": [
      "Llama.generate: prefix-match hit\n"
     ]
    },
    {
     "name": "stdout",
     "output_type": "stream",
     "text": [
      "No."
     ]
    },
    {
     "name": "stderr",
     "output_type": "stream",
     "text": [
      "\n",
      "llama_print_timings:        load time =    4716.43 ms\n",
      "llama_print_timings:      sample time =       0.29 ms /     3 runs   (    0.10 ms per token, 10489.51 tokens per second)\n",
      "llama_print_timings: prompt eval time =   14173.83 ms /   742 tokens (   19.10 ms per token,    52.35 tokens per second)\n",
      "llama_print_timings:        eval time =      74.83 ms /     2 runs   (   37.41 ms per token,    26.73 tokens per second)\n",
      "llama_print_timings:       total time =   14367.05 ms /   744 tokens\n"
     ]
    },
    {
     "name": "stdout",
     "output_type": "stream",
     "text": [
      "\n",
      "\u001b[1m> Finished chain.\u001b[0m\n",
      "\n",
      "\n",
      "Sources:\n",
      "1. Milestone II (SIADS 696): Weekly Readings\n",
      "2. Milestone II (SIADS 696): Project Component\n",
      "3. Milestone I (SIADS 593): 6.0 Office Hours\n",
      "4. Milestone II (SIADS 696): Re-Grade Policy\n",
      "5. Milestone I (SIADS 593): 7.0 Grading And Course Checklist\n",
      "\n",
      "\n",
      "\u001b[1m> Entering new RetrievalQA chain...\u001b[0m\n"
     ]
    },
    {
     "name": "stderr",
     "output_type": "stream",
     "text": [
      "Llama.generate: prefix-match hit\n"
     ]
    },
    {
     "name": "stdout",
     "output_type": "stream",
     "text": [
      "Qualitative Inquiry for Data Scientists (SIADS 601) has the following outcomes:\n",
      "1. Collect, represent, and analyze qualitative data about a quantitative data set.\n",
      "2. Develop a narrative about qualitative findings that support later quantitative analysis.\n",
      "3. Communicate qualitative findings in written form."
     ]
    },
    {
     "name": "stderr",
     "output_type": "stream",
     "text": [
      "\n",
      "llama_print_timings:        load time =    4716.43 ms\n",
      "llama_print_timings:      sample time =       7.27 ms /    76 runs   (    0.10 ms per token, 10448.17 tokens per second)\n",
      "llama_print_timings: prompt eval time =   23341.96 ms /  1210 tokens (   19.29 ms per token,    51.84 tokens per second)\n",
      "llama_print_timings:        eval time =    2996.58 ms /    75 runs   (   39.95 ms per token,    25.03 tokens per second)\n",
      "llama_print_timings:       total time =   26703.30 ms /  1285 tokens\n"
     ]
    },
    {
     "name": "stdout",
     "output_type": "stream",
     "text": [
      "\n",
      "\u001b[1m> Finished chain.\u001b[0m\n",
      "\n",
      "\n",
      "Sources:\n",
      "1. Qualitative Inquiry for Data Scientists (SIADS 601): Learning Outcomes\n",
      "2. Qualitative Inquiry for Data Scientists (SIADS 601): Course Handouts\n",
      "3. Qualitative Inquiry for Data Scientists (SIADS 601): Grading And Assignments Overview\n",
      "4. Experiment Design and Analysis (SIADS 631): Learning Outcomes\n",
      "5. Causal Inference (SIADS 630): Accommodations\n",
      "\n",
      "\n",
      "\u001b[1m> Entering new RetrievalQA chain...\u001b[0m\n"
     ]
    },
    {
     "name": "stderr",
     "output_type": "stream",
     "text": [
      "Llama.generate: prefix-match hit\n"
     ]
    },
    {
     "name": "stdout",
     "output_type": "stream",
     "text": [
      "The textbook required for SIADS 505 is Jurafsky, Dan, and Martin, James H. Speech and Language Processing: An Introduction to Natural Language Processing, Computational Linguistics, and Speech Recognition. Third Edition draft."
     ]
    },
    {
     "name": "stderr",
     "output_type": "stream",
     "text": [
      "\n",
      "llama_print_timings:        load time =    4716.43 ms\n",
      "llama_print_timings:      sample time =       6.43 ms /    59 runs   (    0.11 ms per token,  9174.31 tokens per second)\n",
      "llama_print_timings: prompt eval time =    6793.45 ms /   354 tokens (   19.19 ms per token,    52.11 tokens per second)\n",
      "llama_print_timings:        eval time =    2047.41 ms /    58 runs   (   35.30 ms per token,    28.33 tokens per second)\n",
      "llama_print_timings:       total time =    9025.75 ms /   412 tokens\n"
     ]
    },
    {
     "name": "stdout",
     "output_type": "stream",
     "text": [
      "\n",
      "\u001b[1m> Finished chain.\u001b[0m\n",
      "\n",
      "\n",
      "Sources:\n",
      "1. Health Analytics (SIADS 681): Weekly Readings or Textbook Information\n",
      "2. Applied Natural Language Processing (SIADS 655): Textbook Information\n",
      "3. Presenting Uncertainty (SIADS 524): Required Textbook\n",
      "4. Math Methods I (SIADS 502): Academic Integrity\n",
      "5. Database Architecture & Technology (SIADS 611): Assignments And Percentage Of Final Grade\n",
      "\n",
      "\n",
      "\u001b[1m> Entering new RetrievalQA chain...\u001b[0m\n"
     ]
    },
    {
     "name": "stderr",
     "output_type": "stream",
     "text": [
      "Llama.generate: prefix-match hit\n"
     ]
    },
    {
     "name": "stdout",
     "output_type": "stream",
     "text": [
      "Data Manipulation (SIADS 505) requires no textbook purchase."
     ]
    },
    {
     "name": "stderr",
     "output_type": "stream",
     "text": [
      "\n",
      "llama_print_timings:        load time =    4716.43 ms\n",
      "llama_print_timings:      sample time =       1.95 ms /    20 runs   (    0.10 ms per token, 10251.15 tokens per second)\n",
      "llama_print_timings: prompt eval time =   16183.57 ms /   847 tokens (   19.11 ms per token,    52.34 tokens per second)\n",
      "llama_print_timings:        eval time =     720.90 ms /    19 runs   (   37.94 ms per token,    26.36 tokens per second)\n",
      "llama_print_timings:       total time =   17082.52 ms /   866 tokens\n"
     ]
    },
    {
     "name": "stdout",
     "output_type": "stream",
     "text": [
      "\n",
      "\u001b[1m> Finished chain.\u001b[0m\n",
      "\n",
      "\n",
      "Sources:\n",
      "1. Data Manipulation (SIADS 505): Course Syllabus Course Overview And Prerequisites\n",
      "2. Data Science Ethics (SIADS 503): Required Textbook\n",
      "3. Data Manipulation (SIADS 505): Library Access\n",
      "4. Capstone (SIADS 699): Weekly Readings Or Textbook Information\n",
      "5. Information Visualization I (SIADS 522): Required Textbook\n",
      "\n",
      "\n",
      "\u001b[1m> Entering new RetrievalQA chain...\u001b[0m\n"
     ]
    },
    {
     "name": "stderr",
     "output_type": "stream",
     "text": [
      "Llama.generate: prefix-match hit\n"
     ]
    },
    {
     "name": "stdout",
     "output_type": "stream",
     "text": [
      "Week 2"
     ]
    },
    {
     "name": "stderr",
     "output_type": "stream",
     "text": [
      "\n",
      "llama_print_timings:        load time =    4716.43 ms\n",
      "llama_print_timings:      sample time =       0.41 ms /     4 runs   (    0.10 ms per token,  9732.36 tokens per second)\n",
      "llama_print_timings: prompt eval time =    8958.38 ms /   471 tokens (   19.02 ms per token,    52.58 tokens per second)\n",
      "llama_print_timings:        eval time =     109.44 ms /     3 runs   (   36.48 ms per token,    27.41 tokens per second)\n",
      "llama_print_timings:       total time =    9149.92 ms /   474 tokens\n"
     ]
    },
    {
     "name": "stdout",
     "output_type": "stream",
     "text": [
      "\n",
      "\u001b[1m> Finished chain.\u001b[0m\n",
      "\n",
      "\n",
      "Sources:\n",
      "1. Unsupervised Learning (SIADS 543): Learning Outcomes: Week 2\n",
      "2. SQL and Databases (SIADS 511): Course Schedule\n",
      "3. Unsupervised Learning (SIADS 543): Schedule\n",
      "4. Learning Analytics and Educational Data Science (SIADS 680): Office Hours Via Zoom (Ann Arbor, Michigan Time - Eastern Time Zone)\n",
      "5. Unsupervised Learning (SIADS 543): Quizzes\n",
      "\n",
      "\n",
      "\u001b[1m> Entering new RetrievalQA chain...\u001b[0m\n"
     ]
    },
    {
     "name": "stderr",
     "output_type": "stream",
     "text": [
      "Llama.generate: prefix-match hit\n"
     ]
    },
    {
     "name": "stdout",
     "output_type": "stream",
     "text": [
      "The minimum number of credits required to complete the MADS program is 34 credits."
     ]
    },
    {
     "name": "stderr",
     "output_type": "stream",
     "text": [
      "\n",
      "llama_print_timings:        load time =    4716.43 ms\n",
      "llama_print_timings:      sample time =       2.06 ms /    22 runs   (    0.09 ms per token, 10658.91 tokens per second)\n",
      "llama_print_timings: prompt eval time =   19468.80 ms /  1013 tokens (   19.22 ms per token,    52.03 tokens per second)\n",
      "llama_print_timings:        eval time =     817.16 ms /    21 runs   (   38.91 ms per token,    25.70 tokens per second)\n",
      "llama_print_timings:       total time =   20495.25 ms /  1034 tokens\n"
     ]
    },
    {
     "name": "stdout",
     "output_type": "stream",
     "text": [
      "\n",
      "\u001b[1m> Finished chain.\u001b[0m\n",
      "\n",
      "\n",
      "Sources:\n",
      "1. n/a (n/a): Grades/Transcripts > Q: What is the minimum GPA requirement for MADS students?\n",
      "2. n/a (n/a): Course Planning > Q: What is the recommended number of credits students should take?\n",
      "3. n/a (n/a): Course Planning > Q: When will courses be offered next?\n",
      "4. Milestone II (SIADS 696): Letter Grades, Course Grades\n",
      "5. Unsupervised Learning (SIADS 543): Grading And Course Checklist\n",
      "\n",
      "\n",
      "\u001b[1m> Entering new RetrievalQA chain...\u001b[0m\n"
     ]
    },
    {
     "name": "stderr",
     "output_type": "stream",
     "text": [
      "Llama.generate: prefix-match hit\n"
     ]
    },
    {
     "name": "stdout",
     "output_type": "stream",
     "text": [
      "According to the MADS Student Handbook, students have five years from the date of their first enrollment in the program to complete all coursework."
     ]
    },
    {
     "name": "stderr",
     "output_type": "stream",
     "text": [
      "\n",
      "llama_print_timings:        load time =    4716.43 ms\n",
      "llama_print_timings:      sample time =       3.17 ms /    34 runs   (    0.09 ms per token, 10735.71 tokens per second)\n",
      "llama_print_timings: prompt eval time =   18346.13 ms /   958 tokens (   19.15 ms per token,    52.22 tokens per second)\n",
      "llama_print_timings:        eval time =    1272.46 ms /    33 runs   (   38.56 ms per token,    25.93 tokens per second)\n",
      "llama_print_timings:       total time =   19835.92 ms /   991 tokens\n"
     ]
    },
    {
     "name": "stdout",
     "output_type": "stream",
     "text": [
      "\n",
      "\u001b[1m> Finished chain.\u001b[0m\n",
      "\n",
      "\n",
      "Sources:\n",
      "1. n/a (n/a): General Academic Advising > Q: How long do I have to complete the program?\n",
      "2. n/a (n/a): Course Planning > Q: How are the MADS courses/semesters set up?\n",
      "3. n/a (n/a): Grades/Transcripts > Q: What is the minimum GPA requirement for MADS students?\n",
      "4. Milestone II (SIADS 696): Letter Grades, Course Grades\n",
      "5. n/a (n/a): MADS Slack Policy, Standards, and Practices > MADS Slack Standards and Processes > Leaving Course Channels\n",
      "\n",
      "\n",
      "\u001b[1m> Entering new RetrievalQA chain...\u001b[0m\n"
     ]
    },
    {
     "name": "stderr",
     "output_type": "stream",
     "text": [
      "Llama.generate: prefix-match hit\n"
     ]
    },
    {
     "name": "stdout",
     "output_type": "stream",
     "text": [
      "The comprehensive oral exam is worth 20% of the final grade in SIADS 593."
     ]
    },
    {
     "name": "stderr",
     "output_type": "stream",
     "text": [
      "\n",
      "llama_print_timings:        load time =    4716.43 ms\n",
      "llama_print_timings:      sample time =       2.44 ms /    26 runs   (    0.09 ms per token, 10642.65 tokens per second)\n",
      "llama_print_timings: prompt eval time =   10149.76 ms /   533 tokens (   19.04 ms per token,    52.51 tokens per second)\n",
      "llama_print_timings:        eval time =     903.64 ms /    25 runs   (   36.15 ms per token,    27.67 tokens per second)\n",
      "llama_print_timings:       total time =   11194.24 ms /   558 tokens\n"
     ]
    },
    {
     "name": "stdout",
     "output_type": "stream",
     "text": [
      "\n",
      "\u001b[1m> Finished chain.\u001b[0m\n",
      "\n",
      "\n",
      "Sources:\n",
      "1. Database Architecture & Technology (SIADS 611): Assignments And Percentage Of Final Grade\n",
      "2. Milestone II (SIADS 696): Comprehensive Exam Component\n",
      "3. Milestone I (SIADS 593): 4.0 Weekly Readings\n",
      "4. Unsupervised Learning (SIADS 543): Quizzes\n",
      "5. Information Visualization I (SIADS 522): Letter Grades, Course Grades, And Late Submission Policy\n",
      "\n",
      "\n",
      "\u001b[1m> Entering new RetrievalQA chain...\u001b[0m\n"
     ]
    },
    {
     "name": "stderr",
     "output_type": "stream",
     "text": [
      "Llama.generate: prefix-match hit\n"
     ]
    },
    {
     "name": "stdout",
     "output_type": "stream",
     "text": [
      "The penalty for late submission in SIADS 630 is 15% daily-recurring reduction in grade for the first three days after the submission deadline."
     ]
    },
    {
     "name": "stderr",
     "output_type": "stream",
     "text": [
      "\n",
      "llama_print_timings:        load time =    4716.43 ms\n",
      "llama_print_timings:      sample time =       4.17 ms /    38 runs   (    0.11 ms per token,  9121.46 tokens per second)\n",
      "llama_print_timings: prompt eval time =   18494.42 ms /   967 tokens (   19.13 ms per token,    52.29 tokens per second)\n",
      "llama_print_timings:        eval time =    1436.60 ms /    37 runs   (   38.83 ms per token,    25.76 tokens per second)\n",
      "llama_print_timings:       total time =   20174.58 ms /  1004 tokens\n"
     ]
    },
    {
     "name": "stdout",
     "output_type": "stream",
     "text": [
      "\n",
      "\u001b[1m> Finished chain.\u001b[0m\n",
      "\n",
      "\n",
      "Sources:\n",
      "1. Math Methods II (SIADS 602): Quizzes, Assignments, And Late Penalties\n",
      "2. Capstone (SIADS 699): Late Submission Policy\n",
      "3. Causal Inference (SIADS 630): Late Policy\n",
      "4. Milestone II (SIADS 696): Late Submission Policy\n",
      "5. Presenting Uncertainty (SIADS 524): Late Submissions\n",
      "\n",
      "\n",
      "\u001b[1m> Entering new RetrievalQA chain...\u001b[0m\n"
     ]
    },
    {
     "name": "stderr",
     "output_type": "stream",
     "text": [
      "Llama.generate: prefix-match hit\n"
     ]
    },
    {
     "name": "stdout",
     "output_type": "stream",
     "text": [
      "You can get accommodations for a class by completing the Student Application Form in Accommodate and meeting with a coordinator in the Services for Students with Disabilities office (SSD). Alternatively, you can provide documentation of your disability to your faculty instructor and to your academic advisor in the Office of Academic and Student Affairs to determine a reasonable accommodation."
     ]
    },
    {
     "name": "stderr",
     "output_type": "stream",
     "text": [
      "\n",
      "llama_print_timings:        load time =    4716.43 ms\n",
      "llama_print_timings:      sample time =       7.60 ms /    79 runs   (    0.10 ms per token, 10389.27 tokens per second)\n",
      "llama_print_timings: prompt eval time =   17752.77 ms /   925 tokens (   19.19 ms per token,    52.10 tokens per second)\n",
      "llama_print_timings:        eval time =    2999.96 ms /    78 runs   (   38.46 ms per token,    26.00 tokens per second)\n",
      "llama_print_timings:       total time =   21059.85 ms /  1003 tokens\n"
     ]
    },
    {
     "name": "stdout",
     "output_type": "stream",
     "text": [
      "\n",
      "\u001b[1m> Finished chain.\u001b[0m\n",
      "\n",
      "\n",
      "Sources:\n",
      "1. n/a (n/a): Additional University Resources > Q: I need accommodations to best support my learning. Who can I talk to?\n",
      "2. Data Science for Social Good (SIADS 688): Accommodations\n",
      "3. n/a (n/a): Accommodations for Students with Disabilities Policy\n",
      "4. n/a (n/a): Accommodations for Students with Disabilities Policy\n",
      "5. Math Methods II (SIADS 602): Accommodations\n",
      "\n",
      "\n",
      "\u001b[1m> Entering new RetrievalQA chain...\u001b[0m\n"
     ]
    },
    {
     "name": "stderr",
     "output_type": "stream",
     "text": [
      "Llama.generate: prefix-match hit\n"
     ]
    },
    {
     "name": "stdout",
     "output_type": "stream",
     "text": [
      "A backpack is a bag designed to carry supplies and equipment on one's back."
     ]
    },
    {
     "name": "stderr",
     "output_type": "stream",
     "text": [
      "\n",
      "llama_print_timings:        load time =    4716.43 ms\n",
      "llama_print_timings:      sample time =       1.83 ms /    19 runs   (    0.10 ms per token, 10359.87 tokens per second)\n",
      "llama_print_timings: prompt eval time =   11565.35 ms /   606 tokens (   19.08 ms per token,    52.40 tokens per second)\n",
      "llama_print_timings:        eval time =     662.72 ms /    18 runs   (   36.82 ms per token,    27.16 tokens per second)\n",
      "llama_print_timings:       total time =   12361.78 ms /   624 tokens\n"
     ]
    },
    {
     "name": "stdout",
     "output_type": "stream",
     "text": [
      "\n",
      "\u001b[1m> Finished chain.\u001b[0m\n",
      "\n",
      "\n",
      "Sources:\n",
      "1. Visual Exploration of Data (SIADS 521): Syllabus Course Overview And Prerequisites\n",
      "2. Milestone II (SIADS 696): Technology Tips\n",
      "3. Qualitative Inquiry for Data Scientists (SIADS 601): Library Access\n",
      "4. Visual Exploration of Data (SIADS 521): Accessibility\n",
      "5. n/a (n/a): Funding > Engaged Learning Course and Project Funding\n",
      "\n",
      "\n",
      "\u001b[1m> Entering new RetrievalQA chain...\u001b[0m\n"
     ]
    },
    {
     "name": "stderr",
     "output_type": "stream",
     "text": [
      "Llama.generate: prefix-match hit\n"
     ]
    },
    {
     "name": "stdout",
     "output_type": "stream",
     "text": [
      "You can drop a course during the add/drop period by logging into Wolverine Access and clicking on the 'drop' tab in the Student Center. The deadline for dropping a course during the add/drop period is 11:59pm on the last day of classes for each session."
     ]
    },
    {
     "name": "stderr",
     "output_type": "stream",
     "text": [
      "\n",
      "llama_print_timings:        load time =    4716.43 ms\n",
      "llama_print_timings:      sample time =       6.10 ms /    64 runs   (    0.10 ms per token, 10491.80 tokens per second)\n",
      "llama_print_timings: prompt eval time =   11236.41 ms /   588 tokens (   19.11 ms per token,    52.33 tokens per second)\n",
      "llama_print_timings:        eval time =    2305.39 ms /    63 runs   (   36.59 ms per token,    27.33 tokens per second)\n",
      "llama_print_timings:       total time =   13764.61 ms /   651 tokens\n"
     ]
    },
    {
     "name": "stdout",
     "output_type": "stream",
     "text": [
      "\n",
      "\u001b[1m> Finished chain.\u001b[0m\n",
      "\n",
      "\n",
      "Sources:\n",
      "1. n/a (n/a): Class Registration > Q: What’s the latest that I can late drop a course?\n",
      "2. n/a (n/a): Class Registration > Q: What do I need to do to drop a course during the add/drop period?\n",
      "3. Deep Learning I (SIADS 642): Course Schedule\n",
      "4. n/a (n/a): Course Planning > Q: When will courses be offered next?\n",
      "5. n/a (n/a): Academics > Time Limit\n",
      "\n",
      "\n",
      "\u001b[1m> Entering new RetrievalQA chain...\u001b[0m\n"
     ]
    },
    {
     "name": "stderr",
     "output_type": "stream",
     "text": [
      "Llama.generate: prefix-match hit\n"
     ]
    },
    {
     "name": "stdout",
     "output_type": "stream",
     "text": [
      "To get an override for a class, please email the UMSI Registrar Team at [umsi.registrar@umich.edu](mailto:umsimadshelp@umich.edu) with the following information:\n",
      "Your name\n",
      "Your student ID number\n",
      "The term (fall, winter, or spring/summer)\n",
      "The catalog number (e.g., SIADS 501)\n",
      "The section number (001, 002, etc.)"
     ]
    },
    {
     "name": "stderr",
     "output_type": "stream",
     "text": [
      "\n",
      "llama_print_timings:        load time =    4716.43 ms\n",
      "llama_print_timings:      sample time =      10.12 ms /   107 runs   (    0.09 ms per token, 10567.90 tokens per second)\n",
      "llama_print_timings: prompt eval time =   20853.65 ms /  1086 tokens (   19.20 ms per token,    52.08 tokens per second)\n",
      "llama_print_timings:        eval time =    4176.25 ms /   106 runs   (   39.40 ms per token,    25.38 tokens per second)\n",
      "llama_print_timings:       total time =   25432.15 ms /  1192 tokens\n"
     ]
    },
    {
     "name": "stdout",
     "output_type": "stream",
     "text": [
      "\n",
      "\u001b[1m> Finished chain.\u001b[0m\n",
      "\n",
      "\n",
      "Sources:\n",
      "1. n/a (n/a): Class Registration > Q: What is a Backpack?\n",
      "2. n/a (n/a): Academics > Overrides/Permission to Enroll\n",
      "3. Unsupervised Learning (SIADS 543): Grading And Course Checklist\n",
      "4. Social Media Analytics (SIADS 682): Content Warnings\n",
      "5. Search and Recommender Systems (SIADS 685): Letter Grades, Course Grades, And Late Submission Policy\n",
      "\n",
      "\n",
      "\u001b[1m> Entering new RetrievalQA chain...\u001b[0m\n"
     ]
    },
    {
     "name": "stderr",
     "output_type": "stream",
     "text": [
      "Llama.generate: prefix-match hit\n"
     ]
    },
    {
     "name": "stdout",
     "output_type": "stream",
     "text": [
      "To take a leave of absence from the MADS program, you must notify the MADS Academic Advising Team at [umsi.advising.mads@umich.edu](mailto:umsi.advising.mads@umich.edu) of your intentions. If you have already registered for classes, you will need to submit a term withdrawal form available from the UMSI Registrar Team (umsi.registrar@umich.edu)."
     ]
    },
    {
     "name": "stderr",
     "output_type": "stream",
     "text": [
      "\n",
      "llama_print_timings:        load time =    4716.43 ms\n",
      "llama_print_timings:      sample time =      10.27 ms /   107 runs   (    0.10 ms per token, 10416.67 tokens per second)\n",
      "llama_print_timings: prompt eval time =   24478.12 ms /  1270 tokens (   19.27 ms per token,    51.88 tokens per second)\n",
      "llama_print_timings:        eval time =    4276.86 ms /   106 runs   (   40.35 ms per token,    24.78 tokens per second)\n",
      "llama_print_timings:       total time =   29175.41 ms /  1376 tokens\n"
     ]
    },
    {
     "name": "stdout",
     "output_type": "stream",
     "text": [
      "\n",
      "\u001b[1m> Finished chain.\u001b[0m\n",
      "\n",
      "\n",
      "Sources:\n",
      "1. n/a (n/a): Academics > Leave of Absence\n",
      "2. n/a (n/a): Academics > Grades and Grading Policy > Grade of Incomplete (I)\n",
      "3. n/a (n/a): Additional University Resources > Q: What mental health resources are available to MADS students?\n",
      "4. n/a (n/a): MADS Slack Policy, Standards, and Practices > MADS Slack Practices > Acknowledge, even when you want to work on it later\n",
      "5. n/a (n/a): Grades/Transcripts > Q: What is the minimum GPA requirement for MADS students?\n",
      "\n",
      "\n",
      "\u001b[1m> Entering new RetrievalQA chain...\u001b[0m\n"
     ]
    },
    {
     "name": "stderr",
     "output_type": "stream",
     "text": [
      "Llama.generate: prefix-match hit\n"
     ]
    },
    {
     "name": "stdout",
     "output_type": "stream",
     "text": [
      "The prerequisites for Search and Recommender Systems (SIADS 685) are:\n",
      "- Advisory Prerequisites: SIADS 642: Deep learning, SIADS 652: Network analysis, SIADS 655: Applied NLP, SIADS 611: Database Architecture and Technology\n",
      "- Enforced Prerequisites: SIADS 694 (first half of Milestone II)"
     ]
    },
    {
     "name": "stderr",
     "output_type": "stream",
     "text": [
      "\n",
      "llama_print_timings:        load time =    4716.43 ms\n",
      "llama_print_timings:      sample time =       9.79 ms /   106 runs   (    0.09 ms per token, 10827.37 tokens per second)\n",
      "llama_print_timings: prompt eval time =   13251.25 ms /   691 tokens (   19.18 ms per token,    52.15 tokens per second)\n",
      "llama_print_timings:        eval time =    3908.67 ms /   105 runs   (   37.23 ms per token,    26.86 tokens per second)\n",
      "llama_print_timings:       total time =   17481.89 ms /   796 tokens\n"
     ]
    },
    {
     "name": "stdout",
     "output_type": "stream",
     "text": [
      "\n",
      "\u001b[1m> Finished chain.\u001b[0m\n",
      "\n",
      "\n",
      "Sources:\n",
      "1. Search and Recommender Systems (SIADS 685): Course Overview And Prerequisites\n",
      "2. Search and Recommender Systems (SIADS 685): Instructor And Course Assistants\n",
      "3. Search and Recommender Systems (SIADS 685): Week 2: Retrieval Models, Web Search (Part I)\n",
      "4. n/a (n/a): General Academic Advising > Q: Can you advise me on which courses are the heaviest workload, the most difficult, etc?\n",
      "5. Data Science for Social Good (SIADS 688): Week 4 - Personalizing The Ask: Open Content, Recommender, And Reputation Systems\n"
     ]
    }
   ],
   "source": [
    "for _, row in df.iterrows():\n",
    "    llm_response = qa_chain(row[\"question\"])\n",
    "    process_llm_response(llm_response)\n",
    "\n",
    "    formatter.add_response(llm_response, row[\"ground_truth\"])\n",
    "\n",
    "    # Save after each response in case this thing crashes\n",
    "    with open(f\"./cache/{retrieval_strategy}_{model}_formatter.pickle\", 'wb') as handle:\n",
    "        pickle.dump(formatter, handle)\n",
    "\n",
    "    with open(f\"./cache/{retrieval_strategy}_{model}_responses.pickle\", 'wb') as handle:\n",
    "        pickle.dump(formatter.get_responses(), handle)"
   ]
  },
  {
   "cell_type": "markdown",
   "metadata": {},
   "source": [
    "## Evaluation with BERTScore"
   ]
  },
  {
   "cell_type": "code",
   "execution_count": 22,
   "metadata": {},
   "outputs": [],
   "source": [
    "with open(f\"./cache/{retrieval_strategy}_{model}_responses.pickle\", \"rb\") as handle:\n",
    "    rag_responses = pickle.load(handle)"
   ]
  },
  {
   "cell_type": "code",
   "execution_count": 23,
   "metadata": {},
   "outputs": [
    {
     "name": "stdout",
     "output_type": "stream",
     "text": [
      "Which class involves time series analysis?\n",
      ">>> Data Mining II, SIADS 632 includes a particular focus on time series analysis.\n",
      "----------------------------------------------------------------------------------------------------\n",
      "Data Mining II (SIADS 632) involves time series analysis.\n",
      "\n",
      "====================================================================================================\n",
      "====================================================================================================\n",
      "\n",
      "Who teaches the SQL and Databases class?\n",
      ">>> The primary instructor for SQL and Databases is Graham Hukill. Additional course assistants include, Derek Bruckner, Emily Schemanske, Jungseo Lee, and Toby Kemp.\n",
      "----------------------------------------------------------------------------------------------------\n",
      "Graham Hukill (gshukill@umich.edu)\n",
      "\n",
      "====================================================================================================\n",
      "====================================================================================================\n",
      "\n",
      "What are the prerequisites for Data Science for Social Good?\n",
      ">>> SIADS 630, 631, and 694\n",
      "----------------------------------------------------------------------------------------------------\n",
      "The prerequisites for Data Science for Social Good (SIADS 688) are:\n",
      "- Preceded or accompanied by SIADS 630, 631, and 694; (C- or better)\n",
      "\n",
      "====================================================================================================\n",
      "====================================================================================================\n",
      "\n",
      "When are the office hours for the Math Methods course?\n",
      ">>> Office hours for Math Methods are held at the following times: Alex McLeod: Monday at 11:45 am EST, Saurabh Budholiya: Friday at 9:00 am EST, Alexis Castellano: Thursdays at 7:00 pm EST\n",
      "----------------------------------------------------------------------------------------------------\n",
      "The office hours for Math Methods (SIADS 602) are on Wednesdays from 4:00-5:00 pm EST with Hanna Hoover.\n",
      "\n",
      "====================================================================================================\n",
      "====================================================================================================\n",
      "\n",
      "Are there any weekly readings for Milestone II?\n",
      ">>> There is introductory material during the first week of the course, but generally speaking, no weekly readings in this course.\n",
      "----------------------------------------------------------------------------------------------------\n",
      "No.\n",
      "\n",
      "====================================================================================================\n",
      "====================================================================================================\n",
      "\n",
      "What are the outcomes of Qualitative Inquiry?\n",
      ">>> Upon successful completion of this course, students will be able to:\n",
      "\n",
      "1.  Collect, represent, and analyze qualitative data about a quantitative data set, by…\n",
      "2.  Conducting semi-structured interviews;\n",
      "3.  Processing interview notes into discrete pieces of qualitative data; and \n",
      "4.  Analyze qualitative data using affinity walls.\n",
      "5.  Develop a narrative about qualitative findings that support later quantitative analysis.\n",
      "6.  Communicate qualitative findings in written form.\n",
      "----------------------------------------------------------------------------------------------------\n",
      "Qualitative Inquiry for Data Scientists (SIADS 601) has the following outcomes:\n",
      "1. Collect, represent, and analyze qualitative data about a quantitative data set.\n",
      "2. Develop a narrative about qualitative findings that support later quantitative analysis.\n",
      "3. Communicate qualitative findings in written form.\n",
      "\n",
      "====================================================================================================\n",
      "====================================================================================================\n",
      "\n",
      "What textbook is required for SIADS 505?\n",
      ">>> Python for Data Analysis: Data Wrangling with Pandas, NumPy, and iPython 2nd edition by Wes McKinney (O'Reilly). Copyright 2017 Wes McKinney, 978-1-491-95766-0.\n",
      "----------------------------------------------------------------------------------------------------\n",
      "The textbook required for SIADS 505 is Jurafsky, Dan, and Martin, James H. Speech and Language Processing: An Introduction to Natural Language Processing, Computational Linguistics, and Speech Recognition. Third Edition draft.\n",
      "\n",
      "====================================================================================================\n",
      "====================================================================================================\n",
      "\n",
      "What textbook is required for Data Manipulation?\n",
      ">>> Python for Data Analysis: Data Wrangling with Pandas, NumPy, and iPython 2nd edition by Wes McKinney (O'Reilly). Copyright 2017 Wes McKinney, 978-1-491-95766-0.\n",
      "----------------------------------------------------------------------------------------------------\n",
      "Data Manipulation (SIADS 505) requires no textbook purchase.\n",
      "\n",
      "====================================================================================================\n",
      "====================================================================================================\n",
      "\n",
      "Which week of unsupervised learning covers DBSCAN?\n",
      ">>> Week 2\n",
      "----------------------------------------------------------------------------------------------------\n",
      "Week 2\n",
      "\n",
      "====================================================================================================\n",
      "====================================================================================================\n",
      "\n",
      "How many credits are required to complete the MADS program?\n",
      ">>> 34\n",
      "----------------------------------------------------------------------------------------------------\n",
      "The minimum number of credits required to complete the MADS program is 34 credits.\n",
      "\n",
      "====================================================================================================\n",
      "====================================================================================================\n",
      "\n",
      "How long do students have to complete the MADS program start to finish?\n",
      ">>> Five years\n",
      "----------------------------------------------------------------------------------------------------\n",
      "According to the MADS Student Handbook, students have five years from the date of their first enrollment in the program to complete all coursework.\n",
      "\n",
      "====================================================================================================\n",
      "====================================================================================================\n",
      "\n",
      "How many points is the comprehensive oral exam worth in SIADS 593?\n",
      ">>> 400\n",
      "----------------------------------------------------------------------------------------------------\n",
      "The comprehensive oral exam is worth 20% of the final grade in SIADS 593.\n",
      "\n",
      "====================================================================================================\n",
      "====================================================================================================\n",
      "\n",
      "What is the penalty for late submission in SIADS 630?\n",
      ">>> The late-submission policy is 15% daily-recurring reduction in grade for the first three days after the submission deadline. You will receive a zero (0) if your assignment is turned in four or more days late. Students have one free pass to submit all of one week's assessments late (up to three days).\n",
      "----------------------------------------------------------------------------------------------------\n",
      "The penalty for late submission in SIADS 630 is 15% daily-recurring reduction in grade for the first three days after the submission deadline.\n",
      "\n",
      "====================================================================================================\n",
      "====================================================================================================\n",
      "\n",
      "How do I get accommodations for a class?\n",
      ">>> Register with the U-M Services for Students with Disabilities office (SSD) (https://ssd.umich.edu/) and also meet with an academic advisor in the UMSI Office of Academic and Student Affairs\n",
      "----------------------------------------------------------------------------------------------------\n",
      "You can get accommodations for a class by completing the Student Application Form in Accommodate and meeting with a coordinator in the Services for Students with Disabilities office (SSD). Alternatively, you can provide documentation of your disability to your faculty instructor and to your academic advisor in the Office of Academic and Student Affairs to determine a reasonable accommodation.\n",
      "\n",
      "====================================================================================================\n",
      "====================================================================================================\n",
      "\n",
      "What is a backpack?\n",
      ">>> The Backpack is a feature available on Wolverine Access that works much like the \"shopping carts\" you have seen on many retail websites. With the Backpack you can prepare for your upcoming registration appointment by filling it with classes you want to take.\n",
      "----------------------------------------------------------------------------------------------------\n",
      "A backpack is a bag designed to carry supplies and equipment on one's back.\n",
      "\n",
      "====================================================================================================\n",
      "====================================================================================================\n",
      "\n",
      "When is the latest I can drop a course?\n",
      ">>> The deadline to submit a request for a late drop (withdrawal) is 11:59pm on the last day of classes for each session.\n",
      "----------------------------------------------------------------------------------------------------\n",
      "You can drop a course during the add/drop period by logging into Wolverine Access and clicking on the 'drop' tab in the Student Center. The deadline for dropping a course during the add/drop period is 11:59pm on the last day of classes for each session.\n",
      "\n",
      "====================================================================================================\n",
      "====================================================================================================\n",
      "\n",
      "How do I get an override to take a class?\n",
      ">>> If Wolverine Access is not allowing you to register for a course, and there are seats available, please request an override by emailing the UMSI Registrar Team at umsi.registrar@umich.edu. Provide the following information in your email request for an override: your name, student ID number, term (fall, winter, or spring/summer), catalog number (e.g., SIADS 501), and section number (001, 002, etc.).\n",
      "----------------------------------------------------------------------------------------------------\n",
      "To get an override for a class, please email the UMSI Registrar Team at [umsi.registrar@umich.edu](mailto:umsimadshelp@umich.edu) with the following information:\n",
      "Your name\n",
      "Your student ID number\n",
      "The term (fall, winter, or spring/summer)\n",
      "The catalog number (e.g., SIADS 501)\n",
      "The section number (001, 002, etc.)\n",
      "\n",
      "====================================================================================================\n",
      "====================================================================================================\n",
      "\n",
      "How do I take a leave of absence from the MADS program?\n",
      ">>> If you decide to take a leave of absence and have not yet used the online course registration, you do not need to submit any paperwork, but should notify the MADS Academic Advising Team at umsi.advising.mads@umich.edu of your intentions. If you have already registered, you will need to submit a term withdrawal form to drop all your classes for the semester.\n",
      "----------------------------------------------------------------------------------------------------\n",
      "To take a leave of absence from the MADS program, you must notify the MADS Academic Advising Team at [umsi.advising.mads@umich.edu](mailto:umsi.advising.mads@umich.edu) of your intentions. If you have already registered for classes, you will need to submit a term withdrawal form available from the UMSI Registrar Team (umsi.registrar@umich.edu).\n",
      "\n",
      "====================================================================================================\n",
      "====================================================================================================\n",
      "\n",
      "What are the prerequisites for Search and Recommender Systems?\n",
      ">>> SIADS 642, 652, 655, 611, and 694\n",
      "----------------------------------------------------------------------------------------------------\n",
      "The prerequisites for Search and Recommender Systems (SIADS 685) are:\n",
      "- Advisory Prerequisites: SIADS 642: Deep learning, SIADS 652: Network analysis, SIADS 655: Applied NLP, SIADS 611: Database Architecture and Technology\n",
      "- Enforced Prerequisites: SIADS 694 (first half of Milestone II)\n",
      "\n",
      "====================================================================================================\n",
      "====================================================================================================\n",
      "\n"
     ]
    }
   ],
   "source": [
    "for i in range(len(rag_responses[\"question\"])):\n",
    "    print(rag_responses[\"question\"][i])\n",
    "    print(\">>>\", rag_responses[\"ground_truth\"][i])\n",
    "    print(\"-\" * 100)\n",
    "    print(rag_responses[\"answer\"][i])\n",
    "    print(\"\")\n",
    "    print(\"=\" * 100)\n",
    "    print(\"=\" * 100)\n",
    "    print(\"\")"
   ]
  },
  {
   "cell_type": "code",
   "execution_count": 24,
   "metadata": {},
   "outputs": [],
   "source": [
    "responses_df = pd.DataFrame(rag_responses)\n",
    "\n",
    "responses_df[\"eye_check\"] = [\n",
    "    1, # 'Which class involves time series analysis?',\n",
    "    1, # 'Who teaches the SQL and Databases class?',\n",
    "    1, # 'What are the prerequisites for Data Science for Social Good?',\n",
    "    -1, # 'When are the office hours for the Math Methods course?',\n",
    "    1, # 'Are there any weekly readings for Milestone II?',\n",
    "    1, # 'What are the outcomes of Qualitative Inquiry?',\n",
    "    -1, # 'What textbook is required for SIADS 505?',\n",
    "    -1, # 'What textbook is required for Data Manipulation?',\n",
    "    1, # 'Which week of unsupervised learning covers DBSCAN?',\n",
    "    1, # 'How many credits are required to complete the MADS program?',\n",
    "    1, # 'How long do students have to complete the MADS program start to finish?',\n",
    "    -1, # 'How many points is the comprehensive oral exam worth in SIADS 593?',\n",
    "    1, # 'What is the penalty for late submission in SIADS 630?',\n",
    "    1, # 'How do I get accommodations for a class?',\n",
    "    -1, # 'What is a backpack?',\n",
    "    1, # 'When is the latest I can drop a course?',\n",
    "    1, # 'How do I get an override to take a class?',\n",
    "    1, # 'How do I take a leave of absence from the MADS program?',\n",
    "    1, # 'What are the prerequisites for Search and Recommender Systems?'\n",
    "]"
   ]
  },
  {
   "cell_type": "code",
   "execution_count": 25,
   "metadata": {},
   "outputs": [],
   "source": [
    "scores = [\n",
    "    [\n",
    "        t.item()\n",
    "        for t in score(\n",
    "            [rag_responses[\"answer\"][i]],\n",
    "            [rag_responses[\"ground_truth\"][i]],\n",
    "            rescale_with_baseline=True,\n",
    "            lang=\"en\",\n",
    "        )\n",
    "    ]\n",
    "    for i in range(len(rag_responses[\"question\"]))\n",
    "]\n",
    "\n",
    "with open(f\"./cache/{retrieval_strategy}_{model}_bertscores.pickle\", \"wb\") as handle:\n",
    "    pickle.dump(scores, handle)"
   ]
  },
  {
   "cell_type": "code",
   "execution_count": 26,
   "metadata": {},
   "outputs": [],
   "source": [
    "with open(f\"./cache/{retrieval_strategy}_{model}_bertscores.pickle\", \"rb\") as handle:\n",
    "    scores = pickle.load(handle)\n",
    "\n",
    "bert_df = pd.concat(\n",
    "    [\n",
    "        responses_df,\n",
    "        pd.DataFrame(scores, columns=[\"precision\", \"recall\", \"f1\"]),\n",
    "    ],\n",
    "    axis=\"columns\",\n",
    ")\n",
    "\n",
    "bert_df[\"abs_diff\"] = (bert_df[\"eye_check\"] - bert_df[\"f1\"]).abs()"
   ]
  },
  {
   "cell_type": "code",
   "execution_count": 27,
   "metadata": {},
   "outputs": [
    {
     "data": {
      "image/png": "[encoded data removed]",
      "text/plain": [
       "<Figure size 640x480 with 2 Axes>"
      ]
     },
     "metadata": {},
     "output_type": "display_data"
    }
   ],
   "source": [
    "sns.heatmap(\n",
    "    bert_df[[\"precision\", \"recall\", \"f1\", \"eye_check\"]],\n",
    "    yticklabels=bert_df[\"question\"].str[:42],\n",
    "    annot=True,\n",
    "    cmap=sns.cubehelix_palette(as_cmap=True),\n",
    ")\n",
    "\n",
    "plt.suptitle(\"BERTScore Evaluation (normalized)\")\n",
    "plt.title(f\"Strategy: {retrieval_strategy} | Model: {model}\", fontsize=10)\n",
    "\n",
    "plt.show()"
   ]
  },
  {
   "cell_type": "code",
   "execution_count": null,
   "metadata": {},
   "outputs": [],
   "source": []
  }
 ],
 "metadata": {
  "accelerator": "GPU",
  "colab": {
   "gpuType": "T4",
   "provenance": []
  },
  "kernelspec": {
   "display_name": "Python 3 (ipykernel)",
   "language": "python",
   "name": "python3"
  },
  "language_info": {
   "codemirror_mode": {
    "name": "ipython",
    "version": 3
   },
   "file_extension": ".py",
   "mimetype": "text/x-python",
   "name": "python",
   "nbconvert_exporter": "python",
   "pygments_lexer": "ipython3",
   "version": "3.12.1"
  }
 },
 "nbformat": 4,
 "nbformat_minor": 4
}
