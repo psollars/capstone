{
 "cells": [
  {
   "cell_type": "code",
   "execution_count": 1,
   "metadata": {
    "executionInfo": {
     "elapsed": 925,
     "status": "ok",
     "timestamp": 1710981103835,
     "user": {
      "displayName": "Patrick Sollars",
      "userId": "12439928852339899354"
     },
     "user_tz": 300
    },
    "id": "QwOjhhrmC2Ln"
   },
   "outputs": [],
   "source": [
    "from langchain.callbacks.manager import CallbackManager\n",
    "from langchain.callbacks.streaming_stdout import StreamingStdOutCallbackHandler\n",
    "from langchain.chains import RetrievalQA\n",
    "from langchain_community.llms import OpenAI\n",
    "import pandas as pd\n",
    "import matplotlib.pyplot as plt\n",
    "import seaborn as sns\n",
    "from bert_score import score\n",
    "import logging\n",
    "import pickle\n",
    "from ragatouille import RAGPretrainedModel\n",
    "\n",
    "logging.getLogger(\"transformers.modeling_utils\").setLevel(logging.ERROR)"
   ]
  },
  {
   "cell_type": "markdown",
   "metadata": {},
   "source": [
    "## Helpers"
   ]
  },
  {
   "cell_type": "code",
   "execution_count": 5,
   "metadata": {},
   "outputs": [],
   "source": [
    "retrieval_strategy = \"colbert\"\n",
    "model = \"llama-2-13b-chat.Q4_K_M\"\n",
    "\n",
    "persist_directory = \"./../embeddings\"\n",
    "index_root = \"./../colbert_index/\"\n",
    "colbert_path = \"./../colbertv2.0/\"\n",
    "index_path = \"./../colbert_index/colbert/indexes/documents/\""
   ]
  },
  {
   "cell_type": "code",
   "execution_count": 3,
   "metadata": {},
   "outputs": [],
   "source": [
    "def process_llm_response(llm_response):\n",
    "    print(\"\\n\\nSources:\")\n",
    "    for i, source in enumerate(llm_response[\"source_documents\"]):\n",
    "        m = source.metadata\n",
    "        print(f\"{i + 1}. {m['course_title']} ({m['course_number']}): {m['heading']}\")"
   ]
  },
  {
   "cell_type": "code",
   "execution_count": 4,
   "metadata": {},
   "outputs": [],
   "source": [
    "class ResponseFormatter:\n",
    "    def __init__(self):\n",
    "        self.responses = {\n",
    "            \"question\": [],\n",
    "            \"contexts\": [],\n",
    "            \"answer\": [],\n",
    "            \"ground_truth\": [],\n",
    "        }\n",
    "\n",
    "    def add_response(self, llm_response, ground_truth):\n",
    "        self.responses[\"question\"].append(llm_response[\"query\"])\n",
    "        # self.responses[\"question\"].append(llm_response[\"question\"])\n",
    "        self.responses[\"contexts\"].append(\n",
    "            [doc.page_content for doc in llm_response[\"source_documents\"]]\n",
    "        )\n",
    "        self.responses[\"answer\"].append(llm_response[\"result\"])\n",
    "        # self.responses[\"answer\"].append(llm_response[\"answer\"])\n",
    "        self.responses[\"ground_truth\"].append(ground_truth)\n",
    "\n",
    "    def get_responses(self):\n",
    "        return self.responses\n",
    "\n",
    "    def get_dataframe(self):\n",
    "        pd.DataFrame(self.responses[[\"question\", \"answer\", \"ground_truth\"]])"
   ]
  },
  {
   "cell_type": "markdown",
   "metadata": {},
   "source": [
    "## Colbert Retriever"
   ]
  },
  {
   "cell_type": "code",
   "execution_count": 8,
   "metadata": {
    "executionInfo": {
     "elapsed": 9614,
     "status": "ok",
     "timestamp": 1710981480332,
     "user": {
      "displayName": "Patrick Sollars",
      "userId": "12439928852339899354"
     },
     "user_tz": 300
    },
    "id": "-wIDl75YDHrS"
   },
   "outputs": [
    {
     "name": "stdout",
     "output_type": "stream",
     "text": [
      "[Apr 01, 20:45:08] Loading segmented_maxsim_cpp extension (set COLBERT_LOAD_TORCH_EXTENSION_VERBOSE=True for more info)...\n"
     ]
    },
    {
     "name": "stderr",
     "output_type": "stream",
     "text": [
      "/Users/arnewman/miniconda3/envs/rag/lib/python3.12/site-packages/torch/cuda/amp/grad_scaler.py:126: UserWarning: torch.cuda.amp.GradScaler is enabled, but CUDA is not available.  Disabling.\n",
      "  warnings.warn(\n"
     ]
    }
   ],
   "source": [
    "RAG = RAGPretrainedModel.from_index(index_path=index_path)"
   ]
  },
  {
   "cell_type": "code",
   "execution_count": 9,
   "metadata": {
    "executionInfo": {
     "elapsed": 3,
     "status": "ok",
     "timestamp": 1710981486735,
     "user": {
      "displayName": "Patrick Sollars",
      "userId": "12439928852339899354"
     },
     "user_tz": 300
    },
    "id": "EugAMdnjFlj4"
   },
   "outputs": [],
   "source": [
    "retriever = RAG.as_langchain_retriever(k=5)"
   ]
  },
  {
   "cell_type": "markdown",
   "metadata": {},
   "source": [
    "## Quantized Model"
   ]
  },
  {
   "cell_type": "code",
   "execution_count": 10,
   "metadata": {
    "colab": {
     "base_uri": "https://localhost:8080/"
    },
    "executionInfo": {
     "elapsed": 108136,
     "status": "ok",
     "timestamp": 1710981617241,
     "user": {
      "displayName": "Patrick Sollars",
      "userId": "12439928852339899354"
     },
     "user_tz": 300
    },
    "id": "aG_eNdSIGxwD",
    "outputId": "faf777f1-7a80-4b26-a452-9c493a6a5f47"
   },
   "outputs": [
    {
     "name": "stderr",
     "output_type": "stream",
     "text": [
      "/Users/arnewman/miniconda3/envs/rag/lib/python3.12/site-packages/langchain_core/_api/deprecation.py:117: LangChainDeprecationWarning: The class `langchain_community.llms.openai.OpenAI` was deprecated in langchain-community 0.0.10 and will be removed in 0.2.0. An updated version of the class exists in the langchain-openai package and should be used instead. To use it run `pip install -U langchain-openai` and import as `from langchain_openai import OpenAI`.\n",
      "  warn_deprecated(\n"
     ]
    }
   ],
   "source": [
    "# llm_open = LlamaCpp(\n",
    "#     #model_path=f\"./../models/{model}.gguf\",  # https://huggingface.co/TheBloke/Llama-2-7B-GGUF\n",
    "#     model_path=f\"/Users/arnewman/.cache/lm-studio/models/TheBloke/Llama-2-13B-chat-GGUF/{model}.gguf\",  # https://huggingface.co/TheBloke/Llama-2-7B-GGUF\n",
    "#     n_ctx=4096,  # 4096 for Llama, 32*1024 for Mistral\n",
    "#     n_gpu_layers=50,\n",
    "#     temperature=0.15,\n",
    "#     top_p=1,\n",
    "#     top_k=40,\n",
    "#     repeat_penalty=1.1,\n",
    "#     max_tokens=1024,\n",
    "#     callback_manager=CallbackManager([StreamingStdOutCallbackHandler()]),\n",
    "#     stream=True,\n",
    "# )\n",
    "\n",
    "llm_open = OpenAI(\n",
    "    openai_api_base=\"http://localhost:1234/v1\",\n",
    "    openai_api_key=\"hello\",\n",
    "    temperature=0.15,\n",
    "    top_p=1,\n",
    "    max_tokens=1024,\n",
    "    callback_manager=CallbackManager([StreamingStdOutCallbackHandler()]),\n",
    ")"
   ]
  },
  {
   "cell_type": "code",
   "execution_count": 11,
   "metadata": {},
   "outputs": [],
   "source": [
    "from langchain_core.prompts import PromptTemplate\n",
    "\n",
    "template = \"\"\"\n",
    "Use only the following pieces of context to answer the question at the end. \n",
    "Keep your answers concise and do not provide additional explanations or interpretations. \n",
    "If the answer cannot be deduced from the context, just say that you don't know the answer, don't try to make up an answer.\n",
    "\n",
    "{context}\n",
    "\n",
    "Question: {question}\n",
    "Helpful Answer:\n",
    "\"\"\""
   ]
  },
  {
   "cell_type": "code",
   "execution_count": 12,
   "metadata": {
    "executionInfo": {
     "elapsed": 3,
     "status": "ok",
     "timestamp": 1710981617242,
     "user": {
      "displayName": "Patrick Sollars",
      "userId": "12439928852339899354"
     },
     "user_tz": 300
    },
    "id": "llNw6QC1GsLa"
   },
   "outputs": [],
   "source": [
    "qa_chain = RetrievalQA.from_chain_type(\n",
    "    # qa_chain = RetrievalQAWithSourcesChain.from_chain_type(\n",
    "    llm=llm_open,\n",
    "    chain_type=\"stuff\",\n",
    "    retriever=retriever,\n",
    "    return_source_documents=True,\n",
    "    verbose=True,\n",
    "    chain_type_kwargs={\n",
    "        \"prompt\": PromptTemplate(\n",
    "            template=template, input_variables=[\"context\", \"question\"]\n",
    "        )\n",
    "    },\n",
    ")"
   ]
  },
  {
   "cell_type": "code",
   "execution_count": null,
   "metadata": {},
   "outputs": [],
   "source": [
    "print(qa_chain.combine_documents_chain.llm_chain.prompt.template)"
   ]
  },
  {
   "cell_type": "code",
   "execution_count": 13,
   "metadata": {
    "colab": {
     "base_uri": "https://localhost:8080/"
    },
    "executionInfo": {
     "elapsed": 842611,
     "status": "ok",
     "timestamp": 1710982459850,
     "user": {
      "displayName": "Patrick Sollars",
      "userId": "12439928852339899354"
     },
     "user_tz": 300
    },
    "id": "6jSlOi4WHCKI",
    "outputId": "785327bc-0dc8-4e5b-a2a8-eb2c88d7a3a1"
   },
   "outputs": [
    {
     "name": "stderr",
     "output_type": "stream",
     "text": [
      "/Users/arnewman/miniconda3/envs/rag/lib/python3.12/site-packages/langchain_core/_api/deprecation.py:117: LangChainDeprecationWarning: The function `__call__` was deprecated in LangChain 0.1.0 and will be removed in 0.2.0. Use invoke instead.\n",
      "  warn_deprecated(\n"
     ]
    },
    {
     "name": "stdout",
     "output_type": "stream",
     "text": [
      "\n",
      "\n",
      "\u001b[1m> Entering new RetrievalQA chain...\u001b[0m\n",
      "Loading searcher for index documents for the first time... This may take a few seconds\n",
      "[Apr 01, 20:46:23] #> Loading codec...\n",
      "[Apr 01, 20:46:23] #> Loading IVF...\n",
      "[Apr 01, 20:46:23] Loading segmented_lookup_cpp extension (set COLBERT_LOAD_TORCH_EXTENSION_VERBOSE=True for more info)...\n"
     ]
    },
    {
     "name": "stderr",
     "output_type": "stream",
     "text": [
      "/Users/arnewman/miniconda3/envs/rag/lib/python3.12/site-packages/torch/cuda/amp/grad_scaler.py:126: UserWarning: torch.cuda.amp.GradScaler is enabled, but CUDA is not available.  Disabling.\n",
      "  warnings.warn(\n"
     ]
    },
    {
     "name": "stdout",
     "output_type": "stream",
     "text": [
      "[Apr 01, 20:46:23] #> Loading doclens...\n"
     ]
    },
    {
     "name": "stderr",
     "output_type": "stream",
     "text": [
      "100%|████████████████████████████████████████████| 1/1 [00:00<00:00, 950.66it/s]"
     ]
    },
    {
     "name": "stdout",
     "output_type": "stream",
     "text": [
      "[Apr 01, 20:46:23] #> Loading codes and residuals...\n"
     ]
    },
    {
     "name": "stderr",
     "output_type": "stream",
     "text": [
      "\n",
      "100%|█████████████████████████████████████████████| 1/1 [00:00<00:00, 39.31it/s]"
     ]
    },
    {
     "name": "stdout",
     "output_type": "stream",
     "text": [
      "[Apr 01, 20:46:23] Loading filter_pids_cpp extension (set COLBERT_LOAD_TORCH_EXTENSION_VERBOSE=True for more info)...\n"
     ]
    },
    {
     "name": "stderr",
     "output_type": "stream",
     "text": [
      "\n"
     ]
    },
    {
     "name": "stdout",
     "output_type": "stream",
     "text": [
      "[Apr 01, 20:46:23] Loading decompress_residuals_cpp extension (set COLBERT_LOAD_TORCH_EXTENSION_VERBOSE=True for more info)...\n",
      "Searcher loaded!\n",
      "\n",
      "#> QueryTokenizer.tensorize(batch_text[0], batch_background[0], bsize) ==\n",
      "#> Input: . Which class involves time series analysis?, \t\t True, \t\t None\n",
      "#> Output IDs: torch.Size([32]), tensor([ 101,    1, 2029, 2465, 7336, 2051, 2186, 4106, 1029,  102,  103,  103,\n",
      "         103,  103,  103,  103,  103,  103,  103,  103,  103,  103,  103,  103,\n",
      "         103,  103,  103,  103,  103,  103,  103,  103])\n",
      "#> Output Mask: torch.Size([32]), tensor([1, 1, 1, 1, 1, 1, 1, 1, 1, 1, 0, 0, 0, 0, 0, 0, 0, 0, 0, 0, 0, 0, 0, 0,\n",
      "        0, 0, 0, 0, 0, 0, 0, 0])\n",
      "\n"
     ]
    },
    {
     "name": "stderr",
     "output_type": "stream",
     "text": [
      "/Users/arnewman/miniconda3/envs/rag/lib/python3.12/site-packages/torch/amp/autocast_mode.py:250: UserWarning: User provided device_type of 'cuda', but CUDA is not available. Disabling\n",
      "  warnings.warn(\n"
     ]
    },
    {
     "name": "stdout",
     "output_type": "stream",
     "text": [
      "\n",
      "\u001b[1m> Finished chain.\u001b[0m\n",
      "\n",
      "\n",
      "Sources:\n",
      "1. Data Mining II (SIADS 632): Syllabus SIADS 632: Data Mining II Course Overview And Prerequisites\n",
      "2. Data Mining II (SIADS 632): Learning Outcomes\n",
      "3. Data Science for Social Good (SIADS 688): Learning Outcomes\n",
      "4. Causal Inference (SIADS 630): Course Schedule\n",
      "5. Network Analysis (SIADS 652): Course Schedule\n"
     ]
    }
   ],
   "source": [
    "query = \"Which class involves time series analysis?\"\n",
    "\n",
    "llm_response = qa_chain(query)\n",
    "process_llm_response(llm_response)"
   ]
  },
  {
   "cell_type": "markdown",
   "metadata": {},
   "source": [
    "## Run the Model"
   ]
  },
  {
   "cell_type": "code",
   "execution_count": 14,
   "metadata": {},
   "outputs": [
    {
     "name": "stdout",
     "output_type": "stream",
     "text": [
      "Which class involves time series analysis?\n",
      "Who teaches the SQL and Databases class?\n",
      "What are the prerequisites for Data Science for Social Good?\n",
      "When are the office hours for the Math Methods course?\n",
      "Are there any weekly readings for Milestone II?\n",
      "What are the outcomes of Qualitative Inquiry?\n",
      "What textbook is required for SIADS 505?\n",
      "What textbook is required for Data Manipulation?\n",
      "Which week of unsupervised learning covers DBSCAN?\n",
      "How many credits are required to complete the MADS program?\n",
      "How long do students have to complete the MADS program start to finish?\n",
      "How many points is the comprehensive oral exam worth in SIADS 593?\n",
      "What is the penalty for late submission in SIADS 630?\n",
      "How do I get accommodations for a class?\n",
      "What is a backpack?\n",
      "When is the latest I can drop a course?\n",
      "How do I get an override to take a class?\n",
      "How do I take a leave of absence from the MADS program?\n",
      "What are the prerequisites for Search and Recommender Systems?\n"
     ]
    }
   ],
   "source": [
    "df = pd.read_csv(\"./evaluation_set.csv\")\n",
    "\n",
    "for _, row in df.iterrows():\n",
    "    print(row[\"question\"])"
   ]
  },
  {
   "cell_type": "code",
   "execution_count": 15,
   "metadata": {
    "id": "qC8HbRBHAdAQ"
   },
   "outputs": [],
   "source": [
    "formatter = ResponseFormatter()\n",
    "\n",
    "# Or, use the cached one\n",
    "# with open(\"./evaluation_set_formatter.pickle\", 'rb') as handle:\n",
    "#     formatter = pickle.load(handle)"
   ]
  },
  {
   "cell_type": "code",
   "execution_count": 16,
   "metadata": {
    "colab": {
     "base_uri": "https://localhost:8080/"
    },
    "id": "j2JXodnOCj-d",
    "outputId": "3da8e4e2-ada8-493f-e7ee-5f9dbcc7f1db"
   },
   "outputs": [
    {
     "name": "stdout",
     "output_type": "stream",
     "text": [
      "\n",
      "\n",
      "\u001b[1m> Entering new RetrievalQA chain...\u001b[0m\n"
     ]
    },
    {
     "name": "stderr",
     "output_type": "stream",
     "text": [
      "/Users/arnewman/miniconda3/envs/rag/lib/python3.12/site-packages/torch/amp/autocast_mode.py:250: UserWarning: User provided device_type of 'cuda', but CUDA is not available. Disabling\n",
      "  warnings.warn(\n"
     ]
    },
    {
     "name": "stdout",
     "output_type": "stream",
     "text": [
      "\n",
      "\u001b[1m> Finished chain.\u001b[0m\n",
      "\n",
      "\n",
      "Sources:\n",
      "1. Data Mining II (SIADS 632): Syllabus SIADS 632: Data Mining II Course Overview And Prerequisites\n",
      "2. Data Mining II (SIADS 632): Learning Outcomes\n",
      "3. Data Science for Social Good (SIADS 688): Learning Outcomes\n",
      "4. Causal Inference (SIADS 630): Course Schedule\n",
      "5. Network Analysis (SIADS 652): Course Schedule\n",
      "\n",
      "\n",
      "\u001b[1m> Entering new RetrievalQA chain...\u001b[0m\n"
     ]
    },
    {
     "name": "stderr",
     "output_type": "stream",
     "text": [
      "/Users/arnewman/miniconda3/envs/rag/lib/python3.12/site-packages/torch/amp/autocast_mode.py:250: UserWarning: User provided device_type of 'cuda', but CUDA is not available. Disabling\n",
      "  warnings.warn(\n"
     ]
    },
    {
     "name": "stdout",
     "output_type": "stream",
     "text": [
      "\n",
      "\u001b[1m> Finished chain.\u001b[0m\n",
      "\n",
      "\n",
      "Sources:\n",
      "1. SQL and Databases (SIADS 511): Instructor And Course Assistants\n",
      "2. SQL and Databases (SIADS 511): Course Syllabus Course Overview And Prerequisites\n",
      "3. SQL and Databases (SIADS 511): Course Outcomes\n",
      "4. Database Architecture & Technology (SIADS 611): Instructor And Course Assistants\n",
      "5. SQL and Databases (SIADS 511): Technology Requirements (Unique To This Course)\n",
      "\n",
      "\n",
      "\u001b[1m> Entering new RetrievalQA chain...\u001b[0m\n"
     ]
    },
    {
     "name": "stderr",
     "output_type": "stream",
     "text": [
      "/Users/arnewman/miniconda3/envs/rag/lib/python3.12/site-packages/torch/amp/autocast_mode.py:250: UserWarning: User provided device_type of 'cuda', but CUDA is not available. Disabling\n",
      "  warnings.warn(\n"
     ]
    },
    {
     "name": "stdout",
     "output_type": "stream",
     "text": [
      "\n",
      "\u001b[1m> Finished chain.\u001b[0m\n",
      "\n",
      "\n",
      "Sources:\n",
      "1. Data Science for Social Good (SIADS 688): Course Syllabus for SIADS 688: Data Science for Social Good Course Overview and Prerequisites\n",
      "2. Capstone (SIADS 699): Course Syllabus For SIADS 699 Course Overview and Prerequisites\n",
      "3. Data Science Ethics (SIADS 503): I. Course Basics Course Overview And Prerequisites\n",
      "4. Data Science for Social Good (SIADS 688): Academic Integrity/Code of Conduct\n",
      "5. Communicating Data Science Results (SIADS 523): Course Syllabus SIADS 523: Communicating Data Science Results (Fall 2023) Course Overview And Prerequisites\n",
      "\n",
      "\n",
      "\u001b[1m> Entering new RetrievalQA chain...\u001b[0m\n"
     ]
    },
    {
     "name": "stderr",
     "output_type": "stream",
     "text": [
      "/Users/arnewman/miniconda3/envs/rag/lib/python3.12/site-packages/torch/amp/autocast_mode.py:250: UserWarning: User provided device_type of 'cuda', but CUDA is not available. Disabling\n",
      "  warnings.warn(\n"
     ]
    },
    {
     "name": "stdout",
     "output_type": "stream",
     "text": [
      "\n",
      "\u001b[1m> Finished chain.\u001b[0m\n",
      "\n",
      "\n",
      "Sources:\n",
      "1. Math Methods II (SIADS 602): Course Schedule\n",
      "2. Math Methods I (SIADS 502): Course Schedule\n",
      "3. Math Methods II (SIADS 602): Quizzes, Assignments, And Late Penalties\n",
      "4. Math Methods II (SIADS 602): Quizzes, Assignments, And Late Penalties\n",
      "5. Math Methods II (SIADS 602): Quizzes, Assignments, And Late Penalties\n",
      "\n",
      "\n",
      "\u001b[1m> Entering new RetrievalQA chain...\u001b[0m\n"
     ]
    },
    {
     "name": "stderr",
     "output_type": "stream",
     "text": [
      "/Users/arnewman/miniconda3/envs/rag/lib/python3.12/site-packages/torch/amp/autocast_mode.py:250: UserWarning: User provided device_type of 'cuda', but CUDA is not available. Disabling\n",
      "  warnings.warn(\n"
     ]
    },
    {
     "name": "stdout",
     "output_type": "stream",
     "text": [
      "\n",
      "\u001b[1m> Finished chain.\u001b[0m\n",
      "\n",
      "\n",
      "Sources:\n",
      "1. Milestone II (SIADS 696): Weekly Readings\n",
      "2. Milestone I (SIADS 593): 4.0 Weekly Readings\n",
      "3. Milestone II (SIADS 696): You Must Complete All Assignments And Assessments, Regardless Of Their Weighting In The Final Grade, To Get Credit For This Course.\n",
      "4. Milestone II (SIADS 696): Please Try To Monitor The Slack Channels For The Course Regularly.\n",
      "5. Milestone II (SIADS 696): Course Schedule\n",
      "\n",
      "\n",
      "\u001b[1m> Entering new RetrievalQA chain...\u001b[0m\n"
     ]
    },
    {
     "name": "stderr",
     "output_type": "stream",
     "text": [
      "/Users/arnewman/miniconda3/envs/rag/lib/python3.12/site-packages/torch/amp/autocast_mode.py:250: UserWarning: User provided device_type of 'cuda', but CUDA is not available. Disabling\n",
      "  warnings.warn(\n"
     ]
    },
    {
     "name": "stdout",
     "output_type": "stream",
     "text": [
      "\n",
      "\u001b[1m> Finished chain.\u001b[0m\n",
      "\n",
      "\n",
      "Sources:\n",
      "1. Qualitative Inquiry for Data Scientists (SIADS 601): Learning Outcomes\n",
      "2. Qualitative Inquiry for Data Scientists (SIADS 601): Course Overview And Prerequisites Overview\n",
      "3. Qualitative Inquiry for Data Scientists (SIADS 601): Additional Optional Readings:\n",
      "4. Qualitative Inquiry for Data Scientists (SIADS 601): Grading And Assignments Overview\n",
      "5. Qualitative Inquiry for Data Scientists (SIADS 601): Instructional Material\n",
      "\n",
      "\n",
      "\u001b[1m> Entering new RetrievalQA chain...\u001b[0m\n"
     ]
    },
    {
     "name": "stderr",
     "output_type": "stream",
     "text": [
      "/Users/arnewman/miniconda3/envs/rag/lib/python3.12/site-packages/torch/amp/autocast_mode.py:250: UserWarning: User provided device_type of 'cuda', but CUDA is not available. Disabling\n",
      "  warnings.warn(\n"
     ]
    },
    {
     "name": "stdout",
     "output_type": "stream",
     "text": [
      "\n",
      "\u001b[1m> Finished chain.\u001b[0m\n",
      "\n",
      "\n",
      "Sources:\n",
      "1. Data Manipulation (SIADS 505): Required Textbook\n",
      "2. Data Manipulation (SIADS 505): Textbook Link Provided Above Allows Free Usage Through The University Of Michigan Library. University Credentials Required. Learning Outcomes\n",
      "3. Math Methods I (SIADS 502): Recommended Textbooks\n",
      "4. Data Science Ethics (SIADS 503): Required Textbook\n",
      "5. Visual Exploration of Data (SIADS 521): Required Textbook\n",
      "\n",
      "\n",
      "\u001b[1m> Entering new RetrievalQA chain...\u001b[0m\n"
     ]
    },
    {
     "name": "stderr",
     "output_type": "stream",
     "text": [
      "/Users/arnewman/miniconda3/envs/rag/lib/python3.12/site-packages/torch/amp/autocast_mode.py:250: UserWarning: User provided device_type of 'cuda', but CUDA is not available. Disabling\n",
      "  warnings.warn(\n"
     ]
    },
    {
     "name": "stdout",
     "output_type": "stream",
     "text": [
      "\n",
      "\u001b[1m> Finished chain.\u001b[0m\n",
      "\n",
      "\n",
      "Sources:\n",
      "1. Data Manipulation (SIADS 505): Required Textbook\n",
      "2. Data Manipulation (SIADS 505): Textbook Link Provided Above Allows Free Usage Through The University Of Michigan Library. University Credentials Required. Learning Outcomes\n",
      "3. Data Mining I (SIADS 532): Required Textbook\n",
      "4. Visual Exploration of Data (SIADS 521): Required Textbook\n",
      "5. Data Manipulation (SIADS 505): Course Syllabus Course Overview And Prerequisites\n",
      "\n",
      "\n",
      "\u001b[1m> Entering new RetrievalQA chain...\u001b[0m\n"
     ]
    },
    {
     "name": "stderr",
     "output_type": "stream",
     "text": [
      "/Users/arnewman/miniconda3/envs/rag/lib/python3.12/site-packages/torch/amp/autocast_mode.py:250: UserWarning: User provided device_type of 'cuda', but CUDA is not available. Disabling\n",
      "  warnings.warn(\n"
     ]
    },
    {
     "name": "stdout",
     "output_type": "stream",
     "text": [
      "\n",
      "\u001b[1m> Finished chain.\u001b[0m\n",
      "\n",
      "\n",
      "Sources:\n",
      "1. Unsupervised Learning (SIADS 543): Learning Outcomes: Week 2\n",
      "2. Unsupervised Learning (SIADS 543): Schedule: Week 2\n",
      "3. Unsupervised Learning (SIADS 543): Schedule: Week 4\n",
      "4. Unsupervised Learning (SIADS 543): Schedule: Week 1\n",
      "5. Unsupervised Learning (SIADS 543): Learning Outcomes: Week 4\n",
      "\n",
      "\n",
      "\u001b[1m> Entering new RetrievalQA chain...\u001b[0m\n"
     ]
    },
    {
     "name": "stderr",
     "output_type": "stream",
     "text": [
      "/Users/arnewman/miniconda3/envs/rag/lib/python3.12/site-packages/torch/amp/autocast_mode.py:250: UserWarning: User provided device_type of 'cuda', but CUDA is not available. Disabling\n",
      "  warnings.warn(\n"
     ]
    },
    {
     "name": "stdout",
     "output_type": "stream",
     "text": [
      "\n",
      "\u001b[1m> Finished chain.\u001b[0m\n",
      "\n",
      "\n",
      "Sources:\n",
      "1. n/a (n/a): Grades/Transcripts > Q: What is the minimum GPA requirement for MADS students?\n",
      "2. n/a (n/a): Academics > Master of Applied Data Science (MADS) > Summary of Degree Requirements\n",
      "3. n/a (n/a): Academics > Grades and Grading Policy\n",
      "4. n/a (n/a): Course Planning > Q: What is the recommended number of credits students should take?\n",
      "5. n/a (n/a): Academics > Independent Study\n",
      "\n",
      "\n",
      "\u001b[1m> Entering new RetrievalQA chain...\u001b[0m\n"
     ]
    },
    {
     "name": "stderr",
     "output_type": "stream",
     "text": [
      "/Users/arnewman/miniconda3/envs/rag/lib/python3.12/site-packages/torch/amp/autocast_mode.py:250: UserWarning: User provided device_type of 'cuda', but CUDA is not available. Disabling\n",
      "  warnings.warn(\n"
     ]
    },
    {
     "name": "stdout",
     "output_type": "stream",
     "text": [
      "\n",
      "\u001b[1m> Finished chain.\u001b[0m\n",
      "\n",
      "\n",
      "Sources:\n",
      "1. n/a (n/a): General Academic Advising > Q: How long do I have to complete the program?\n",
      "2. n/a (n/a): Grades/Transcripts > Q: What is the process for requesting an incomplete?\n",
      "3. n/a (n/a): Academics > Grades and Grading Policy > Grade of Incomplete (I)\n",
      "4. n/a (n/a): Grades/Transcripts > Q: What is the minimum GPA requirement for MADS students?\n",
      "5. n/a (n/a): Course Planning > Q: How are the MADS courses/semesters set up?\n",
      "\n",
      "\n",
      "\u001b[1m> Entering new RetrievalQA chain...\u001b[0m\n"
     ]
    },
    {
     "name": "stderr",
     "output_type": "stream",
     "text": [
      "/Users/arnewman/miniconda3/envs/rag/lib/python3.12/site-packages/torch/amp/autocast_mode.py:250: UserWarning: User provided device_type of 'cuda', but CUDA is not available. Disabling\n",
      "  warnings.warn(\n"
     ]
    },
    {
     "name": "stdout",
     "output_type": "stream",
     "text": [
      "\n",
      "\u001b[1m> Finished chain.\u001b[0m\n",
      "\n",
      "\n",
      "Sources:\n",
      "1. Milestone I (SIADS 593): 7.0 Grading And Course Checklist\n",
      "2. Milestone I (SIADS 593): 18.0 Technology Tips\n",
      "3. Milestone I (SIADS 593): 9.0 Course Grades\n",
      "4. Database Architecture & Technology (SIADS 611): Assignments And Percentage Of Final Grade\n",
      "5. Milestone II (SIADS 696): Comprehensive Exam Component\n",
      "\n",
      "\n",
      "\u001b[1m> Entering new RetrievalQA chain...\u001b[0m\n"
     ]
    },
    {
     "name": "stderr",
     "output_type": "stream",
     "text": [
      "/Users/arnewman/miniconda3/envs/rag/lib/python3.12/site-packages/torch/amp/autocast_mode.py:250: UserWarning: User provided device_type of 'cuda', but CUDA is not available. Disabling\n",
      "  warnings.warn(\n"
     ]
    },
    {
     "name": "stdout",
     "output_type": "stream",
     "text": [
      "\n",
      "\u001b[1m> Finished chain.\u001b[0m\n",
      "\n",
      "\n",
      "Sources:\n",
      "1. Experiment Design and Analysis (SIADS 631): Letter Grades, Course Grades, And Late Submission Policy\n",
      "2. Capstone (SIADS 699): Late Submission Policy\n",
      "3. Causal Inference (SIADS 630): Late Policy\n",
      "4. Supervised Learning (SIADS 542): Late Submission Policy\n",
      "5. Milestone II (SIADS 696): Late Submission Policy\n",
      "\n",
      "\n",
      "\u001b[1m> Entering new RetrievalQA chain...\u001b[0m\n"
     ]
    },
    {
     "name": "stderr",
     "output_type": "stream",
     "text": [
      "/Users/arnewman/miniconda3/envs/rag/lib/python3.12/site-packages/torch/amp/autocast_mode.py:250: UserWarning: User provided device_type of 'cuda', but CUDA is not available. Disabling\n",
      "  warnings.warn(\n"
     ]
    },
    {
     "name": "stdout",
     "output_type": "stream",
     "text": [
      "\n",
      "\u001b[1m> Finished chain.\u001b[0m\n",
      "\n",
      "\n",
      "Sources:\n",
      "1. n/a (n/a): Accommodations for Students with Disabilities Policy\n",
      "2. Data Science for Social Good (SIADS 688): Accommodations\n",
      "3. Cloud Computing (SIADS 673): Accommodations\n",
      "4. n/a (n/a): Accommodations for Students with Disabilities Policy\n",
      "5. SQL and Databases (SIADS 511): Accommodations\n",
      "\n",
      "\n",
      "\u001b[1m> Entering new RetrievalQA chain...\u001b[0m\n"
     ]
    },
    {
     "name": "stderr",
     "output_type": "stream",
     "text": [
      "/Users/arnewman/miniconda3/envs/rag/lib/python3.12/site-packages/torch/amp/autocast_mode.py:250: UserWarning: User provided device_type of 'cuda', but CUDA is not available. Disabling\n",
      "  warnings.warn(\n"
     ]
    },
    {
     "name": "stdout",
     "output_type": "stream",
     "text": [
      "\n",
      "\u001b[1m> Finished chain.\u001b[0m\n",
      "\n",
      "\n",
      "Sources:\n",
      "1. n/a (n/a): Class Registration > Q: What is a Backpack?\n",
      "2. Qualitative Inquiry for Data Scientists (SIADS 601): Accommodations Refer To The Accommodations For Students With Disabilities Section Of The Umsi Student Handbook (Access To The Student Orientation Course Required).\n",
      "3. n/a (n/a): Class Registration > Q: What do I need to do to drop all of my courses for the Session?\n",
      "4. Learning Analytics and Educational Data Science (SIADS 680): Accommodations\n",
      "5. n/a (n/a): Class Registration > Q: What do I need to do to drop a course during the add/drop period?\n",
      "\n",
      "\n",
      "\u001b[1m> Entering new RetrievalQA chain...\u001b[0m\n"
     ]
    },
    {
     "name": "stderr",
     "output_type": "stream",
     "text": [
      "/Users/arnewman/miniconda3/envs/rag/lib/python3.12/site-packages/torch/amp/autocast_mode.py:250: UserWarning: User provided device_type of 'cuda', but CUDA is not available. Disabling\n",
      "  warnings.warn(\n"
     ]
    },
    {
     "name": "stdout",
     "output_type": "stream",
     "text": [
      "\n",
      "\u001b[1m> Finished chain.\u001b[0m\n",
      "\n",
      "\n",
      "Sources:\n",
      "1. n/a (n/a): Class Registration > Q: What’s the latest that I can late drop a course?\n",
      "2. n/a (n/a): Class Registration > Q: When is the add/drop period?\n",
      "3. n/a (n/a): Academics > Drop/Add Policy\n",
      "4. n/a (n/a): Class Registration > Q: How do I drop a course after the drop/add deadline?\n",
      "5. n/a (n/a): Class Registration > Q: What do I need to do to drop all of my courses for the Session?\n",
      "\n",
      "\n",
      "\u001b[1m> Entering new RetrievalQA chain...\u001b[0m\n"
     ]
    },
    {
     "name": "stderr",
     "output_type": "stream",
     "text": [
      "/Users/arnewman/miniconda3/envs/rag/lib/python3.12/site-packages/torch/amp/autocast_mode.py:250: UserWarning: User provided device_type of 'cuda', but CUDA is not available. Disabling\n",
      "  warnings.warn(\n"
     ]
    },
    {
     "name": "stdout",
     "output_type": "stream",
     "text": [
      "\n",
      "\u001b[1m> Finished chain.\u001b[0m\n",
      "\n",
      "\n",
      "Sources:\n",
      "1. n/a (n/a): Academics > Overrides/Permission to Enroll\n",
      "2. n/a (n/a): Class Registration > Q: What is a Backpack?\n",
      "3. Milestone I (SIADS 593): 8.0 Late Policy\n",
      "4. Supervised Learning (SIADS 542): Assignments\n",
      "5. n/a (n/a): Academics > Visiting (“Auditing”) a SIADS Course\n",
      "\n",
      "\n",
      "\u001b[1m> Entering new RetrievalQA chain...\u001b[0m\n"
     ]
    },
    {
     "name": "stderr",
     "output_type": "stream",
     "text": [
      "/Users/arnewman/miniconda3/envs/rag/lib/python3.12/site-packages/torch/amp/autocast_mode.py:250: UserWarning: User provided device_type of 'cuda', but CUDA is not available. Disabling\n",
      "  warnings.warn(\n"
     ]
    },
    {
     "name": "stdout",
     "output_type": "stream",
     "text": [
      "\n",
      "\u001b[1m> Finished chain.\u001b[0m\n",
      "\n",
      "\n",
      "Sources:\n",
      "1. n/a (n/a): Academics > Leave of Absence\n",
      "2. n/a (n/a): Course Planning > Q: I want to take off an extended period of time off or Leave of Absence (ex: multiple semesters) for work, travel, personal responsibilities, etc. Am I able to do that?\n",
      "3. n/a (n/a): MADS Slack Policy, Standards, and Practices > MADS Slack Standards and Processes > Slack Workspace and Course Channel Participation\n",
      "4. n/a (n/a): Class Registration > Q: What do I need to do to drop all my classes for the semester (i.e leave of absence, term withdrawal)?\n",
      "5. n/a (n/a): Academics > Term Withdrawal\n",
      "\n",
      "\n",
      "\u001b[1m> Entering new RetrievalQA chain...\u001b[0m\n"
     ]
    },
    {
     "name": "stderr",
     "output_type": "stream",
     "text": [
      "/Users/arnewman/miniconda3/envs/rag/lib/python3.12/site-packages/torch/amp/autocast_mode.py:250: UserWarning: User provided device_type of 'cuda', but CUDA is not available. Disabling\n",
      "  warnings.warn(\n"
     ]
    },
    {
     "name": "stdout",
     "output_type": "stream",
     "text": [
      "\n",
      "\u001b[1m> Finished chain.\u001b[0m\n",
      "\n",
      "\n",
      "Sources:\n",
      "1. Search and Recommender Systems (SIADS 685): Course Overview And Prerequisites\n",
      "2. Search and Recommender Systems (SIADS 685): Learning Outcomes\n",
      "3. Search and Recommender Systems (SIADS 685): Academic Integrity/Code Of Conduct\n",
      "4. Search and Recommender Systems (SIADS 685): Week 4: Collaborative Filtering, Recommender Systems\n",
      "5. Search and Recommender Systems (SIADS 685): Accommodations\n"
     ]
    }
   ],
   "source": [
    "for _, row in df.iterrows():\n",
    "    llm_response = qa_chain(row[\"question\"])\n",
    "    process_llm_response(llm_response)\n",
    "\n",
    "    formatter.add_response(llm_response, row[\"ground_truth\"])\n",
    "\n",
    "    # Save after each response in case this thing crashes\n",
    "    with open(f\"./cache/{retrieval_strategy}_{model}_formatter.pickle\", \"wb\") as handle:\n",
    "        pickle.dump(formatter, handle)\n",
    "\n",
    "    with open(f\"./cache/{retrieval_strategy}_{model}_responses.pickle\", \"wb\") as handle:\n",
    "        pickle.dump(formatter.get_responses(), handle)"
   ]
  },
  {
   "cell_type": "markdown",
   "metadata": {},
   "source": [
    "## Evaluation with BERTScore"
   ]
  },
  {
   "cell_type": "code",
   "execution_count": 17,
   "metadata": {},
   "outputs": [],
   "source": [
    "with open(f\"./cache/{retrieval_strategy}_{model}_responses.pickle\", \"rb\") as handle:\n",
    "    rag_responses = pickle.load(handle)"
   ]
  },
  {
   "cell_type": "code",
   "execution_count": 18,
   "metadata": {},
   "outputs": [
    {
     "name": "stdout",
     "output_type": "stream",
     "text": [
      "Which class involves time series analysis?\n",
      ">>> Data Mining II, SIADS 632 includes a particular focus on time series analysis.\n",
      "----------------------------------------------------------------------------------------------------\n",
      "  Sure! Based on the information provided, the answer to the question \"Which class involves time series analysis?\" is:\n",
      "\n",
      "Data Mining II (SIADS 632).\n",
      "\n",
      "====================================================================================================\n",
      "====================================================================================================\n",
      "\n",
      "Who teaches the SQL and Databases class?\n",
      ">>> The primary instructor for SQL and Databases is Graham Hukill. Additional course assistants include, Derek Bruckner, Emily Schemanske, Jungseo Lee, and Toby Kemp.\n",
      "----------------------------------------------------------------------------------------------------\n",
      "  Based on the information provided, the instructor of the SQL and Databases class is Graham Hukill (gshukill@umich.edu).\n",
      "\n",
      "====================================================================================================\n",
      "====================================================================================================\n",
      "\n",
      "What are the prerequisites for Data Science for Social Good?\n",
      ">>> SIADS 630, 631, and 694\n",
      "----------------------------------------------------------------------------------------------------\n",
      "  Based on the provided course syllabi, the prerequisites for Data Science for Social Good (SIADS 688) are:\n",
      "\n",
      "1. Preceded or accompanied by SIADS 630, 631, and 694; (C- or better)\n",
      "2. Successful completion of SIADS 501, \"Being a Data Scientist.\"\n",
      "\n",
      "====================================================================================================\n",
      "====================================================================================================\n",
      "\n",
      "When are the office hours for the Math Methods course?\n",
      ">>> Office hours for Math Methods are held at the following times: Alex McLeod: Monday at 11:45 am EST, Saurabh Budholiya: Friday at 9:00 am EST, Alexis Castellano: Thursdays at 7:00 pm EST\n",
      "----------------------------------------------------------------------------------------------------\n",
      "  Based on the information provided, the office hours for the Math Methods course are:\n",
      "\n",
      "* Hanna Hoover: Wednesdays, 4:00-5:00 pm EST\n",
      "* Saurabh Budholiya: Fridays, 9:00-10:00 am EST\n",
      "* Alexis Castellanos: Saturdays, 3:00-4:00 pm EST\n",
      "\n",
      "====================================================================================================\n",
      "====================================================================================================\n",
      "\n",
      "Are there any weekly readings for Milestone II?\n",
      ">>> There is introductory material during the first week of the course, but generally speaking, no weekly readings in this course.\n",
      "----------------------------------------------------------------------------------------------------\n",
      "  Based on the information provided, there are no weekly readings for Milestone II.\n",
      "\n",
      "====================================================================================================\n",
      "====================================================================================================\n",
      "\n",
      "What are the outcomes of Qualitative Inquiry?\n",
      ">>> Upon successful completion of this course, students will be able to:\n",
      "\n",
      "1.  Collect, represent, and analyze qualitative data about a quantitative data set, by…\n",
      "2.  Conducting semi-structured interviews;\n",
      "3.  Processing interview notes into discrete pieces of qualitative data; and \n",
      "4.  Analyze qualitative data using affinity walls.\n",
      "5.  Develop a narrative about qualitative findings that support later quantitative analysis.\n",
      "6.  Communicate qualitative findings in written form.\n",
      "----------------------------------------------------------------------------------------------------\n",
      "  Based on the information provided, the outcomes of Qualitative Inquiry for Data Scientists (SIADS 601) are:\n",
      "\n",
      "1. Collecting and analyzing qualitative data about a quantitative data set through semi-structured interviews, affinity walls, and narrative development.\n",
      "2. Developing a narrative about qualitative findings that support later quantitative analysis.\n",
      "3. Communicating qualitative findings in written form.\n",
      "\n",
      "====================================================================================================\n",
      "====================================================================================================\n",
      "\n",
      "What textbook is required for SIADS 505?\n",
      ">>> Python for Data Analysis: Data Wrangling with Pandas, NumPy, and iPython 2nd edition by Wes McKinney (O'Reilly). Copyright 2017 Wes McKinney, 978-1-491-95766-0.\n",
      "----------------------------------------------------------------------------------------------------\n",
      "  Based on the information provided, the required textbook for SIADS 505 is \"Python for Data Analysis: Data Wrangling with Pandas, NumPy, and iPython 2nd edition\" by Wes McKinney.\n",
      "\n",
      "====================================================================================================\n",
      "====================================================================================================\n",
      "\n",
      "What textbook is required for Data Manipulation?\n",
      ">>> Python for Data Analysis: Data Wrangling with Pandas, NumPy, and iPython 2nd edition by Wes McKinney (O'Reilly). Copyright 2017 Wes McKinney, 978-1-491-95766-0.\n",
      "----------------------------------------------------------------------------------------------------\n",
      "  Based on the information provided, the required textbook for Data Manipulation (SIADS 505) is \"Python for Data Analysis: Data Wrangling with Pandas, NumPy, and iPython 2nd edition\" by Wes McKinney.\n",
      "\n",
      "====================================================================================================\n",
      "====================================================================================================\n",
      "\n",
      "Which week of unsupervised learning covers DBSCAN?\n",
      ">>> Week 2\n",
      "----------------------------------------------------------------------------------------------------\n",
      "  Based on the provided context, the answer to the question \"Which week of unsupervised learning covers DBSCAN?\" is:\n",
      "\n",
      "Week 2.\n",
      "\n",
      "====================================================================================================\n",
      "====================================================================================================\n",
      "\n",
      "How many credits are required to complete the MADS program?\n",
      ">>> 34\n",
      "----------------------------------------------------------------------------------------------------\n",
      "  Based on the information provided, the answer to the question is:\n",
      "\n",
      "34 credits\n",
      "\n",
      "====================================================================================================\n",
      "====================================================================================================\n",
      "\n",
      "How long do students have to complete the MADS program start to finish?\n",
      ">>> Five years\n",
      "----------------------------------------------------------------------------------------------------\n",
      "  Based on the information provided, students have five years to complete the MADS program from the date of their first enrollment.\n",
      "\n",
      "====================================================================================================\n",
      "====================================================================================================\n",
      "\n",
      "How many points is the comprehensive oral exam worth in SIADS 593?\n",
      ">>> 400\n",
      "----------------------------------------------------------------------------------------------------\n",
      "  Based on the information provided, the comprehensive oral exam in SIADS 593 is worth 400 points.\n",
      "\n",
      "====================================================================================================\n",
      "====================================================================================================\n",
      "\n",
      "What is the penalty for late submission in SIADS 630?\n",
      ">>> The late-submission policy is 15% daily-recurring reduction in grade for the first three days after the submission deadline. You will receive a zero (0) if your assignment is turned in four or more days late. Students have one free pass to submit all of one week's assessments late (up to three days).\n",
      "----------------------------------------------------------------------------------------------------\n",
      "  Based on the information provided in the Grades and Grading Policies section of the UMSI Student Handbook, the penalty for late submission in SIADS 630 is a 15% daily-recurring reduction in grade for the first three days after the submission deadline.\n",
      "\n",
      "====================================================================================================\n",
      "====================================================================================================\n",
      "\n",
      "How do I get accommodations for a class?\n",
      ">>> Register with the U-M Services for Students with Disabilities office (SSD) (https://ssd.umich.edu/) and also meet with an academic advisor in the UMSI Office of Academic and Student Affairs\n",
      "----------------------------------------------------------------------------------------------------\n",
      "  To get accommodations for a class, you should:\n",
      "\n",
      "1. Complete the Student Application Form in Accommodate (https://umich-accommodate.symplicity.com/) and meet with your assigned coordinator in the Services for Students with Disabilities office (SSD).\n",
      "\n",
      "Alternatively, provide documentation of your disability to your faculty instructor and to your academic advisor in the Office of Academic and Student Affairs to determine a reasonable accommodation. Note that UMSI reserves the right to require that you register with SSD and obtain approved accommodations.\n",
      "\n",
      "====================================================================================================\n",
      "====================================================================================================\n",
      "\n",
      "What is a backpack?\n",
      ">>> The Backpack is a feature available on Wolverine Access that works much like the \"shopping carts\" you have seen on many retail websites. With the Backpack you can prepare for your upcoming registration appointment by filling it with classes you want to take.\n",
      "----------------------------------------------------------------------------------------------------\n",
      "  Sure, I'd be happy to help! Based on the context provided, here is the answer to your question:\n",
      "\n",
      "A Backpack is a feature available on Wolverine Access that allows you to prepare for your upcoming registration appointment by filling it with classes you want to take.\n",
      "\n",
      "====================================================================================================\n",
      "====================================================================================================\n",
      "\n",
      "When is the latest I can drop a course?\n",
      ">>> The deadline to submit a request for a late drop (withdrawal) is 11:59pm on the last day of classes for each session.\n",
      "----------------------------------------------------------------------------------------------------\n",
      "  Based on the information provided, the latest you can drop a course is 11:59 PM ET on the last day of classes for the current session you are enrolled in.\n",
      "\n",
      "====================================================================================================\n",
      "====================================================================================================\n",
      "\n",
      "How do I get an override to take a class?\n",
      ">>> If Wolverine Access is not allowing you to register for a course, and there are seats available, please request an override by emailing the UMSI Registrar Team at umsi.registrar@umich.edu. Provide the following information in your email request for an override: your name, student ID number, term (fall, winter, or spring/summer), catalog number (e.g., SIADS 501), and section number (001, 002, etc.).\n",
      "----------------------------------------------------------------------------------------------------\n",
      "  Sure, I'd be happy to help! To answer your question, you can request an override to take a class by emailing the UMSI Registrar Team at [umsi.registrar@umich.edu](mailto:umsi.registrar@umich.edu) with the following information: your name, student ID number, term (fall, winter, or spring/summer), catalog number (e.g., SIADS 501), and section number (001, 002, etc.). Please allow two business days for your override to be processed.\n",
      "\n",
      "====================================================================================================\n",
      "====================================================================================================\n",
      "\n",
      "How do I take a leave of absence from the MADS program?\n",
      ">>> If you decide to take a leave of absence and have not yet used the online course registration, you do not need to submit any paperwork, but should notify the MADS Academic Advising Team at umsi.advising.mads@umich.edu of your intentions. If you have already registered, you will need to submit a term withdrawal form to drop all your classes for the semester.\n",
      "----------------------------------------------------------------------------------------------------\n",
      "  Based on the provided context, here is the answer to the question \"How do I take a leave of absence from the MADS program?\"\n",
      "\n",
      "Answer: To take a leave of absence from the MADS program, you should notify the MADS Academic Advising Team at [umsi.advising.mads@umich.edu](mailto:umsi.advising.mads@umich.edu) of your intentions. If you have already registered for classes, you will need to submit a term withdrawal form to drop all your classes for the semester.\n",
      "\n",
      "====================================================================================================\n",
      "====================================================================================================\n",
      "\n",
      "What are the prerequisites for Search and Recommender Systems?\n",
      ">>> SIADS 642, 652, 655, 611, and 694\n",
      "----------------------------------------------------------------------------------------------------\n",
      "  Based on the provided context, the prerequisites for Search and Recommender Systems (SIADS 685) are:\n",
      "\n",
      "1. SIADS 642: Deep Learning\n",
      "2. SIADS 652: Network Analysis\n",
      "3. SIADS 655: Applied NLP\n",
      "4. SIADS 611: Database Architecture and Technology\n",
      "5. Enforced Prerequisite: SIADS 694 (first half of Milestone II)\n",
      "\n",
      "====================================================================================================\n",
      "====================================================================================================\n",
      "\n"
     ]
    }
   ],
   "source": [
    "for i in range(len(rag_responses[\"question\"])):\n",
    "    print(rag_responses[\"question\"][i])\n",
    "    print(\">>>\", rag_responses[\"ground_truth\"][i])\n",
    "    print(\"-\" * 100)\n",
    "    print(rag_responses[\"answer\"][i])\n",
    "    print(\"\")\n",
    "    print(\"=\" * 100)\n",
    "    print(\"=\" * 100)\n",
    "    print(\"\")"
   ]
  },
  {
   "cell_type": "code",
   "execution_count": 19,
   "metadata": {},
   "outputs": [],
   "source": [
    "responses_df = pd.DataFrame(rag_responses)\n",
    "\n",
    "responses_df[\"eye_check\"] = [\n",
    "    1,  # 'Which class involves time series analysis?',\n",
    "    1,  # 'Who teaches the SQL and Databases class?',\n",
    "    -1,  # 'What are the prerequisites for Data Science for Social Good?',\n",
    "    -1,  # 'When are the office hours for the Math Methods course?',\n",
    "    1,  # 'Are there any weekly readings for Milestone II?',\n",
    "    1,  # 'What are the outcomes of Qualitative Inquiry?',\n",
    "    1,  # 'What textbook is required for SIADS 505?',\n",
    "    1,  # 'What textbook is required for Data Manipulation?',\n",
    "    1,  # 'Which week of unsupervised learning covers DBSCAN?',\n",
    "    1,  # 'How many credits are required to complete the MADS program?',\n",
    "    1,  # 'How long do students have to complete the MADS program start to finish?',\n",
    "    1,  # 'How many points is the comprehensive oral exam worth in SIADS 593?',\n",
    "    1,  # 'What is the penalty for late submission in SIADS 630?',\n",
    "    1,  # 'How do I get accommodations for a class?',\n",
    "    1,  # 'What is a backpack?',\n",
    "    1,  # 'When is the latest I can drop a course?',\n",
    "    1,  # 'How do I get an override to take a class?',\n",
    "    1,  # 'How do I take a leave of absence from the MADS program?',\n",
    "    1,  # 'What are the prerequisites for Search and Recommender Systems?'\n",
    "]"
   ]
  },
  {
   "cell_type": "code",
   "execution_count": 20,
   "metadata": {},
   "outputs": [
    {
     "name": "stdout",
     "output_type": "stream",
     "text": [
      "INFO: Tried to clean up context but failed!\n"
     ]
    }
   ],
   "source": [
    "scores = [\n",
    "    [\n",
    "        t.item()\n",
    "        for t in score(\n",
    "            [rag_responses[\"answer\"][i]],\n",
    "            [rag_responses[\"ground_truth\"][i]],\n",
    "            rescale_with_baseline=True,\n",
    "            lang=\"en\",\n",
    "        )\n",
    "    ]\n",
    "    for i in range(len(rag_responses[\"question\"]))\n",
    "]\n",
    "\n",
    "with open(f\"./cache/{retrieval_strategy}_{model}_bertscores.pickle\", \"wb\") as handle:\n",
    "    pickle.dump(scores, handle)"
   ]
  },
  {
   "cell_type": "code",
   "execution_count": 21,
   "metadata": {},
   "outputs": [],
   "source": [
    "with open(f\"./cache/{retrieval_strategy}_{model}_bertscores.pickle\", \"rb\") as handle:\n",
    "    scores = pickle.load(handle)\n",
    "\n",
    "bert_df = pd.concat(\n",
    "    [\n",
    "        responses_df,\n",
    "        pd.DataFrame(scores, columns=[\"precision\", \"recall\", \"f1\"]),\n",
    "    ],\n",
    "    axis=\"columns\",\n",
    ")\n",
    "\n",
    "bert_df[\"abs_diff\"] = (bert_df[\"eye_check\"] - bert_df[\"f1\"]).abs()"
   ]
  },
  {
   "cell_type": "code",
   "execution_count": 22,
   "metadata": {},
   "outputs": [
    {
     "data": {
      "image/png": "[encoded data removed]",
      "text/plain": [
       "<Figure size 640x480 with 2 Axes>"
      ]
     },
     "metadata": {},
     "output_type": "display_data"
    }
   ],
   "source": [
    "sns.heatmap(\n",
    "    bert_df[[\"precision\", \"recall\", \"f1\", \"eye_check\"]],\n",
    "    yticklabels=bert_df[\"question\"].str[:42],\n",
    "    annot=True,\n",
    "    cmap=sns.cubehelix_palette(as_cmap=True),\n",
    ")\n",
    "\n",
    "plt.suptitle(\"BERTScore Evaluation (normalized)\")\n",
    "plt.title(f\"Strategy: {retrieval_strategy} | Model: {model}\", fontsize=10)\n",
    "\n",
    "plt.show()"
   ]
  }
 ],
 "metadata": {
  "accelerator": "GPU",
  "colab": {
   "gpuType": "T4",
   "provenance": []
  },
  "kernelspec": {
   "display_name": "Python 3 (ipykernel)",
   "language": "python",
   "name": "python3"
  },
  "language_info": {
   "codemirror_mode": {
    "name": "ipython",
    "version": 3
   },
   "file_extension": ".py",
   "mimetype": "text/x-python",
   "name": "python",
   "nbconvert_exporter": "python",
   "pygments_lexer": "ipython3",
   "version": "3.12.1"
  }
 },
 "nbformat": 4,
 "nbformat_minor": 4
}
