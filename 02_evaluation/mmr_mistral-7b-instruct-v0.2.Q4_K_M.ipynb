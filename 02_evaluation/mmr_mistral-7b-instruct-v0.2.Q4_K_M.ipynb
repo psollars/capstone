{
 "cells": [
  {
   "cell_type": "code",
   "execution_count": 1,
   "metadata": {
    "executionInfo": {
     "elapsed": 925,
     "status": "ok",
     "timestamp": 1710981103835,
     "user": {
      "displayName": "Patrick Sollars",
      "userId": "12439928852339899354"
     },
     "user_tz": 300
    },
    "id": "QwOjhhrmC2Ln"
   },
   "outputs": [],
   "source": [
    "from langchain_community.document_loaders import (\n",
    "    UnstructuredHTMLLoader,\n",
    "    BSHTMLLoader,\n",
    "    TextLoader,\n",
    "    JSONLoader,\n",
    ")\n",
    "from langchain.document_loaders import DirectoryLoader\n",
    "from langchain.text_splitter import (\n",
    "    CharacterTextSplitter,\n",
    "    RecursiveCharacterTextSplitter,\n",
    "    MarkdownTextSplitter,\n",
    ")\n",
    "from langchain_community.embeddings import HuggingFaceEmbeddings\n",
    "from langchain.callbacks.manager import CallbackManager\n",
    "from langchain.callbacks.streaming_stdout import StreamingStdOutCallbackHandler\n",
    "from langchain.vectorstores import Chroma\n",
    "from langchain.chains import (\n",
    "    RetrievalQA,\n",
    "    ConversationalRetrievalChain,\n",
    "    RetrievalQAWithSourcesChain,\n",
    ")\n",
    "from langchain.memory import ConversationBufferMemory\n",
    "from langchain_community.llms import LlamaCpp\n",
    "import pandas as pd\n",
    "\n",
    "\n",
    "import matplotlib.pyplot as plt\n",
    "import seaborn as sns\n",
    "from bert_score import plot_example, score\n",
    "\n",
    "import logging\n",
    "import pickle\n",
    "\n",
    "\n",
    "logging.getLogger(\"transformers.modeling_utils\").setLevel(logging.ERROR)"
   ]
  },
  {
   "cell_type": "markdown",
   "metadata": {},
   "source": [
    "## Helpers"
   ]
  },
  {
   "cell_type": "code",
   "execution_count": 2,
   "metadata": {},
   "outputs": [],
   "source": [
    "retrieval_strategy = \"mmr\"\n",
    "model = \"mistral-7b-instruct-v0.2.Q4_K_M\"\n",
    "\n",
    "persist_directory = \"./../embeddings\""
   ]
  },
  {
   "cell_type": "code",
   "execution_count": 3,
   "metadata": {},
   "outputs": [],
   "source": [
    "def process_llm_response(llm_response):\n",
    "    print(\"\\n\\nSources:\")\n",
    "    for i, source in enumerate(llm_response[\"source_documents\"]):\n",
    "        m = source.metadata\n",
    "        print(f\"{i + 1}. {m['course_title']} ({m['course_number']}): {m['heading']}\")"
   ]
  },
  {
   "cell_type": "code",
   "execution_count": 19,
   "metadata": {},
   "outputs": [],
   "source": [
    "class ResponseFormatter:\n",
    "    def __init__(self):\n",
    "        self.responses = {\n",
    "            \"question\": [],\n",
    "            \"contexts\": [],\n",
    "            \"answer\": [],\n",
    "            \"ground_truth\": [],\n",
    "        }\n",
    "\n",
    "    def add_response(self, llm_response, ground_truth):\n",
    "        self.responses[\"question\"].append(llm_response[\"query\"])\n",
    "        #self.responses[\"question\"].append(llm_response[\"question\"])\n",
    "        self.responses[\"contexts\"].append(\n",
    "            [doc.page_content for doc in llm_response[\"source_documents\"]]\n",
    "        )\n",
    "        self.responses[\"answer\"].append(llm_response[\"result\"])\n",
    "        #self.responses[\"answer\"].append(llm_response[\"answer\"])\n",
    "        self.responses[\"ground_truth\"].append(ground_truth)\n",
    "\n",
    "    def get_responses(self):\n",
    "        return self.responses\n",
    "    \n",
    "    def get_dataframe(self):\n",
    "        pd.DataFrame(self.responses[[\"question\", \"answer\", \"ground_truth\"]])"
   ]
  },
  {
   "cell_type": "markdown",
   "metadata": {},
   "source": [
    "## Vector Retriever"
   ]
  },
  {
   "cell_type": "code",
   "execution_count": 5,
   "metadata": {
    "executionInfo": {
     "elapsed": 9614,
     "status": "ok",
     "timestamp": 1710981480332,
     "user": {
      "displayName": "Patrick Sollars",
      "userId": "12439928852339899354"
     },
     "user_tz": 300
    },
    "id": "-wIDl75YDHrS"
   },
   "outputs": [],
   "source": [
    "with open(f\"{persist_directory}/embeddings.pickle\", 'rb') as handle:\n",
    "    embeddings = pickle.load(handle)\n"
   ]
  },
  {
   "cell_type": "code",
   "execution_count": 6,
   "metadata": {
    "executionInfo": {
     "elapsed": 2962,
     "status": "ok",
     "timestamp": 1710981486734,
     "user": {
      "displayName": "Patrick Sollars",
      "userId": "12439928852339899354"
     },
     "user_tz": 300
    },
    "id": "Z07d-i9mFhN0"
   },
   "outputs": [],
   "source": [
    "vectordb = Chroma(\n",
    "    \"documents\", # or \"transcripts\"\n",
    "    embedding_function=embeddings,\n",
    "    persist_directory=persist_directory,\n",
    "    collection_metadata={\"hnsw:space\": \"cosine\"},\n",
    ")"
   ]
  },
  {
   "cell_type": "code",
   "execution_count": 7,
   "metadata": {
    "executionInfo": {
     "elapsed": 3,
     "status": "ok",
     "timestamp": 1710981486735,
     "user": {
      "displayName": "Patrick Sollars",
      "userId": "12439928852339899354"
     },
     "user_tz": 300
    },
    "id": "EugAMdnjFlj4"
   },
   "outputs": [],
   "source": [
    "retriever = vectordb.as_retriever(\n",
    "    search_type=f\"{retrieval_strategy}\",\n",
    "    search_kwargs={\"k\": 5, \"fetch_k\": 20},\n",
    ")"
   ]
  },
  {
   "cell_type": "markdown",
   "metadata": {},
   "source": [
    "## Quantized Model"
   ]
  },
  {
   "cell_type": "code",
   "execution_count": 8,
   "metadata": {
    "colab": {
     "base_uri": "https://localhost:8080/"
    },
    "executionInfo": {
     "elapsed": 108136,
     "status": "ok",
     "timestamp": 1710981617241,
     "user": {
      "displayName": "Patrick Sollars",
      "userId": "12439928852339899354"
     },
     "user_tz": 300
    },
    "id": "aG_eNdSIGxwD",
    "outputId": "faf777f1-7a80-4b26-a452-9c493a6a5f47"
   },
   "outputs": [
    {
     "name": "stderr",
     "output_type": "stream",
     "text": [
      "/Users/arnewman/miniconda3/envs/rag/lib/python3.12/site-packages/langchain_core/utils/utils.py:159: UserWarning: WARNING! stream is not default parameter.\n",
      "                stream was transferred to model_kwargs.\n",
      "                Please confirm that stream is what you intended.\n",
      "  warnings.warn(\n",
      "llama_model_loader: loaded meta data with 24 key-value pairs and 291 tensors from /Users/arnewman/.cache/lm-studio/models/TheBloke/Mistral-7B-Instruct-v0.2-GGUF/mistral-7b-instruct-v0.2.Q4_K_M.gguf (version GGUF V3 (latest))\n",
      "llama_model_loader: Dumping metadata keys/values. Note: KV overrides do not apply in this output.\n",
      "llama_model_loader: - kv   0:                       general.architecture str              = llama\n",
      "llama_model_loader: - kv   1:                               general.name str              = mistralai_mistral-7b-instruct-v0.2\n",
      "llama_model_loader: - kv   2:                       llama.context_length u32              = 32768\n",
      "llama_model_loader: - kv   3:                     llama.embedding_length u32              = 4096\n",
      "llama_model_loader: - kv   4:                          llama.block_count u32              = 32\n",
      "llama_model_loader: - kv   5:                  llama.feed_forward_length u32              = 14336\n",
      "llama_model_loader: - kv   6:                 llama.rope.dimension_count u32              = 128\n",
      "llama_model_loader: - kv   7:                 llama.attention.head_count u32              = 32\n",
      "llama_model_loader: - kv   8:              llama.attention.head_count_kv u32              = 8\n",
      "llama_model_loader: - kv   9:     llama.attention.layer_norm_rms_epsilon f32              = 0.000010\n",
      "llama_model_loader: - kv  10:                       llama.rope.freq_base f32              = 1000000.000000\n",
      "llama_model_loader: - kv  11:                          general.file_type u32              = 15\n",
      "llama_model_loader: - kv  12:                       tokenizer.ggml.model str              = llama\n",
      "llama_model_loader: - kv  13:                      tokenizer.ggml.tokens arr[str,32000]   = [\"<unk>\", \"<s>\", \"</s>\", \"<0x00>\", \"<...\n",
      "llama_model_loader: - kv  14:                      tokenizer.ggml.scores arr[f32,32000]   = [0.000000, 0.000000, 0.000000, 0.0000...\n",
      "llama_model_loader: - kv  15:                  tokenizer.ggml.token_type arr[i32,32000]   = [2, 3, 3, 6, 6, 6, 6, 6, 6, 6, 6, 6, ...\n",
      "llama_model_loader: - kv  16:                tokenizer.ggml.bos_token_id u32              = 1\n",
      "llama_model_loader: - kv  17:                tokenizer.ggml.eos_token_id u32              = 2\n",
      "llama_model_loader: - kv  18:            tokenizer.ggml.unknown_token_id u32              = 0\n",
      "llama_model_loader: - kv  19:            tokenizer.ggml.padding_token_id u32              = 0\n",
      "llama_model_loader: - kv  20:               tokenizer.ggml.add_bos_token bool             = true\n",
      "llama_model_loader: - kv  21:               tokenizer.ggml.add_eos_token bool             = false\n",
      "llama_model_loader: - kv  22:                    tokenizer.chat_template str              = {{ bos_token }}{% for message in mess...\n",
      "llama_model_loader: - kv  23:               general.quantization_version u32              = 2\n",
      "llama_model_loader: - type  f32:   65 tensors\n",
      "llama_model_loader: - type q4_K:  193 tensors\n",
      "llama_model_loader: - type q6_K:   33 tensors\n",
      "llm_load_vocab: special tokens definition check successful ( 259/32000 ).\n",
      "llm_load_print_meta: format           = GGUF V3 (latest)\n",
      "llm_load_print_meta: arch             = llama\n",
      "llm_load_print_meta: vocab type       = SPM\n",
      "llm_load_print_meta: n_vocab          = 32000\n",
      "llm_load_print_meta: n_merges         = 0\n",
      "llm_load_print_meta: n_ctx_train      = 32768\n",
      "llm_load_print_meta: n_embd           = 4096\n",
      "llm_load_print_meta: n_head           = 32\n",
      "llm_load_print_meta: n_head_kv        = 8\n",
      "llm_load_print_meta: n_layer          = 32\n",
      "llm_load_print_meta: n_rot            = 128\n",
      "llm_load_print_meta: n_embd_head_k    = 128\n",
      "llm_load_print_meta: n_embd_head_v    = 128\n",
      "llm_load_print_meta: n_gqa            = 4\n",
      "llm_load_print_meta: n_embd_k_gqa     = 1024\n",
      "llm_load_print_meta: n_embd_v_gqa     = 1024\n",
      "llm_load_print_meta: f_norm_eps       = 0.0e+00\n",
      "llm_load_print_meta: f_norm_rms_eps   = 1.0e-05\n",
      "llm_load_print_meta: f_clamp_kqv      = 0.0e+00\n",
      "llm_load_print_meta: f_max_alibi_bias = 0.0e+00\n",
      "llm_load_print_meta: n_ff             = 14336\n",
      "llm_load_print_meta: n_expert         = 0\n",
      "llm_load_print_meta: n_expert_used    = 0\n",
      "llm_load_print_meta: rope scaling     = linear\n",
      "llm_load_print_meta: freq_base_train  = 1000000.0\n",
      "llm_load_print_meta: freq_scale_train = 1\n",
      "llm_load_print_meta: n_yarn_orig_ctx  = 32768\n",
      "llm_load_print_meta: rope_finetuned   = unknown\n",
      "llm_load_print_meta: model type       = 7B\n",
      "llm_load_print_meta: model ftype      = Q4_K - Medium\n",
      "llm_load_print_meta: model params     = 7.24 B\n",
      "llm_load_print_meta: model size       = 4.07 GiB (4.83 BPW) \n",
      "llm_load_print_meta: general.name     = mistralai_mistral-7b-instruct-v0.2\n",
      "llm_load_print_meta: BOS token        = 1 '<s>'\n",
      "llm_load_print_meta: EOS token        = 2 '</s>'\n",
      "llm_load_print_meta: UNK token        = 0 '<unk>'\n",
      "llm_load_print_meta: PAD token        = 0 '<unk>'\n",
      "llm_load_print_meta: LF token         = 13 '<0x0A>'\n",
      "llm_load_tensors: ggml ctx size =    0.22 MiB\n",
      "ggml_backend_metal_buffer_from_ptr: allocated buffer, size =  4095.08 MiB, ( 5135.45 / 10922.67)\n",
      "llm_load_tensors: offloading 32 repeating layers to GPU\n",
      "llm_load_tensors: offloading non-repeating layers to GPU\n",
      "llm_load_tensors: offloaded 33/33 layers to GPU\n",
      "llm_load_tensors:        CPU buffer size =    70.31 MiB\n",
      "llm_load_tensors:      Metal buffer size =  4095.07 MiB\n",
      "...............................................................................................\n",
      "llama_new_context_with_model: n_ctx      = 32768\n",
      "llama_new_context_with_model: freq_base  = 10000.0\n",
      "llama_new_context_with_model: freq_scale = 1\n",
      "ggml_metal_init: allocating\n",
      "ggml_metal_init: found device: Apple M1 Pro\n",
      "ggml_metal_init: picking default device: Apple M1 Pro\n",
      "ggml_metal_init: default.metallib not found, loading from source\n",
      "ggml_metal_init: GGML_METAL_PATH_RESOURCES = nil\n",
      "ggml_metal_init: loading '/Users/arnewman/miniconda3/envs/rag/lib/python3.12/site-packages/llama_cpp/ggml-metal.metal'\n",
      "ggml_metal_init: GPU name:   Apple M1 Pro\n",
      "ggml_metal_init: GPU family: MTLGPUFamilyApple7  (1007)\n",
      "ggml_metal_init: GPU family: MTLGPUFamilyCommon3 (3003)\n",
      "ggml_metal_init: GPU family: MTLGPUFamilyMetal3  (5001)\n",
      "ggml_metal_init: simdgroup reduction support   = true\n",
      "ggml_metal_init: simdgroup matrix mul. support = true\n",
      "ggml_metal_init: hasUnifiedMemory              = true\n",
      "ggml_metal_init: recommendedMaxWorkingSetSize  = 11453.25 MB\n",
      "ggml_backend_metal_buffer_type_alloc_buffer: allocated buffer, size =  4096.00 MiB, ( 9232.70 / 10922.67)\n",
      "llama_kv_cache_init:      Metal KV buffer size =  4096.00 MiB\n",
      "llama_new_context_with_model: KV self size  = 4096.00 MiB, K (f16): 2048.00 MiB, V (f16): 2048.00 MiB\n",
      "llama_new_context_with_model:        CPU input buffer size   =     1.25 MiB\n",
      "ggml_backend_metal_buffer_type_alloc_buffer: allocated buffer, size =     0.02 MiB, ( 9232.72 / 10922.67)\n",
      "ggml_backend_metal_buffer_type_alloc_buffer: allocated buffer, size =    36.72 MiB, ( 9269.42 / 10922.67)\n",
      "llama_new_context_with_model:      Metal compute buffer size =    36.71 MiB\n",
      "llama_new_context_with_model:        CPU compute buffer size =     0.14 MiB\n",
      "llama_new_context_with_model: graph splits (measure): 3\n",
      "AVX = 0 | AVX_VNNI = 0 | AVX2 = 0 | AVX512 = 0 | AVX512_VBMI = 0 | AVX512_VNNI = 0 | FMA = 0 | NEON = 1 | ARM_FMA = 1 | F16C = 0 | FP16_VA = 1 | WASM_SIMD = 0 | BLAS = 1 | SSE3 = 0 | SSSE3 = 0 | VSX = 0 | \n",
      "Model metadata: {'general.quantization_version': '2', 'tokenizer.chat_template': \"{{ bos_token }}{% for message in messages %}{% if (message['role'] == 'user') != (loop.index0 % 2 == 0) %}{{ raise_exception('Conversation roles must alternate user/assistant/user/assistant/...') }}{% endif %}{% if message['role'] == 'user' %}{{ '[INST] ' + message['content'] + ' [/INST]' }}{% elif message['role'] == 'assistant' %}{{ message['content'] + eos_token}}{% else %}{{ raise_exception('Only user and assistant roles are supported!') }}{% endif %}{% endfor %}\", 'tokenizer.ggml.add_eos_token': 'false', 'tokenizer.ggml.add_bos_token': 'true', 'tokenizer.ggml.padding_token_id': '0', 'tokenizer.ggml.unknown_token_id': '0', 'tokenizer.ggml.eos_token_id': '2', 'tokenizer.ggml.bos_token_id': '1', 'tokenizer.ggml.model': 'llama', 'llama.attention.head_count_kv': '8', 'llama.context_length': '32768', 'llama.attention.head_count': '32', 'llama.rope.freq_base': '1000000.000000', 'llama.rope.dimension_count': '128', 'general.file_type': '15', 'llama.feed_forward_length': '14336', 'llama.embedding_length': '4096', 'llama.block_count': '32', 'general.architecture': 'llama', 'llama.attention.layer_norm_rms_epsilon': '0.000010', 'general.name': 'mistralai_mistral-7b-instruct-v0.2'}\n",
      "Using chat template: {{ bos_token }}{% for message in messages %}{% if (message['role'] == 'user') != (loop.index0 % 2 == 0) %}{{ raise_exception('Conversation roles must alternate user/assistant/user/assistant/...') }}{% endif %}{% if message['role'] == 'user' %}{{ '[INST] ' + message['content'] + ' [/INST]' }}{% elif message['role'] == 'assistant' %}{{ message['content'] + eos_token}}{% else %}{{ raise_exception('Only user and assistant roles are supported!') }}{% endif %}{% endfor %}\n",
      "Using chat eos_token: \n",
      "Using chat bos_token: \n"
     ]
    }
   ],
   "source": [
    "llm_open = LlamaCpp(\n",
    "    #model_path=f\"./../models/{model}.gguf\",  # https://huggingface.co/TheBloke/Llama-2-7B-GGUF\n",
    "    model_path=f\"/Users/arnewman/.cache/lm-studio/models/TheBloke/Mistral-7B-Instruct-v0.2-GGUF/{model}.gguf\",  # https://huggingface.co/TheBloke/Llama-2-7B-GGUF\n",
    "    n_ctx=32768,  # 4096 for Llama, 32*1024 for Mistral\n",
    "    n_gpu_layers=50,\n",
    "    temperature=0.15,\n",
    "    top_p=1,\n",
    "    top_k=40,\n",
    "    repeat_penalty=1.1,\n",
    "    max_tokens=1024,\n",
    "    callback_manager=CallbackManager([StreamingStdOutCallbackHandler()]),\n",
    "    stream=True,\n",
    ")"
   ]
  },
  {
   "cell_type": "code",
   "execution_count": 15,
   "metadata": {
    "executionInfo": {
     "elapsed": 3,
     "status": "ok",
     "timestamp": 1710981617242,
     "user": {
      "displayName": "Patrick Sollars",
      "userId": "12439928852339899354"
     },
     "user_tz": 300
    },
    "id": "llNw6QC1GsLa"
   },
   "outputs": [],
   "source": [
    "qa_chain = RetrievalQA.from_chain_type(\n",
    "#qa_chain = RetrievalQAWithSourcesChain.from_chain_type(\n",
    "    llm=llm_open,\n",
    "    chain_type=\"stuff\",\n",
    "    retriever=retriever,\n",
    "    return_source_documents=True,\n",
    "    verbose=True,\n",
    ")"
   ]
  },
  {
   "cell_type": "code",
   "execution_count": 16,
   "metadata": {},
   "outputs": [
    {
     "name": "stdout",
     "output_type": "stream",
     "text": [
      "Use the following pieces of context to answer the question at the end. If you don't know the answer, just say that you don't know, don't try to make up an answer.\n",
      "\n",
      "{context}\n",
      "\n",
      "Question: {question}\n",
      "Helpful Answer:\n"
     ]
    }
   ],
   "source": [
    "print(qa_chain.combine_documents_chain.llm_chain.prompt.template)"
   ]
  },
  {
   "cell_type": "code",
   "execution_count": 17,
   "metadata": {
    "colab": {
     "base_uri": "https://localhost:8080/"
    },
    "executionInfo": {
     "elapsed": 842611,
     "status": "ok",
     "timestamp": 1710982459850,
     "user": {
      "displayName": "Patrick Sollars",
      "userId": "12439928852339899354"
     },
     "user_tz": 300
    },
    "id": "6jSlOi4WHCKI",
    "outputId": "785327bc-0dc8-4e5b-a2a8-eb2c88d7a3a1"
   },
   "outputs": [
    {
     "name": "stdout",
     "output_type": "stream",
     "text": [
      "\n",
      "\n",
      "\u001b[1m> Entering new RetrievalQA chain...\u001b[0m\n"
     ]
    },
    {
     "name": "stderr",
     "output_type": "stream",
     "text": [
      "Llama.generate: prefix-match hit\n"
     ]
    },
    {
     "name": "stdout",
     "output_type": "stream",
     "text": [
      " The class that involves time series analysis is Data Mining II (SIADS 632)."
     ]
    },
    {
     "name": "stderr",
     "output_type": "stream",
     "text": [
      "\n",
      "llama_print_timings:        load time =    7565.42 ms\n",
      "llama_print_timings:      sample time =       2.32 ms /    22 runs   (    0.11 ms per token,  9470.51 tokens per second)\n",
      "llama_print_timings: prompt eval time =   19421.71 ms /   814 tokens (   23.86 ms per token,    41.91 tokens per second)\n",
      "llama_print_timings:        eval time =     808.66 ms /    21 runs   (   38.51 ms per token,    25.97 tokens per second)\n",
      "llama_print_timings:       total time =   20413.36 ms /   835 tokens\n"
     ]
    },
    {
     "name": "stdout",
     "output_type": "stream",
     "text": [
      "\n",
      "\u001b[1m> Finished chain.\u001b[0m\n",
      "\n",
      "\n",
      "Sources:\n",
      "1. Data Mining II (SIADS 632): Learning Outcomes\n",
      "2. Health Analytics (SIADS 681): Weekly Readings or Textbook Information\n",
      "3. Big Data: Scalable Data Processing (SIADS 516): Grading\n",
      "4. Visual Exploration of Data (SIADS 521): Syllabus Course Overview And Prerequisites\n",
      "5. Math Methods I (SIADS 502): Course Schedule\n"
     ]
    }
   ],
   "source": [
    "query = \"Which class involves time series analysis?\"\n",
    "\n",
    "llm_response = qa_chain(query)\n",
    "process_llm_response(llm_response)"
   ]
  },
  {
   "cell_type": "markdown",
   "metadata": {},
   "source": [
    "## Run the Model"
   ]
  },
  {
   "cell_type": "code",
   "execution_count": 18,
   "metadata": {},
   "outputs": [
    {
     "name": "stdout",
     "output_type": "stream",
     "text": [
      "Which class involves time series analysis?\n",
      "Who teaches the SQL and Databases class?\n",
      "What are the prerequisites for Data Science for Social Good?\n",
      "When are the office hours for the Math Methods course?\n",
      "Are there any weekly readings for Milestone II?\n",
      "What are the outcomes of Qualitative Inquiry?\n",
      "What textbook is required for SIADS 505?\n",
      "What textbook is required for Data Manipulation?\n",
      "Which week of unsupervised learning covers DBSCAN?\n",
      "How many credits are required to complete the MADS program?\n",
      "How long do students have to complete the MADS program start to finish?\n",
      "How many points is the comprehensive oral exam worth in SIADS 593?\n",
      "What is the penalty for late submission in SIADS 630?\n",
      "How do I get accommodations for a class?\n",
      "What is a backpack?\n",
      "When is the latest I can drop a course?\n",
      "How do I get an override to take a class?\n",
      "How do I take a leave of absence from the MADS program?\n",
      "What are the prerequisites for Search and Recommender Systems?\n"
     ]
    }
   ],
   "source": [
    "df = pd.read_csv(\"./evaluation_set.csv\")\n",
    "\n",
    "for _, row in df.iterrows():\n",
    "    print(row[\"question\"])"
   ]
  },
  {
   "cell_type": "code",
   "execution_count": 20,
   "metadata": {
    "id": "qC8HbRBHAdAQ"
   },
   "outputs": [],
   "source": [
    "formatter = ResponseFormatter()\n",
    "\n",
    "# Or, use the cached one\n",
    "# with open(\"./evaluation_set_formatter.pickle\", 'rb') as handle:\n",
    "#     formatter = pickle.load(handle)"
   ]
  },
  {
   "cell_type": "code",
   "execution_count": 21,
   "metadata": {
    "colab": {
     "base_uri": "https://localhost:8080/"
    },
    "id": "j2JXodnOCj-d",
    "outputId": "3da8e4e2-ada8-493f-e7ee-5f9dbcc7f1db"
   },
   "outputs": [
    {
     "name": "stdout",
     "output_type": "stream",
     "text": [
      "\n",
      "\n",
      "\u001b[1m> Entering new RetrievalQA chain...\u001b[0m\n"
     ]
    },
    {
     "name": "stderr",
     "output_type": "stream",
     "text": [
      "Llama.generate: prefix-match hit\n"
     ]
    },
    {
     "name": "stdout",
     "output_type": "stream",
     "text": [
      " The class that involves time series analysis is Data Mining II (SIADS 632)."
     ]
    },
    {
     "name": "stderr",
     "output_type": "stream",
     "text": [
      "\n",
      "llama_print_timings:        load time =    7565.42 ms\n",
      "llama_print_timings:      sample time =      11.50 ms /    22 runs   (    0.52 ms per token,  1912.54 tokens per second)\n",
      "llama_print_timings: prompt eval time =       0.00 ms /     1 tokens (    0.00 ms per token,      inf tokens per second)\n",
      "llama_print_timings:        eval time =    1378.30 ms /    22 runs   (   62.65 ms per token,    15.96 tokens per second)\n",
      "llama_print_timings:       total time =    1447.74 ms /    23 tokens\n"
     ]
    },
    {
     "name": "stdout",
     "output_type": "stream",
     "text": [
      "\n",
      "\u001b[1m> Finished chain.\u001b[0m\n",
      "\n",
      "\n",
      "Sources:\n",
      "1. Data Mining II (SIADS 632): Learning Outcomes\n",
      "2. Health Analytics (SIADS 681): Weekly Readings or Textbook Information\n",
      "3. Big Data: Scalable Data Processing (SIADS 516): Grading\n",
      "4. Visual Exploration of Data (SIADS 521): Syllabus Course Overview And Prerequisites\n",
      "5. Math Methods I (SIADS 502): Course Schedule\n",
      "\n",
      "\n",
      "\u001b[1m> Entering new RetrievalQA chain...\u001b[0m\n"
     ]
    },
    {
     "name": "stderr",
     "output_type": "stream",
     "text": [
      "Llama.generate: prefix-match hit\n"
     ]
    },
    {
     "name": "stdout",
     "output_type": "stream",
     "text": [
      " The instructor for the SQL and Databases class is Graham Hukill (gshukill@umich.edu)."
     ]
    },
    {
     "name": "stderr",
     "output_type": "stream",
     "text": [
      "\n",
      "llama_print_timings:        load time =    7565.42 ms\n",
      "llama_print_timings:      sample time =       2.61 ms /    26 runs   (    0.10 ms per token,  9969.33 tokens per second)\n",
      "llama_print_timings: prompt eval time =   11047.21 ms /   531 tokens (   20.80 ms per token,    48.07 tokens per second)\n",
      "llama_print_timings:        eval time =     929.68 ms /    25 runs   (   37.19 ms per token,    26.89 tokens per second)\n",
      "llama_print_timings:       total time =   12115.87 ms /   556 tokens\n"
     ]
    },
    {
     "name": "stdout",
     "output_type": "stream",
     "text": [
      "\n",
      "\u001b[1m> Finished chain.\u001b[0m\n",
      "\n",
      "\n",
      "Sources:\n",
      "1. SQL and Databases (SIADS 511): Instructor And Course Assistants\n",
      "2. SQL and Databases (SIADS 511): Course Outcomes\n",
      "3. SQL and Databases (SIADS 511): Technology Requirements (Unique To This Course)\n",
      "4. SQL and Databases (SIADS 511): Textbooks\n",
      "5. SQL and Databases (SIADS 511): Course Schedule\n",
      "\n",
      "\n",
      "\u001b[1m> Entering new RetrievalQA chain...\u001b[0m\n"
     ]
    },
    {
     "name": "stderr",
     "output_type": "stream",
     "text": [
      "Llama.generate: prefix-match hit\n"
     ]
    },
    {
     "name": "stdout",
     "output_type": "stream",
     "text": [
      " The prerequisites for Data Science for Social Good include having completed SIADS 522 as a prerequisite. Additionally, students may benefit from having a foundational understanding of data science concepts and techniques. However, this is not a strict requirement, as the course is designed to be accessible to students with a variety of backgrounds and levels of prior knowledge in data science."
     ]
    },
    {
     "name": "stderr",
     "output_type": "stream",
     "text": [
      "\n",
      "llama_print_timings:        load time =    7565.42 ms\n",
      "llama_print_timings:      sample time =       8.01 ms /    81 runs   (    0.10 ms per token, 10109.84 tokens per second)\n",
      "llama_print_timings: prompt eval time =   17198.35 ms /   827 tokens (   20.80 ms per token,    48.09 tokens per second)\n",
      "llama_print_timings:        eval time =    3108.48 ms /    80 runs   (   38.86 ms per token,    25.74 tokens per second)\n",
      "llama_print_timings:       total time =   20607.76 ms /   907 tokens\n"
     ]
    },
    {
     "name": "stdout",
     "output_type": "stream",
     "text": [
      "\n",
      "\u001b[1m> Finished chain.\u001b[0m\n",
      "\n",
      "\n",
      "Sources:\n",
      "1. Data Science for Social Good (SIADS 688): Course Syllabus for SIADS 688: Data Science for Social Good Course Overview and Prerequisites\n",
      "2. Communicating Data Science Results (SIADS 523): Course Syllabus SIADS 523: Communicating Data Science Results (Fall 2023) Course Overview And Prerequisites\n",
      "3. n/a (n/a): Academics > Master of Applied Data Science (MADS) > Summary of Degree Requirements\n",
      "4. Data Science Ethics (SIADS 503): Course Learning Outcomes\n",
      "5. Data Science for Social Good (SIADS 688): Assignments And Grading You Are Expected To Read An Assigned Paper On Perusall Before Watching Each Lecture, And Complete A Problem Set Afterwards.\n",
      "\n",
      "\n",
      "\u001b[1m> Entering new RetrievalQA chain...\u001b[0m\n"
     ]
    },
    {
     "name": "stderr",
     "output_type": "stream",
     "text": [
      "Llama.generate: prefix-match hit\n"
     ]
    },
    {
     "name": "stdout",
     "output_type": "stream",
     "text": [
      " The Math Methods course has weekly office hours via Zoom. The schedule includes Hanna Hoover on Wednesdays from 4:00-5:00 pm EST; Saurabh Budholiya on Fridays from 9:00-10:00 am EST; Alexis Castellanos on Saturdays from 3:00-4:00 pm EST. Office hours are recorded and archived for students who are unable to attend live sessions."
     ]
    },
    {
     "name": "stderr",
     "output_type": "stream",
     "text": [
      "\n",
      "llama_print_timings:        load time =    7565.42 ms\n",
      "llama_print_timings:      sample time =      11.81 ms /   108 runs   (    0.11 ms per token,  9147.12 tokens per second)\n",
      "llama_print_timings: prompt eval time =   17864.39 ms /   859 tokens (   20.80 ms per token,    48.08 tokens per second)\n",
      "llama_print_timings:        eval time =    4161.17 ms /   107 runs   (   38.89 ms per token,    25.71 tokens per second)\n",
      "llama_print_timings:       total time =   22415.48 ms /   966 tokens\n"
     ]
    },
    {
     "name": "stdout",
     "output_type": "stream",
     "text": [
      "\n",
      "\u001b[1m> Finished chain.\u001b[0m\n",
      "\n",
      "\n",
      "Sources:\n",
      "1. Math Methods II (SIADS 602): Course Schedule\n",
      "2. Unsupervised Learning (SIADS 543): Office Hours Schedule:\n",
      "3. Experiment Design and Analysis (SIADS 631): Course Schedule\n",
      "4. Causal Inference (SIADS 630): Office Hours:\n",
      "5. Machine Learning Pipelines (SIADS 643): Weekly Office Hours Via Zoom (Ann Arbor, Michigan Time):\n",
      "\n",
      "\n",
      "\u001b[1m> Entering new RetrievalQA chain...\u001b[0m\n"
     ]
    },
    {
     "name": "stderr",
     "output_type": "stream",
     "text": [
      "Llama.generate: prefix-match hit\n"
     ]
    },
    {
     "name": "stdout",
     "output_type": "stream",
     "text": [
      " No, there are no weekly readings for Milestone II in this course."
     ]
    },
    {
     "name": "stderr",
     "output_type": "stream",
     "text": [
      "\n",
      "llama_print_timings:        load time =    7565.42 ms\n",
      "llama_print_timings:      sample time =       1.67 ms /    17 runs   (    0.10 ms per token, 10161.39 tokens per second)\n",
      "llama_print_timings: prompt eval time =   14848.78 ms /   720 tokens (   20.62 ms per token,    48.49 tokens per second)\n",
      "llama_print_timings:        eval time =     649.94 ms /    17 runs   (   38.23 ms per token,    26.16 tokens per second)\n",
      "llama_print_timings:       total time =   15648.82 ms /   737 tokens\n"
     ]
    },
    {
     "name": "stdout",
     "output_type": "stream",
     "text": [
      "\n",
      "\u001b[1m> Finished chain.\u001b[0m\n",
      "\n",
      "\n",
      "Sources:\n",
      "1. Milestone II (SIADS 696): Weekly Readings\n",
      "2. Milestone II (SIADS 696): Project Component\n",
      "3. Milestone I (SIADS 593): 6.0 Office Hours\n",
      "4. Milestone II (SIADS 696): Re-Grade Policy\n",
      "5. Milestone I (SIADS 593): 7.0 Grading And Course Checklist\n",
      "\n",
      "\n",
      "\u001b[1m> Entering new RetrievalQA chain...\u001b[0m\n"
     ]
    },
    {
     "name": "stderr",
     "output_type": "stream",
     "text": [
      "Llama.generate: prefix-match hit\n"
     ]
    },
    {
     "name": "stdout",
     "output_type": "stream",
     "text": [
      " The outcomes of Qualitative Inquiry include:\n",
      "1. A deep understanding of the research problem or phenomenon from the perspective of the participants or stakeholders.\n",
      "2. The identification and analysis of patterns, themes, and meanings in the data.\n",
      "3. The development of a narrative or story that captures the essence of the research findings and communicates them effectively to various audiences.\n",
      "4. The generation of insights and implications for practice, policy, and theory based on the research findings.\n",
      "5. The dissemination and sharing of the research findings and insights with various stakeholders and communities through various channels and platforms such as academic publications, conferences, workshops, social media, blogs, and community engagement events."
     ]
    },
    {
     "name": "stderr",
     "output_type": "stream",
     "text": [
      "\n",
      "llama_print_timings:        load time =    7565.42 ms\n",
      "llama_print_timings:      sample time =      14.88 ms /   147 runs   (    0.10 ms per token,  9877.04 tokens per second)\n",
      "llama_print_timings: prompt eval time =   24489.98 ms /  1176 tokens (   20.82 ms per token,    48.02 tokens per second)\n",
      "llama_print_timings:        eval time =    5951.81 ms /   146 runs   (   40.77 ms per token,    24.53 tokens per second)\n",
      "llama_print_timings:       total time =   30947.01 ms /  1322 tokens\n"
     ]
    },
    {
     "name": "stdout",
     "output_type": "stream",
     "text": [
      "\n",
      "\u001b[1m> Finished chain.\u001b[0m\n",
      "\n",
      "\n",
      "Sources:\n",
      "1. Qualitative Inquiry for Data Scientists (SIADS 601): Learning Outcomes\n",
      "2. Qualitative Inquiry for Data Scientists (SIADS 601): Course Handouts\n",
      "3. Qualitative Inquiry for Data Scientists (SIADS 601): Grading And Assignments Overview\n",
      "4. Experiment Design and Analysis (SIADS 631): Learning Outcomes\n",
      "5. Causal Inference (SIADS 630): Accommodations\n",
      "\n",
      "\n",
      "\u001b[1m> Entering new RetrievalQA chain...\u001b[0m\n"
     ]
    },
    {
     "name": "stderr",
     "output_type": "stream",
     "text": [
      "Llama.generate: prefix-match hit\n"
     ]
    },
    {
     "name": "stdout",
     "output_type": "stream",
     "text": [
      " There is no required textbook for SIADS 505. The weekly readings are a significant part of the course and should be referred to for course material."
     ]
    },
    {
     "name": "stderr",
     "output_type": "stream",
     "text": [
      "\n",
      "llama_print_timings:        load time =    7565.42 ms\n",
      "llama_print_timings:      sample time =       3.65 ms /    36 runs   (    0.10 ms per token,  9865.72 tokens per second)\n",
      "llama_print_timings: prompt eval time =    7196.02 ms /   348 tokens (   20.68 ms per token,    48.36 tokens per second)\n",
      "llama_print_timings:        eval time =    1280.65 ms /    35 runs   (   36.59 ms per token,    27.33 tokens per second)\n",
      "llama_print_timings:       total time =    8605.74 ms /   383 tokens\n"
     ]
    },
    {
     "name": "stdout",
     "output_type": "stream",
     "text": [
      "\n",
      "\u001b[1m> Finished chain.\u001b[0m\n",
      "\n",
      "\n",
      "Sources:\n",
      "1. Health Analytics (SIADS 681): Weekly Readings or Textbook Information\n",
      "2. Applied Natural Language Processing (SIADS 655): Textbook Information\n",
      "3. Presenting Uncertainty (SIADS 524): Required Textbook\n",
      "4. Math Methods I (SIADS 502): Academic Integrity\n",
      "5. Database Architecture & Technology (SIADS 611): Assignments And Percentage Of Final Grade\n",
      "\n",
      "\n",
      "\u001b[1m> Entering new RetrievalQA chain...\u001b[0m\n"
     ]
    },
    {
     "name": "stderr",
     "output_type": "stream",
     "text": [
      "Llama.generate: prefix-match hit\n"
     ]
    },
    {
     "name": "stdout",
     "output_type": "stream",
     "text": [
      " There is no required textbook for Data Manipulation. The course relies on a variety of resources including online tutorials, videos, and articles. Additionally, students are encouraged to explore additional resources on their own to deepen their understanding of data manipulation techniques and concepts."
     ]
    },
    {
     "name": "stderr",
     "output_type": "stream",
     "text": [
      "\n",
      "llama_print_timings:        load time =    7565.42 ms\n",
      "llama_print_timings:      sample time =       5.88 ms /    57 runs   (    0.10 ms per token,  9692.23 tokens per second)\n",
      "llama_print_timings: prompt eval time =   13324.40 ms /   648 tokens (   20.56 ms per token,    48.63 tokens per second)\n",
      "llama_print_timings:        eval time =    2166.84 ms /    57 runs   (   38.01 ms per token,    26.31 tokens per second)\n",
      "llama_print_timings:       total time =   15729.64 ms /   705 tokens\n"
     ]
    },
    {
     "name": "stdout",
     "output_type": "stream",
     "text": [
      "\n",
      "\u001b[1m> Finished chain.\u001b[0m\n",
      "\n",
      "\n",
      "Sources:\n",
      "1. Data Manipulation (SIADS 505): Course Syllabus Course Overview And Prerequisites\n",
      "2. Communicating Data Science Results (SIADS 523): Required Textbook\n",
      "3. Data Manipulation (SIADS 505): Library Access\n",
      "4. Math Methods II (SIADS 602): Textbooks For Optional Readings\n",
      "5. Health Analytics (SIADS 681): Weekly Readings or Textbook Information\n",
      "\n",
      "\n",
      "\u001b[1m> Entering new RetrievalQA chain...\u001b[0m\n"
     ]
    },
    {
     "name": "stderr",
     "output_type": "stream",
     "text": [
      "Llama.generate: prefix-match hit\n"
     ]
    },
    {
     "name": "stdout",
     "output_type": "stream",
     "text": [
      " The fourth week of unsupervised learning covers DBSCAN."
     ]
    },
    {
     "name": "stderr",
     "output_type": "stream",
     "text": [
      "\n",
      "llama_print_timings:        load time =    7565.42 ms\n",
      "llama_print_timings:      sample time =       1.71 ms /    13 runs   (    0.13 ms per token,  7597.90 tokens per second)\n",
      "llama_print_timings: prompt eval time =    9502.31 ms /   458 tokens (   20.75 ms per token,    48.20 tokens per second)\n",
      "llama_print_timings:        eval time =     443.65 ms /    12 runs   (   36.97 ms per token,    27.05 tokens per second)\n",
      "llama_print_timings:       total time =   10062.81 ms /   470 tokens\n"
     ]
    },
    {
     "name": "stdout",
     "output_type": "stream",
     "text": [
      "\n",
      "\u001b[1m> Finished chain.\u001b[0m\n",
      "\n",
      "\n",
      "Sources:\n",
      "1. Unsupervised Learning (SIADS 543): Learning Outcomes: Week 2\n",
      "2. SQL and Databases (SIADS 511): Course Schedule\n",
      "3. Unsupervised Learning (SIADS 543): Schedule\n",
      "4. Learning Analytics and Educational Data Science (SIADS 680): Office Hours Via Zoom (Ann Arbor, Michigan Time - Eastern Time Zone)\n",
      "5. Unsupervised Learning (SIADS 543): Quizzes\n",
      "\n",
      "\n",
      "\u001b[1m> Entering new RetrievalQA chain...\u001b[0m\n"
     ]
    },
    {
     "name": "stderr",
     "output_type": "stream",
     "text": [
      "Llama.generate: prefix-match hit\n"
     ]
    },
    {
     "name": "stdout",
     "output_type": "stream",
     "text": [
      " To earn a Master of Applied Data Science degree from the University of Michigan School of Information, you must complete a minimum of 34 hours of graduate coursework, with a minimum cumulative grade average of B and a minimum grade of C- or greater in any course, including all required coursework. Note that within the 34 hours of graduate coursework, all 34 credits must be coursework taken within UMSI (SIADS credit). Additionally, you must complete all Milestone and Capstone courses. Currently MADS does not accept transfer credit of any kind including credit earned from other academic programs or MOOC certificates."
     ]
    },
    {
     "name": "stderr",
     "output_type": "stream",
     "text": [
      "\n",
      "llama_print_timings:        load time =    7565.42 ms\n",
      "llama_print_timings:      sample time =      13.73 ms /   134 runs   (    0.10 ms per token,  9760.36 tokens per second)\n",
      "llama_print_timings: prompt eval time =   20757.07 ms /   994 tokens (   20.88 ms per token,    47.89 tokens per second)\n",
      "llama_print_timings:        eval time =    5272.10 ms /   133 runs   (   39.64 ms per token,    25.23 tokens per second)\n",
      "llama_print_timings:       total time =   26504.22 ms /  1127 tokens\n"
     ]
    },
    {
     "name": "stdout",
     "output_type": "stream",
     "text": [
      "\n",
      "\u001b[1m> Finished chain.\u001b[0m\n",
      "\n",
      "\n",
      "Sources:\n",
      "1. n/a (n/a): Grades/Transcripts > Q: What is the minimum GPA requirement for MADS students?\n",
      "2. n/a (n/a): Course Planning > Q: What is the recommended number of credits students should take?\n",
      "3. n/a (n/a): Course Planning > Q: When will courses be offered next?\n",
      "4. Milestone II (SIADS 696): Letter Grades, Course Grades\n",
      "5. Unsupervised Learning (SIADS 543): Grading And Course Checklist\n",
      "\n",
      "\n",
      "\u001b[1m> Entering new RetrievalQA chain...\u001b[0m\n"
     ]
    },
    {
     "name": "stderr",
     "output_type": "stream",
     "text": [
      "Llama.generate: prefix-match hit\n"
     ]
    },
    {
     "name": "stdout",
     "output_type": "stream",
     "text": [
      " Students are expected to complete all coursework within five years from the date of first enrollment in the program. Students who exceed this time limit must file a petition for modification or waiver of policy. Petitions must describe explicitly the amount of work remaining and a timeline for completion. Students must be making good progress and have good academic standing to receive an extension. A student who does not complete degree requirements within five years and does not petition for an extension may be withdrawn from the program and required to apply for readmission."
     ]
    },
    {
     "name": "stderr",
     "output_type": "stream",
     "text": [
      "\n",
      "llama_print_timings:        load time =    7565.42 ms\n",
      "llama_print_timings:      sample time =      10.60 ms /   108 runs   (    0.10 ms per token, 10185.80 tokens per second)\n",
      "llama_print_timings: prompt eval time =   19554.01 ms /   944 tokens (   20.71 ms per token,    48.28 tokens per second)\n",
      "llama_print_timings:        eval time =    4245.82 ms /   108 runs   (   39.31 ms per token,    25.44 tokens per second)\n",
      "llama_print_timings:       total time =   24189.09 ms /  1052 tokens\n"
     ]
    },
    {
     "name": "stdout",
     "output_type": "stream",
     "text": [
      "\n",
      "\u001b[1m> Finished chain.\u001b[0m\n",
      "\n",
      "\n",
      "Sources:\n",
      "1. n/a (n/a): General Academic Advising > Q: How long do I have to complete the program?\n",
      "2. n/a (n/a): Course Planning > Q: How are the MADS courses/semesters set up?\n",
      "3. n/a (n/a): Grades/Transcripts > Q: What is the minimum GPA requirement for MADS students?\n",
      "4. Milestone II (SIADS 696): Letter Grades, Course Grades\n",
      "5. n/a (n/a): MADS Slack Policy, Standards, and Practices > MADS Slack Standards and Processes > Leaving Course Channels\n",
      "\n",
      "\n",
      "\u001b[1m> Entering new RetrievalQA chain...\u001b[0m\n"
     ]
    },
    {
     "name": "stderr",
     "output_type": "stream",
     "text": [
      "Llama.generate: prefix-match hit\n"
     ]
    },
    {
     "name": "stdout",
     "output_type": "stream",
     "text": [
      " The comprehensive oral exam is worth 40 points in SIADS 593."
     ]
    },
    {
     "name": "stderr",
     "output_type": "stream",
     "text": [
      "\n",
      "llama_print_timings:        load time =    7565.42 ms\n",
      "llama_print_timings:      sample time =       2.08 ms /    20 runs   (    0.10 ms per token,  9615.38 tokens per second)\n",
      "llama_print_timings: prompt eval time =   10661.91 ms /   517 tokens (   20.62 ms per token,    48.49 tokens per second)\n",
      "llama_print_timings:        eval time =     704.13 ms /    19 runs   (   37.06 ms per token,    26.98 tokens per second)\n",
      "llama_print_timings:       total time =   11494.30 ms /   536 tokens\n"
     ]
    },
    {
     "name": "stdout",
     "output_type": "stream",
     "text": [
      "\n",
      "\u001b[1m> Finished chain.\u001b[0m\n",
      "\n",
      "\n",
      "Sources:\n",
      "1. Database Architecture & Technology (SIADS 611): Assignments And Percentage Of Final Grade\n",
      "2. Milestone II (SIADS 696): Comprehensive Exam Component\n",
      "3. Milestone I (SIADS 593): 4.0 Weekly Readings\n",
      "4. Unsupervised Learning (SIADS 543): Quizzes\n",
      "5. Information Visualization I (SIADS 522): Letter Grades, Course Grades, And Late Submission Policy\n",
      "\n",
      "\n",
      "\u001b[1m> Entering new RetrievalQA chain...\u001b[0m\n"
     ]
    },
    {
     "name": "stderr",
     "output_type": "stream",
     "text": [
      "Llama.generate: prefix-match hit\n"
     ]
    },
    {
     "name": "stdout",
     "output_type": "stream",
     "text": [
      " In SIADS 630, there is a 15% daily-recurring reduction in grade for the first three days after the submission deadline. You will receive a zero (0) if your assignment is turned in four or more days late. Students have one free pass to submit all of one week's assessments late (up to three days). Students don't need to explain their circumstances but need to report their late submission by DMing Instructional team. Instructional team will adjust the late grade for one week's assessments."
     ]
    },
    {
     "name": "stderr",
     "output_type": "stream",
     "text": [
      "\n",
      "llama_print_timings:        load time =    7565.42 ms\n",
      "llama_print_timings:      sample time =      11.53 ms /   118 runs   (    0.10 ms per token, 10237.72 tokens per second)\n",
      "llama_print_timings: prompt eval time =   19703.88 ms /   949 tokens (   20.76 ms per token,    48.16 tokens per second)\n",
      "llama_print_timings:        eval time =    4613.97 ms /   117 runs   (   39.44 ms per token,    25.36 tokens per second)\n",
      "llama_print_timings:       total time =   24717.60 ms /  1066 tokens\n"
     ]
    },
    {
     "name": "stdout",
     "output_type": "stream",
     "text": [
      "\n",
      "\u001b[1m> Finished chain.\u001b[0m\n",
      "\n",
      "\n",
      "Sources:\n",
      "1. Math Methods II (SIADS 602): Quizzes, Assignments, And Late Penalties\n",
      "2. Capstone (SIADS 699): Late Submission Policy\n",
      "3. Causal Inference (SIADS 630): Late Policy\n",
      "4. Milestone II (SIADS 696): Late Submission Policy\n",
      "5. Presenting Uncertainty (SIADS 524): Late Submissions\n",
      "\n",
      "\n",
      "\u001b[1m> Entering new RetrievalQA chain...\u001b[0m\n"
     ]
    },
    {
     "name": "stderr",
     "output_type": "stream",
     "text": [
      "Llama.generate: prefix-match hit\n"
     ]
    },
    {
     "name": "stdout",
     "output_type": "stream",
     "text": [
      " To request accommodations for a class due to a disability, follow these steps:\n",
      "1. Complete the Student Application Form in Accommodate and meet with your assigned coordinator in the Services for Students with Disabilities office (SSD). Alternatively, provide documentation of your disability to your faculty instructor and to your academic advisor in the Office of Academic and Student Affairs to determine a reasonable accommodation. Note that UMSI reserves the right to require that you register with SSD and obtain approved accommodations.\n",
      "2. Once your request for accommodations has been approved by your faculty instructor and by SSD (if applicable), your faculty instructor will provide you with any necessary accommodations, such as extended time on exams or alternative formats for course materials.\n",
      "3. It is important to note that accommodations are designed to provide equal access and opportunity for students with disabilities, but they do not guarantee a perfect or ideal outcome. Accommodations are intended to be reasonable and effective in addressing the specific needs and limitations of individual students with disabilities. Ultimately, it is the responsibility of both the student and the faculty instructor to work together in good faith to determine and implement appropriate and effective accommodations for the student with a disability."
     ]
    },
    {
     "name": "stderr",
     "output_type": "stream",
     "text": [
      "\n",
      "llama_print_timings:        load time =    7565.42 ms\n",
      "llama_print_timings:      sample time =      25.04 ms /   253 runs   (    0.10 ms per token, 10104.24 tokens per second)\n",
      "llama_print_timings: prompt eval time =   18341.21 ms /   885 tokens (   20.72 ms per token,    48.25 tokens per second)\n",
      "llama_print_timings:        eval time =    9940.66 ms /   252 runs   (   39.45 ms per token,    25.35 tokens per second)\n",
      "llama_print_timings:       total time =   28963.43 ms /  1137 tokens\n"
     ]
    },
    {
     "name": "stdout",
     "output_type": "stream",
     "text": [
      "\n",
      "\u001b[1m> Finished chain.\u001b[0m\n",
      "\n",
      "\n",
      "Sources:\n",
      "1. n/a (n/a): Additional University Resources > Q: I need accommodations to best support my learning. Who can I talk to?\n",
      "2. Data Science for Social Good (SIADS 688): Accommodations\n",
      "3. n/a (n/a): Accommodations for Students with Disabilities Policy\n",
      "4. n/a (n/a): Accommodations for Students with Disabilities Policy\n",
      "5. Math Methods II (SIADS 602): Accommodations\n",
      "\n",
      "\n",
      "\u001b[1m> Entering new RetrievalQA chain...\u001b[0m\n"
     ]
    },
    {
     "name": "stderr",
     "output_type": "stream",
     "text": [
      "Llama.generate: prefix-match hit\n"
     ]
    },
    {
     "name": "stdout",
     "output_type": "stream",
     "text": [
      " A backpack is a type of bag with two straps that are worn on the back. Backpacks are commonly used for hiking, camping, and traveling, as they allow people to carry a large amount of gear and supplies with them in a convenient and comfortable way. Backpacks come in a wide range of sizes, styles, and features, so people can choose the one that best suits their needs and preferences."
     ]
    },
    {
     "name": "stderr",
     "output_type": "stream",
     "text": [
      "\n",
      "llama_print_timings:        load time =    7565.42 ms\n",
      "llama_print_timings:      sample time =      10.31 ms /    87 runs   (    0.12 ms per token,  8441.68 tokens per second)\n",
      "llama_print_timings: prompt eval time =   11680.00 ms /   564 tokens (   20.71 ms per token,    48.29 tokens per second)\n",
      "llama_print_timings:        eval time =    3255.21 ms /    86 runs   (   37.85 ms per token,    26.42 tokens per second)\n",
      "llama_print_timings:       total time =   15200.64 ms /   650 tokens\n"
     ]
    },
    {
     "name": "stdout",
     "output_type": "stream",
     "text": [
      "\n",
      "\u001b[1m> Finished chain.\u001b[0m\n",
      "\n",
      "\n",
      "Sources:\n",
      "1. Visual Exploration of Data (SIADS 521): Syllabus Course Overview And Prerequisites\n",
      "2. Milestone II (SIADS 696): Technology Tips\n",
      "3. Visual Exploration of Data (SIADS 521): Use Of External Resources And Services (E.G Chatgpt)\n",
      "4. Visual Exploration of Data (SIADS 521): Accessibility\n",
      "5. Learning Analytics and Educational Data Science (SIADS 680): Library Access\n",
      "\n",
      "\n",
      "\u001b[1m> Entering new RetrievalQA chain...\u001b[0m\n"
     ]
    },
    {
     "name": "stderr",
     "output_type": "stream",
     "text": [
      "Llama.generate: prefix-match hit\n"
     ]
    },
    {
     "name": "stdout",
     "output_type": "stream",
     "text": [
      " The deadline to submit a request for a late drop (withdrawal) is 11:59pm on the last day of classes for each session. However, if you intend to work on and submit an assignment after the official last day of the course (e.g. you use late days to complete a week 4 assignment past the deadline), you must make sure to start your work early enough that any assistance you might need from the instructional team can be obtained no later than the last official day of the course (i.e. stated close of the session). There is no guarantee that assistance from instructional staff will still be available after the last day of the course, since their time will already be occupied preparing for the next session's courses."
     ]
    },
    {
     "name": "stderr",
     "output_type": "stream",
     "text": [
      "\n",
      "llama_print_timings:        load time =    7565.42 ms\n",
      "llama_print_timings:      sample time =      15.62 ms /   157 runs   (    0.10 ms per token, 10048.00 tokens per second)\n",
      "llama_print_timings: prompt eval time =   15004.47 ms /   724 tokens (   20.72 ms per token,    48.25 tokens per second)\n",
      "llama_print_timings:        eval time =    6002.13 ms /   156 runs   (   38.48 ms per token,    25.99 tokens per second)\n",
      "llama_print_timings:       total time =   21442.45 ms /   880 tokens\n"
     ]
    },
    {
     "name": "stdout",
     "output_type": "stream",
     "text": [
      "\n",
      "\u001b[1m> Finished chain.\u001b[0m\n",
      "\n",
      "\n",
      "Sources:\n",
      "1. n/a (n/a): Class Registration > Q: What’s the latest that I can late drop a course?\n",
      "2. n/a (n/a): Class Registration > Q: What do I need to do to drop a course during the add/drop period?\n",
      "3. Deep Learning I (SIADS 642): Course Schedule\n",
      "4. n/a (n/a): Course Planning > Q: When will courses be offered next?\n",
      "5. Unsupervised Learning (SIADS 543): Late Submission Policy\n",
      "\n",
      "\n",
      "\u001b[1m> Entering new RetrievalQA chain...\u001b[0m\n"
     ]
    },
    {
     "name": "stderr",
     "output_type": "stream",
     "text": [
      "Llama.generate: prefix-match hit\n"
     ]
    },
    {
     "name": "stdout",
     "output_type": "stream",
     "text": [
      " To request an override for a class, you should first check if there are any seats available for registration through Wolverine Access. If there are no seats available and you still wish to take the class, then you should submit a request for an override through the UMSI Registrar Team at [umsi.registrar@umich.edu](mailto:umsi.registrar@umich.edu)]. In your request for an override, please provide your name, student ID number, term (fall, winter, or spring/summer), catalog number (e.g., SIADS 501), and section number (001, 002, etc.). Once your request for an override has been reviewed and approved by the instructor and the UMSI Registrar or your MADS academic advisor, then you will be notified and provided with instructions on how to register for the class through Wolverine Access. It is important to note that receiving an override does not enroll you in the course; you must register through Wolverine Access to claim the seat that has been opened for you."
     ]
    },
    {
     "name": "stderr",
     "output_type": "stream",
     "text": [
      "\n",
      "llama_print_timings:        load time =    7565.42 ms\n",
      "llama_print_timings:      sample time =      22.43 ms /   239 runs   (    0.09 ms per token, 10656.80 tokens per second)\n",
      "llama_print_timings: prompt eval time =   21433.67 ms /  1031 tokens (   20.79 ms per token,    48.10 tokens per second)\n",
      "llama_print_timings:        eval time =    9576.66 ms /   238 runs   (   40.24 ms per token,    24.85 tokens per second)\n",
      "llama_print_timings:       total time =   31680.16 ms /  1269 tokens\n"
     ]
    },
    {
     "name": "stdout",
     "output_type": "stream",
     "text": [
      "\n",
      "\u001b[1m> Finished chain.\u001b[0m\n",
      "\n",
      "\n",
      "Sources:\n",
      "1. n/a (n/a): Class Registration > Q: What is a Backpack?\n",
      "2. n/a (n/a): Academics > Overrides/Permission to Enroll\n",
      "3. Supervised Learning (SIADS 542): Grading And Course Checklist\n",
      "4. n/a (n/a): Class Registration > Q: What’s the latest that I can late drop a course?\n",
      "5. n/a (n/a): Academics > Visiting (“Auditing”) a SIADS Course\n",
      "\n",
      "\n",
      "\u001b[1m> Entering new RetrievalQA chain...\u001b[0m\n"
     ]
    },
    {
     "name": "stderr",
     "output_type": "stream",
     "text": [
      "Llama.generate: prefix-match hit\n"
     ]
    },
    {
     "name": "stdout",
     "output_type": "stream",
     "text": [
      " To request a leave of absence from the MADS program, you should first notify the MADS Academic Advising Team at [umsi.advising.mads@umich.edu](mailto:umsi.advising.mads@umich.edu)] of your intentions. If you have already registered for classes and need to withdraw from the MADS program, you will need to submit a term withdrawal form available from the UMSI Registrar Team (umsi.registrar@umich.edu).\n",
      "\n",
      "To register for classes following a term in which you were not enrolled, you will need to contact the Office of the Registrar by email at [ro.registration.questions@umich.edu](mailto:ro.registration.questions@umich.edu)] or phone 734.764.6280 / 734.647.3507, to request a registration appointment assignment. If using email, please include name, UM ID number, term, and school or college in which you wish to register.\n",
      "\n",
      "Students not enrolling within a year (12 months) will have to apply for readmission to UMSI."
     ]
    },
    {
     "name": "stderr",
     "output_type": "stream",
     "text": [
      "\n",
      "llama_print_timings:        load time =    7565.42 ms\n",
      "llama_print_timings:      sample time =      27.59 ms /   266 runs   (    0.10 ms per token,  9640.13 tokens per second)\n",
      "llama_print_timings: prompt eval time =   25912.88 ms /  1245 tokens (   20.81 ms per token,    48.05 tokens per second)\n",
      "llama_print_timings:        eval time =   10954.38 ms /   265 runs   (   41.34 ms per token,    24.19 tokens per second)\n",
      "llama_print_timings:       total time =   37747.25 ms /  1510 tokens\n"
     ]
    },
    {
     "name": "stdout",
     "output_type": "stream",
     "text": [
      "\n",
      "\u001b[1m> Finished chain.\u001b[0m\n",
      "\n",
      "\n",
      "Sources:\n",
      "1. n/a (n/a): Academics > Leave of Absence\n",
      "2. n/a (n/a): Academics > Grades and Grading Policy > Grade of Incomplete (I)\n",
      "3. n/a (n/a): Additional University Resources > Q: What mental health resources are available to MADS students?\n",
      "4. n/a (n/a): MADS Slack Policy, Standards, and Practices > MADS Slack Practices > Acknowledge, even when you want to work on it later\n",
      "5. n/a (n/a): Grades/Transcripts > Q: What is the minimum GPA requirement for MADS students?\n",
      "\n",
      "\n",
      "\u001b[1m> Entering new RetrievalQA chain...\u001b[0m\n"
     ]
    },
    {
     "name": "stderr",
     "output_type": "stream",
     "text": [
      "Llama.generate: prefix-match hit\n"
     ]
    },
    {
     "name": "stdout",
     "output_type": "stream",
     "text": [
      " The prerequisites for Search and Recommender Systems include advisory prerequisites such as SIADS 642: Deep learning, SIADS 652: Network analysis, SIADS 655: Applied NLP, SIADS 611: Database Architecture and Technology, and enforced prerequisites such as SIADS 694 (first half of Milestone II)."
     ]
    },
    {
     "name": "stderr",
     "output_type": "stream",
     "text": [
      "\n",
      "llama_print_timings:        load time =    7565.42 ms\n",
      "llama_print_timings:      sample time =      10.12 ms /    95 runs   (    0.11 ms per token,  9388.28 tokens per second)\n",
      "llama_print_timings: prompt eval time =   14135.42 ms /   682 tokens (   20.73 ms per token,    48.25 tokens per second)\n",
      "llama_print_timings:        eval time =    3578.01 ms /    94 runs   (   38.06 ms per token,    26.27 tokens per second)\n",
      "llama_print_timings:       total time =   18052.33 ms /   776 tokens\n"
     ]
    },
    {
     "name": "stdout",
     "output_type": "stream",
     "text": [
      "\n",
      "\u001b[1m> Finished chain.\u001b[0m\n",
      "\n",
      "\n",
      "Sources:\n",
      "1. Search and Recommender Systems (SIADS 685): Course Overview And Prerequisites\n",
      "2. Search and Recommender Systems (SIADS 685): Instructor And Course Assistants\n",
      "3. Search and Recommender Systems (SIADS 685): Week 2: Retrieval Models, Web Search (Part I)\n",
      "4. n/a (n/a): General Academic Advising > Q: Can you advise me on which courses are the heaviest workload, the most difficult, etc?\n",
      "5. Data Science for Social Good (SIADS 688): Week 4 - Personalizing The Ask: Open Content, Recommender, And Reputation Systems\n"
     ]
    }
   ],
   "source": [
    "for _, row in df.iterrows():\n",
    "    llm_response = qa_chain(row[\"question\"])\n",
    "    process_llm_response(llm_response)\n",
    "\n",
    "    formatter.add_response(llm_response, row[\"ground_truth\"])\n",
    "\n",
    "    # Save after each response in case this thing crashes\n",
    "    with open(f\"./cache/{retrieval_strategy}_{model}_formatter.pickle\", 'wb') as handle:\n",
    "        pickle.dump(formatter, handle)\n",
    "\n",
    "    with open(f\"./cache/{retrieval_strategy}_{model}_responses.pickle\", 'wb') as handle:\n",
    "        pickle.dump(formatter.get_responses(), handle)"
   ]
  },
  {
   "cell_type": "markdown",
   "metadata": {},
   "source": [
    "## Evaluation with BERTScore"
   ]
  },
  {
   "cell_type": "code",
   "execution_count": 22,
   "metadata": {},
   "outputs": [],
   "source": [
    "with open(f\"./cache/{retrieval_strategy}_{model}_responses.pickle\", \"rb\") as handle:\n",
    "    rag_responses = pickle.load(handle)"
   ]
  },
  {
   "cell_type": "code",
   "execution_count": 23,
   "metadata": {},
   "outputs": [
    {
     "name": "stdout",
     "output_type": "stream",
     "text": [
      "Which class involves time series analysis?\n",
      ">>> Data Mining II, SIADS 632 includes a particular focus on time series analysis.\n",
      "----------------------------------------------------------------------------------------------------\n",
      " The class that involves time series analysis is Data Mining II (SIADS 632).\n",
      "\n",
      "====================================================================================================\n",
      "====================================================================================================\n",
      "\n",
      "Who teaches the SQL and Databases class?\n",
      ">>> The primary instructor for SQL and Databases is Graham Hukill. Additional course assistants include, Derek Bruckner, Emily Schemanske, Jungseo Lee, and Toby Kemp.\n",
      "----------------------------------------------------------------------------------------------------\n",
      " The instructor for the SQL and Databases class is Graham Hukill (gshukill@umich.edu).\n",
      "\n",
      "====================================================================================================\n",
      "====================================================================================================\n",
      "\n",
      "What are the prerequisites for Data Science for Social Good?\n",
      ">>> SIADS 630, 631, and 694\n",
      "----------------------------------------------------------------------------------------------------\n",
      " The prerequisites for Data Science for Social Good include having completed SIADS 522 as a prerequisite. Additionally, students may benefit from having a foundational understanding of data science concepts and techniques. However, this is not a strict requirement, as the course is designed to be accessible to students with a variety of backgrounds and levels of prior knowledge in data science.\n",
      "\n",
      "====================================================================================================\n",
      "====================================================================================================\n",
      "\n",
      "When are the office hours for the Math Methods course?\n",
      ">>> Office hours for Math Methods are held at the following times: Alex McLeod: Monday at 11:45 am EST, Saurabh Budholiya: Friday at 9:00 am EST, Alexis Castellano: Thursdays at 7:00 pm EST\n",
      "----------------------------------------------------------------------------------------------------\n",
      " The Math Methods course has weekly office hours via Zoom. The schedule includes Hanna Hoover on Wednesdays from 4:00-5:00 pm EST; Saurabh Budholiya on Fridays from 9:00-10:00 am EST; Alexis Castellanos on Saturdays from 3:00-4:00 pm EST. Office hours are recorded and archived for students who are unable to attend live sessions.\n",
      "\n",
      "====================================================================================================\n",
      "====================================================================================================\n",
      "\n",
      "Are there any weekly readings for Milestone II?\n",
      ">>> There is introductory material during the first week of the course, but generally speaking, no weekly readings in this course.\n",
      "----------------------------------------------------------------------------------------------------\n",
      " No, there are no weekly readings for Milestone II in this course.\n",
      "\n",
      "====================================================================================================\n",
      "====================================================================================================\n",
      "\n",
      "What are the outcomes of Qualitative Inquiry?\n",
      ">>> Upon successful completion of this course, students will be able to:\n",
      "\n",
      "1.  Collect, represent, and analyze qualitative data about a quantitative data set, by…\n",
      "2.  Conducting semi-structured interviews;\n",
      "3.  Processing interview notes into discrete pieces of qualitative data; and \n",
      "4.  Analyze qualitative data using affinity walls.\n",
      "5.  Develop a narrative about qualitative findings that support later quantitative analysis.\n",
      "6.  Communicate qualitative findings in written form.\n",
      "----------------------------------------------------------------------------------------------------\n",
      " The outcomes of Qualitative Inquiry include:\n",
      "1. A deep understanding of the research problem or phenomenon from the perspective of the participants or stakeholders.\n",
      "2. The identification and analysis of patterns, themes, and meanings in the data.\n",
      "3. The development of a narrative or story that captures the essence of the research findings and communicates them effectively to various audiences.\n",
      "4. The generation of insights and implications for practice, policy, and theory based on the research findings.\n",
      "5. The dissemination and sharing of the research findings and insights with various stakeholders and communities through various channels and platforms such as academic publications, conferences, workshops, social media, blogs, and community engagement events.\n",
      "\n",
      "====================================================================================================\n",
      "====================================================================================================\n",
      "\n",
      "What textbook is required for SIADS 505?\n",
      ">>> Python for Data Analysis: Data Wrangling with Pandas, NumPy, and iPython 2nd edition by Wes McKinney (O'Reilly). Copyright 2017 Wes McKinney, 978-1-491-95766-0.\n",
      "----------------------------------------------------------------------------------------------------\n",
      " There is no required textbook for SIADS 505. The weekly readings are a significant part of the course and should be referred to for course material.\n",
      "\n",
      "====================================================================================================\n",
      "====================================================================================================\n",
      "\n",
      "What textbook is required for Data Manipulation?\n",
      ">>> Python for Data Analysis: Data Wrangling with Pandas, NumPy, and iPython 2nd edition by Wes McKinney (O'Reilly). Copyright 2017 Wes McKinney, 978-1-491-95766-0.\n",
      "----------------------------------------------------------------------------------------------------\n",
      " There is no required textbook for Data Manipulation. The course relies on a variety of resources including online tutorials, videos, and articles. Additionally, students are encouraged to explore additional resources on their own to deepen their understanding of data manipulation techniques and concepts.\n",
      "\n",
      "====================================================================================================\n",
      "====================================================================================================\n",
      "\n",
      "Which week of unsupervised learning covers DBSCAN?\n",
      ">>> Week 2\n",
      "----------------------------------------------------------------------------------------------------\n",
      " The fourth week of unsupervised learning covers DBSCAN.\n",
      "\n",
      "====================================================================================================\n",
      "====================================================================================================\n",
      "\n",
      "How many credits are required to complete the MADS program?\n",
      ">>> 34\n",
      "----------------------------------------------------------------------------------------------------\n",
      " To earn a Master of Applied Data Science degree from the University of Michigan School of Information, you must complete a minimum of 34 hours of graduate coursework, with a minimum cumulative grade average of B and a minimum grade of C- or greater in any course, including all required coursework. Note that within the 34 hours of graduate coursework, all 34 credits must be coursework taken within UMSI (SIADS credit). Additionally, you must complete all Milestone and Capstone courses. Currently MADS does not accept transfer credit of any kind including credit earned from other academic programs or MOOC certificates.\n",
      "\n",
      "====================================================================================================\n",
      "====================================================================================================\n",
      "\n",
      "How long do students have to complete the MADS program start to finish?\n",
      ">>> Five years\n",
      "----------------------------------------------------------------------------------------------------\n",
      " Students are expected to complete all coursework within five years from the date of first enrollment in the program. Students who exceed this time limit must file a petition for modification or waiver of policy. Petitions must describe explicitly the amount of work remaining and a timeline for completion. Students must be making good progress and have good academic standing to receive an extension. A student who does not complete degree requirements within five years and does not petition for an extension may be withdrawn from the program and required to apply for readmission.\n",
      "\n",
      "====================================================================================================\n",
      "====================================================================================================\n",
      "\n",
      "How many points is the comprehensive oral exam worth in SIADS 593?\n",
      ">>> 400\n",
      "----------------------------------------------------------------------------------------------------\n",
      " The comprehensive oral exam is worth 40 points in SIADS 593.\n",
      "\n",
      "====================================================================================================\n",
      "====================================================================================================\n",
      "\n",
      "What is the penalty for late submission in SIADS 630?\n",
      ">>> The late-submission policy is 15% daily-recurring reduction in grade for the first three days after the submission deadline. You will receive a zero (0) if your assignment is turned in four or more days late. Students have one free pass to submit all of one week's assessments late (up to three days).\n",
      "----------------------------------------------------------------------------------------------------\n",
      " In SIADS 630, there is a 15% daily-recurring reduction in grade for the first three days after the submission deadline. You will receive a zero (0) if your assignment is turned in four or more days late. Students have one free pass to submit all of one week's assessments late (up to three days). Students don't need to explain their circumstances but need to report their late submission by DMing Instructional team. Instructional team will adjust the late grade for one week's assessments.\n",
      "\n",
      "====================================================================================================\n",
      "====================================================================================================\n",
      "\n",
      "How do I get accommodations for a class?\n",
      ">>> Register with the U-M Services for Students with Disabilities office (SSD) (https://ssd.umich.edu/) and also meet with an academic advisor in the UMSI Office of Academic and Student Affairs\n",
      "----------------------------------------------------------------------------------------------------\n",
      " To request accommodations for a class due to a disability, follow these steps:\n",
      "1. Complete the Student Application Form in Accommodate and meet with your assigned coordinator in the Services for Students with Disabilities office (SSD). Alternatively, provide documentation of your disability to your faculty instructor and to your academic advisor in the Office of Academic and Student Affairs to determine a reasonable accommodation. Note that UMSI reserves the right to require that you register with SSD and obtain approved accommodations.\n",
      "2. Once your request for accommodations has been approved by your faculty instructor and by SSD (if applicable), your faculty instructor will provide you with any necessary accommodations, such as extended time on exams or alternative formats for course materials.\n",
      "3. It is important to note that accommodations are designed to provide equal access and opportunity for students with disabilities, but they do not guarantee a perfect or ideal outcome. Accommodations are intended to be reasonable and effective in addressing the specific needs and limitations of individual students with disabilities. Ultimately, it is the responsibility of both the student and the faculty instructor to work together in good faith to determine and implement appropriate and effective accommodations for the student with a disability.\n",
      "\n",
      "====================================================================================================\n",
      "====================================================================================================\n",
      "\n",
      "What is a backpack?\n",
      ">>> The Backpack is a feature available on Wolverine Access that works much like the \"shopping carts\" you have seen on many retail websites. With the Backpack you can prepare for your upcoming registration appointment by filling it with classes you want to take.\n",
      "----------------------------------------------------------------------------------------------------\n",
      " A backpack is a type of bag with two straps that are worn on the back. Backpacks are commonly used for hiking, camping, and traveling, as they allow people to carry a large amount of gear and supplies with them in a convenient and comfortable way. Backpacks come in a wide range of sizes, styles, and features, so people can choose the one that best suits their needs and preferences.\n",
      "\n",
      "====================================================================================================\n",
      "====================================================================================================\n",
      "\n",
      "When is the latest I can drop a course?\n",
      ">>> The deadline to submit a request for a late drop (withdrawal) is 11:59pm on the last day of classes for each session.\n",
      "----------------------------------------------------------------------------------------------------\n",
      " The deadline to submit a request for a late drop (withdrawal) is 11:59pm on the last day of classes for each session. However, if you intend to work on and submit an assignment after the official last day of the course (e.g. you use late days to complete a week 4 assignment past the deadline), you must make sure to start your work early enough that any assistance you might need from the instructional team can be obtained no later than the last official day of the course (i.e. stated close of the session). There is no guarantee that assistance from instructional staff will still be available after the last day of the course, since their time will already be occupied preparing for the next session's courses.\n",
      "\n",
      "====================================================================================================\n",
      "====================================================================================================\n",
      "\n",
      "How do I get an override to take a class?\n",
      ">>> If Wolverine Access is not allowing you to register for a course, and there are seats available, please request an override by emailing the UMSI Registrar Team at umsi.registrar@umich.edu. Provide the following information in your email request for an override: your name, student ID number, term (fall, winter, or spring/summer), catalog number (e.g., SIADS 501), and section number (001, 002, etc.).\n",
      "----------------------------------------------------------------------------------------------------\n",
      " To request an override for a class, you should first check if there are any seats available for registration through Wolverine Access. If there are no seats available and you still wish to take the class, then you should submit a request for an override through the UMSI Registrar Team at [umsi.registrar@umich.edu](mailto:umsi.registrar@umich.edu)]. In your request for an override, please provide your name, student ID number, term (fall, winter, or spring/summer), catalog number (e.g., SIADS 501), and section number (001, 002, etc.). Once your request for an override has been reviewed and approved by the instructor and the UMSI Registrar or your MADS academic advisor, then you will be notified and provided with instructions on how to register for the class through Wolverine Access. It is important to note that receiving an override does not enroll you in the course; you must register through Wolverine Access to claim the seat that has been opened for you.\n",
      "\n",
      "====================================================================================================\n",
      "====================================================================================================\n",
      "\n",
      "How do I take a leave of absence from the MADS program?\n",
      ">>> If you decide to take a leave of absence and have not yet used the online course registration, you do not need to submit any paperwork, but should notify the MADS Academic Advising Team at umsi.advising.mads@umich.edu of your intentions. If you have already registered, you will need to submit a term withdrawal form to drop all your classes for the semester.\n",
      "----------------------------------------------------------------------------------------------------\n",
      " To request a leave of absence from the MADS program, you should first notify the MADS Academic Advising Team at [umsi.advising.mads@umich.edu](mailto:umsi.advising.mads@umich.edu)] of your intentions. If you have already registered for classes and need to withdraw from the MADS program, you will need to submit a term withdrawal form available from the UMSI Registrar Team (umsi.registrar@umich.edu).\n",
      "\n",
      "To register for classes following a term in which you were not enrolled, you will need to contact the Office of the Registrar by email at [ro.registration.questions@umich.edu](mailto:ro.registration.questions@umich.edu)] or phone 734.764.6280 / 734.647.3507, to request a registration appointment assignment. If using email, please include name, UM ID number, term, and school or college in which you wish to register.\n",
      "\n",
      "Students not enrolling within a year (12 months) will have to apply for readmission to UMSI.\n",
      "\n",
      "====================================================================================================\n",
      "====================================================================================================\n",
      "\n",
      "What are the prerequisites for Search and Recommender Systems?\n",
      ">>> SIADS 642, 652, 655, 611, and 694\n",
      "----------------------------------------------------------------------------------------------------\n",
      " The prerequisites for Search and Recommender Systems include advisory prerequisites such as SIADS 642: Deep learning, SIADS 652: Network analysis, SIADS 655: Applied NLP, SIADS 611: Database Architecture and Technology, and enforced prerequisites such as SIADS 694 (first half of Milestone II).\n",
      "\n",
      "====================================================================================================\n",
      "====================================================================================================\n",
      "\n"
     ]
    }
   ],
   "source": [
    "for i in range(len(rag_responses[\"question\"])):\n",
    "    print(rag_responses[\"question\"][i])\n",
    "    print(\">>>\", rag_responses[\"ground_truth\"][i])\n",
    "    print(\"-\" * 100)\n",
    "    print(rag_responses[\"answer\"][i])\n",
    "    print(\"\")\n",
    "    print(\"=\" * 100)\n",
    "    print(\"=\" * 100)\n",
    "    print(\"\")"
   ]
  },
  {
   "cell_type": "code",
   "execution_count": 24,
   "metadata": {},
   "outputs": [],
   "source": [
    "responses_df = pd.DataFrame(rag_responses)\n",
    "\n",
    "responses_df[\"eye_check\"] = [\n",
    "    1, # 'Which class involves time series analysis?',\n",
    "    1, # 'Who teaches the SQL and Databases class?',\n",
    "    -1, # 'What are the prerequisites for Data Science for Social Good?',\n",
    "    -1, # 'When are the office hours for the Math Methods course?',\n",
    "    1, # 'Are there any weekly readings for Milestone II?',\n",
    "    -1, # 'What are the outcomes of Qualitative Inquiry?',\n",
    "    -1, # 'What textbook is required for SIADS 505?',\n",
    "    -1, # 'What textbook is required for Data Manipulation?',\n",
    "    -1, # 'Which week of unsupervised learning covers DBSCAN?',\n",
    "    1, # 'How many credits are required to complete the MADS program?',\n",
    "    1, # 'How long do students have to complete the MADS program start to finish?',\n",
    "    -1, # 'How many points is the comprehensive oral exam worth in SIADS 593?',\n",
    "    1, # 'What is the penalty for late submission in SIADS 630?',\n",
    "    -1, # 'How do I get accommodations for a class?',\n",
    "    -1, # 'What is a backpack?',\n",
    "    1, # 'When is the latest I can drop a course?',\n",
    "    1, # 'How do I get an override to take a class?',\n",
    "    1, # 'How do I take a leave of absence from the MADS program?',\n",
    "    1, # 'What are the prerequisites for Search and Recommender Systems?'\n",
    "]"
   ]
  },
  {
   "cell_type": "code",
   "execution_count": 25,
   "metadata": {},
   "outputs": [],
   "source": [
    "scores = [\n",
    "    [\n",
    "        t.item()\n",
    "        for t in score(\n",
    "            [rag_responses[\"answer\"][i]],\n",
    "            [rag_responses[\"ground_truth\"][i]],\n",
    "            rescale_with_baseline=True,\n",
    "            lang=\"en\",\n",
    "        )\n",
    "    ]\n",
    "    for i in range(len(rag_responses[\"question\"]))\n",
    "]\n",
    "\n",
    "with open(f\"./cache/{retrieval_strategy}_{model}_bertscores.pickle\", \"wb\") as handle:\n",
    "    pickle.dump(scores, handle)"
   ]
  },
  {
   "cell_type": "code",
   "execution_count": 26,
   "metadata": {},
   "outputs": [],
   "source": [
    "with open(f\"./cache/{retrieval_strategy}_{model}_bertscores.pickle\", \"rb\") as handle:\n",
    "    scores = pickle.load(handle)\n",
    "\n",
    "bert_df = pd.concat(\n",
    "    [\n",
    "        responses_df,\n",
    "        pd.DataFrame(scores, columns=[\"precision\", \"recall\", \"f1\"]),\n",
    "    ],\n",
    "    axis=\"columns\",\n",
    ")\n",
    "\n",
    "bert_df[\"abs_diff\"] = (bert_df[\"eye_check\"] - bert_df[\"f1\"]).abs()"
   ]
  },
  {
   "cell_type": "code",
   "execution_count": 27,
   "metadata": {},
   "outputs": [
    {
     "data": {
      "image/png": "[encoded data removed]",
      "text/plain": [
       "<Figure size 640x480 with 2 Axes>"
      ]
     },
     "metadata": {},
     "output_type": "display_data"
    }
   ],
   "source": [
    "sns.heatmap(\n",
    "    bert_df[[\"precision\", \"recall\", \"f1\", \"eye_check\"]],\n",
    "    yticklabels=bert_df[\"question\"].str[:42],\n",
    "    annot=True,\n",
    "    cmap=sns.cubehelix_palette(as_cmap=True),\n",
    ")\n",
    "\n",
    "plt.suptitle(\"BERTScore Evaluation (normalized)\")\n",
    "plt.title(f\"Strategy: {retrieval_strategy} | Model: {model}\", fontsize=10)\n",
    "\n",
    "plt.show()"
   ]
  },
  {
   "cell_type": "code",
   "execution_count": null,
   "metadata": {},
   "outputs": [],
   "source": []
  }
 ],
 "metadata": {
  "accelerator": "GPU",
  "colab": {
   "gpuType": "T4",
   "provenance": []
  },
  "kernelspec": {
   "display_name": "Python 3 (ipykernel)",
   "language": "python",
   "name": "python3"
  },
  "language_info": {
   "codemirror_mode": {
    "name": "ipython",
    "version": 3
   },
   "file_extension": ".py",
   "mimetype": "text/x-python",
   "name": "python",
   "nbconvert_exporter": "python",
   "pygments_lexer": "ipython3",
   "version": "3.12.1"
  }
 },
 "nbformat": 4,
 "nbformat_minor": 4
}
