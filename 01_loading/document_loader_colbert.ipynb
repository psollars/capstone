{
 "cells": [
  {
   "cell_type": "code",
   "execution_count": 1,
   "id": "6182a442-8f6e-402c-97cf-95994715a63b",
   "metadata": {},
   "outputs": [],
   "source": [
    "from ragatouille import RAGPretrainedModel\n",
    "from datetime import datetime\n",
    "import pickle\n",
    "import re\n",
    "from typing import List, Tuple\n",
    "import json\n",
    "import textwrap\n",
    "import logging"
   ]
  },
  {
   "cell_type": "code",
   "execution_count": 10,
   "id": "6e54baef-efd1-4560-a6a6-54254442cdac",
   "metadata": {},
   "outputs": [],
   "source": [
    "persist_directory = \"../embeddings\"\n",
    "colbert_path = \"../colbertv2.0/\"\n",
    "index_root = \"../colbert_index/\""
   ]
  },
  {
   "cell_type": "code",
   "execution_count": 3,
   "id": "d87e71ee-35ec-495d-94fe-1ee5cde3b528",
   "metadata": {},
   "outputs": [],
   "source": [
    "# Load in previously processed documents - syllabi and advising\n",
    "with open(f\"{persist_directory}/documents.pickle\", \"rb\") as handle:\n",
    "    documents = pickle.load(handle)"
   ]
  },
  {
   "cell_type": "code",
   "execution_count": 6,
   "id": "a8fe5369-794a-4885-90a8-215512f32019",
   "metadata": {},
   "outputs": [],
   "source": [
    "# Split out documents to separate lists of document text and metadata\n",
    "doc_list = [doc.page_content for doc in documents]\n",
    "metadata_list = [doc.metadata for doc in documents]"
   ]
  },
  {
   "cell_type": "code",
   "execution_count": 11,
   "id": "3a6416a8-9ae7-4f9a-82f3-7db6e39a1aff",
   "metadata": {},
   "outputs": [
    {
     "name": "stdout",
     "output_type": "stream",
     "text": [
      "[Apr 01, 19:58:57] Loading segmented_maxsim_cpp extension (set COLBERT_LOAD_TORCH_EXTENSION_VERBOSE=True for more info)...\n"
     ]
    },
    {
     "name": "stderr",
     "output_type": "stream",
     "text": [
      "/Users/arnewman/miniconda3/envs/rag/lib/python3.12/site-packages/torch/cuda/amp/grad_scaler.py:126: UserWarning: torch.cuda.amp.GradScaler is enabled, but CUDA is not available.  Disabling.\n",
      "  warnings.warn(\n"
     ]
    }
   ],
   "source": [
    "# Create new model from downloaded base model available on Hugging Face (https://huggingface.co/colbert-ir/colbertv2.0)\n",
    "# This does _not_ recognize the Apple Silicon GPU at this time\n",
    "RAG = RAGPretrainedModel.from_pretrained(colbert_path, index_root = index_root)"
   ]
  },
  {
   "cell_type": "code",
   "execution_count": 17,
   "id": "8b165f18-cd8b-495e-8d6a-225a4a45c732",
   "metadata": {},
   "outputs": [
    {
     "name": "stdout",
     "output_type": "stream",
     "text": [
      "New index_name received! Updating current index_name (documents) to documents\n",
      "---- WARNING! You are using PLAID with an experimental replacement for FAISS for greater compatibility ----\n",
      "This is a behaviour change from RAGatouille 0.8.0 onwards.\n",
      "This works fine for most users and smallish datasets, but can be considerably slower than FAISS and could cause worse results in some situations.\n",
      "If you're confident with FAISS working on your machine, pass use_faiss=True to revert to the FAISS-using behaviour.\n",
      "--------------------\n",
      "\n",
      "\n",
      "[Apr 01, 20:06:17] #> Note: Output directory ../colbert_index/colbert/indexes/documents already exists\n",
      "\n",
      "\n",
      "[Apr 01, 20:06:18] [0] \t\t #> Encoding 835 passages..\n"
     ]
    },
    {
     "name": "stderr",
     "output_type": "stream",
     "text": [
      "100%|███████████████████████████████████████████| 27/27 [02:07<00:00,  4.71s/it]"
     ]
    },
    {
     "name": "stdout",
     "output_type": "stream",
     "text": [
      "[Apr 01, 20:08:26] [0] \t\t avg_doclen_est = 103.75569152832031 \t len(local_sample) = 835\n"
     ]
    },
    {
     "name": "stderr",
     "output_type": "stream",
     "text": [
      "\n"
     ]
    },
    {
     "name": "stdout",
     "output_type": "stream",
     "text": [
      "[Apr 01, 20:08:35] [0] \t\t Creating 4,096 partitions.\n",
      "[Apr 01, 20:08:35] [0] \t\t *Estimated* 86,636 embeddings.\n",
      "[Apr 01, 20:08:35] [0] \t\t #> Saving the indexing plan to ../colbert_index/colbert/indexes/documents/plan.json ..\n",
      "used 20 iterations (12.8253s) to cluster 82305 items into 4096 clusters\n",
      "[0.031, 0.03, 0.029, 0.026, 0.027, 0.029, 0.029, 0.027, 0.028, 0.027, 0.028, 0.029, 0.03, 0.028, 0.029, 0.03, 0.026, 0.028, 0.026, 0.029, 0.028, 0.03, 0.029, 0.029, 0.028, 0.028, 0.032, 0.029, 0.029, 0.031, 0.032, 0.032, 0.032, 0.028, 0.027, 0.026, 0.03, 0.029, 0.028, 0.034, 0.03, 0.03, 0.028, 0.029, 0.03, 0.028, 0.028, 0.032, 0.031, 0.026, 0.026, 0.028, 0.031, 0.029, 0.028, 0.03, 0.031, 0.03, 0.034, 0.028, 0.029, 0.03, 0.03, 0.029, 0.033, 0.031, 0.03, 0.029, 0.029, 0.029, 0.03, 0.027, 0.03, 0.03, 0.029, 0.029, 0.03, 0.029, 0.03, 0.033, 0.032, 0.03, 0.029, 0.031, 0.029, 0.029, 0.028, 0.029, 0.028, 0.033, 0.029, 0.03, 0.029, 0.032, 0.029, 0.028, 0.033, 0.027, 0.03, 0.029, 0.03, 0.03, 0.028, 0.029, 0.029, 0.026, 0.028, 0.028, 0.027, 0.027, 0.03, 0.03, 0.03, 0.027, 0.031, 0.027, 0.032, 0.03, 0.03, 0.031, 0.029, 0.03, 0.028, 0.031, 0.028, 0.031, 0.029, 0.027]\n"
     ]
    },
    {
     "name": "stderr",
     "output_type": "stream",
     "text": [
      "0it [00:00, ?it/s]"
     ]
    },
    {
     "name": "stdout",
     "output_type": "stream",
     "text": [
      "[Apr 01, 20:08:48] [0] \t\t #> Encoding 835 passages..\n"
     ]
    },
    {
     "name": "stderr",
     "output_type": "stream",
     "text": [
      "\n",
      "  0%|                                                    | 0/27 [00:00<?, ?it/s]\u001b[A\n",
      "  4%|█▋                                          | 1/27 [00:04<02:04,  4.80s/it]\u001b[A\n",
      "  7%|███▎                                        | 2/27 [00:09<02:00,  4.81s/it]\u001b[A\n",
      " 11%|████▉                                       | 3/27 [00:14<01:55,  4.82s/it]\u001b[A\n",
      " 15%|██████▌                                     | 4/27 [00:19<01:50,  4.83s/it]\u001b[A\n",
      " 19%|████████▏                                   | 5/27 [00:24<01:46,  4.83s/it]\u001b[A\n",
      " 22%|█████████▊                                  | 6/27 [00:28<01:41,  4.83s/it]\u001b[A\n",
      " 26%|███████████▍                                | 7/27 [00:33<01:36,  4.84s/it]\u001b[A\n",
      " 30%|█████████████                               | 8/27 [00:38<01:32,  4.85s/it]\u001b[A\n",
      " 33%|██████████████▋                             | 9/27 [00:43<01:27,  4.86s/it]\u001b[A\n",
      " 37%|███████████████▉                           | 10/27 [00:48<01:22,  4.85s/it]\u001b[A\n",
      " 41%|█████████████████▌                         | 11/27 [00:53<01:17,  4.84s/it]\u001b[A\n",
      " 44%|███████████████████                        | 12/27 [00:58<01:12,  4.84s/it]\u001b[A\n",
      " 48%|████████████████████▋                      | 13/27 [01:02<01:07,  4.84s/it]\u001b[A\n",
      " 52%|██████████████████████▎                    | 14/27 [01:07<01:02,  4.84s/it]\u001b[A\n",
      " 56%|███████████████████████▉                   | 15/27 [01:12<00:58,  4.84s/it]\u001b[A\n",
      " 59%|█████████████████████████▍                 | 16/27 [01:17<00:53,  4.84s/it]\u001b[A\n",
      " 63%|███████████████████████████                | 17/27 [01:22<00:48,  4.85s/it]\u001b[A\n",
      " 67%|████████████████████████████▋              | 18/27 [01:27<00:43,  4.86s/it]\u001b[A\n",
      " 70%|██████████████████████████████▎            | 19/27 [01:32<00:38,  4.87s/it]\u001b[A\n",
      " 74%|███████████████████████████████▊           | 20/27 [01:36<00:34,  4.87s/it]\u001b[A\n",
      " 78%|█████████████████████████████████▍         | 21/27 [01:41<00:29,  4.88s/it]\u001b[A\n",
      " 81%|███████████████████████████████████        | 22/27 [01:46<00:24,  4.89s/it]\u001b[A\n",
      " 85%|████████████████████████████████████▋      | 23/27 [01:51<00:19,  4.92s/it]\u001b[A\n",
      " 89%|██████████████████████████████████████▏    | 24/27 [01:56<00:14,  4.93s/it]\u001b[A\n",
      " 93%|███████████████████████████████████████▊   | 25/27 [02:01<00:09,  4.95s/it]\u001b[A\n",
      " 96%|█████████████████████████████████████████▍ | 26/27 [02:06<00:04,  4.96s/it]\u001b[A\n",
      "100%|███████████████████████████████████████████| 27/27 [02:07<00:00,  4.71s/it]\u001b[A\n",
      "1it [02:11, 131.18s/it]\n",
      "100%|████████████████████████████████████████████| 1/1 [00:00<00:00, 878.02it/s]"
     ]
    },
    {
     "name": "stdout",
     "output_type": "stream",
     "text": [
      "[Apr 01, 20:11:01] #> Optimizing IVF to store map from centroids to list of pids..\n",
      "[Apr 01, 20:11:01] #> Building the emb2pid mapping..\n",
      "[Apr 01, 20:11:01] len(emb2pid) = 86636\n"
     ]
    },
    {
     "name": "stderr",
     "output_type": "stream",
     "text": [
      "\n",
      "100%|███████████████████████████████████| 4096/4096 [00:00<00:00, 175295.84it/s]"
     ]
    },
    {
     "name": "stdout",
     "output_type": "stream",
     "text": [
      "[Apr 01, 20:11:01] #> Saved optimized IVF to ../colbert_index/colbert/indexes/documents/ivf.pid.pt\n"
     ]
    },
    {
     "name": "stderr",
     "output_type": "stream",
     "text": [
      "\n"
     ]
    },
    {
     "name": "stdout",
     "output_type": "stream",
     "text": [
      "Done indexing!\n"
     ]
    },
    {
     "data": {
      "text/plain": [
       "'../colbert_index/colbert/indexes/documents'"
      ]
     },
     "execution_count": 17,
     "metadata": {},
     "output_type": "execute_result"
    }
   ],
   "source": [
    "# Create a new index. Documents as they stand are too long, even though they have been chunked.\n",
    "# According to the documentation, 512 is about the maximum useful length, so the documents are split agian.\n",
    "RAG.index(\n",
    "    collection = doc_list,\n",
    "    document_metadatas = metadata_list,\n",
    "    index_name = \"documents\",\n",
    "    max_document_length = 512,\n",
    "    split_documents = True\n",
    ")"
   ]
  },
  {
   "cell_type": "code",
   "execution_count": 20,
   "id": "8842e126-efd9-41a0-b7c5-9314f09db3f9",
   "metadata": {},
   "outputs": [],
   "source": [
    "# This takes 30+ seconds to start up the first time, but runs faster after that\n",
    "results = RAG.search(query=\"Which class involves time series analysis?\")"
   ]
  },
  {
   "cell_type": "code",
   "execution_count": 21,
   "id": "d09d04c0-7def-4e27-832f-5b58ffd7a2b8",
   "metadata": {},
   "outputs": [
    {
     "data": {
      "text/plain": [
       "[{'content': 'Data Mining II (SIADS 632), Syllabus SIADS 632: Data Mining II Course Overview And Prerequisites: This course extends Data Mining I and introduces additional data representations and tasks involved in mining real world data, with a particular focus on sequence modeling, time series analysis, and mining data streams. It introduces how to extract patterns, compute similarities/distances of data, and make predictions under these data representations.',\n",
       "  'score': 19.4854679107666,\n",
       "  'rank': 1,\n",
       "  'document_id': '005fdc07-33d9-4387-9d72-6e60119997d8',\n",
       "  'passage_id': 237,\n",
       "  'document_metadata': {'source': '632_2022-10.md',\n",
       "   'heading': 'Syllabus SIADS 632: Data Mining II Course Overview And Prerequisites',\n",
       "   'section': '1',\n",
       "   'course_number': 'SIADS 632',\n",
       "   'course_title': 'Data Mining II',\n",
       "   'course_date': 'October 2022',\n",
       "   'document': 'https://www.si.umich.edu/sites/default/files/632%20_0.pdf'}},\n",
       " {'content': 'Data Mining II (SIADS 632), Learning Outcomes: - Be able to formulate real world data as sequences, time series, or data streams.\\n- Be able to formulate a real world problem as sequence prediction and solve it using N-Gram language models.\\n- Be aware of how Hidden Markov Models work.\\n- Extract patterns from time series data, including trends, seasons, cycles, and outliers.\\n- Measure similarity between time series.\\n- Conduct time series forecasting using autoregressions.\\n- Articulate the restriction of data streams and strategies for mining data streams.\\n- Implement Reservoir sampling, Bloom filter, and lossy counting.\\n- Name real world applications of these data representations and methods.',\n",
       "  'score': 16.00641632080078,\n",
       "  'rank': 2,\n",
       "  'document_id': '22f292d6-2c79-4e6f-b63a-0a9af07a6222',\n",
       "  'passage_id': 242,\n",
       "  'document_metadata': {'source': '632_2022-10.md',\n",
       "   'heading': 'Learning Outcomes',\n",
       "   'section': '6',\n",
       "   'course_number': 'SIADS 632',\n",
       "   'course_title': 'Data Mining II',\n",
       "   'course_date': 'October 2022',\n",
       "   'document': 'https://www.si.umich.edu/sites/default/files/632%20_0.pdf'}},\n",
       " {'content': 'Data Science for Social Good (SIADS 688), Learning Outcomes: - Recognize the class of mechanisms that would be appropriate to nudge pro-social behavior, such as social comparison, goal setting, leader boards, and team competition;\\n- Evaluate the impact of such mechanisms either through a field experiment (RCT) or other exogenous policy changes; and - Know when to and when not to apply a specific causal inference technique, such as instrumental variables, regression discontinuity design, and difference-in-differences analysis Weekly Office Hours via Zoom (Ann Arbor, Michigan time): Your instructor will hold weekly, synchronous office hours using the video-conferencing tool, Zoom. The schedule of office hours can be found by clicking on the Live Events link in the left-hand navigation menu. The recordings can be found at the end of the corresponding week. Passcode is 688.',\n",
       "  'score': 14.875853538513184,\n",
       "  'rank': 3,\n",
       "  'document_id': '6738f7dd-702d-40bf-90f4-2d98a9aad534',\n",
       "  'passage_id': 174,\n",
       "  'document_metadata': {'source': '688_2023-08.md',\n",
       "   'heading': 'Learning Outcomes',\n",
       "   'section': '9',\n",
       "   'course_number': 'SIADS 688',\n",
       "   'course_title': 'Data Science for Social Good',\n",
       "   'course_date': 'August 2023',\n",
       "   'document': 'https://www.si.umich.edu/sites/default/files/688%20_0.pdf'}},\n",
       " {'content': 'Causal Inference (SIADS 630), Course Schedule: This course begins on Tuesday, September 26, 2023, and ends on Monday, October 23, 2023 . Weekly Concept Quizzes and Data Analysis Assignments will be due on Mondays at 11:59 pm (time zone = Ann Arbor, Michigan = Eastern Time).',\n",
       "  'score': 14.871713638305664,\n",
       "  'rank': 4,\n",
       "  'document_id': 'f227e31d-4ba2-453f-a3c3-ef45773c375e',\n",
       "  'passage_id': 325,\n",
       "  'document_metadata': {'source': '630_2023-10.md',\n",
       "   'heading': 'Course Schedule',\n",
       "   'section': '9',\n",
       "   'course_number': 'SIADS 630',\n",
       "   'course_title': 'Causal Inference',\n",
       "   'course_date': 'October 2023',\n",
       "   'document': 'https://www.si.umich.edu/sites/default/files/630%20_0.pdf'}},\n",
       " {'content': 'Network Analysis (SIADS 652), Course Schedule: - This course begins on August 29 and ends on September 25.\\n- Weekly assignments and quizzes will be due on Wednesdays at 11:59 pm (Ann Arbor, Michigan time-Eastern Daylight Time - EST, UTC -5). Assignments and quizzes will be due on 9/6, 9/13, 9/20, 9/27. Note that the last deadline is after the official end of the course. If you prefer, you are welcome to submit your work earlier.',\n",
       "  'score': 14.824434280395508,\n",
       "  'rank': 5,\n",
       "  'document_id': '3a77af3f-b342-4bbf-984f-278d7d5d9288',\n",
       "  'passage_id': 602,\n",
       "  'document_metadata': {'source': '652_2023-09.md',\n",
       "   'heading': 'Course Schedule',\n",
       "   'section': '7',\n",
       "   'course_number': 'SIADS 652',\n",
       "   'course_title': 'Network Analysis',\n",
       "   'course_date': 'September 2023',\n",
       "   'document': 'https://www.si.umich.edu/sites/default/files/652%20_0.pdf'}},\n",
       " {'content': \"Network Analysis (SIADS 652), Course Communication Expectations: We will use Slack for most communication related to the class. We will monitor the channel and try to answer your questions as promptly as possible. This should not happen, but if we do not answer your question within 24 hours (not including weekends and holidays, of course), feel free to contact us again. We also encourage you to answer each other's questions and use this platform for discussion related to the class. While we will try our best to monitor and clarify or remove wrong or misleading responses, we cannot guarantee that all statements made by students are correct. Please remember to be civil and treat everyone with kindness and respect. If you prefer not to use Slack, please feel free to email anyone in the instructional team with comments or questions.\",\n",
       "  'score': 14.634283065795898,\n",
       "  'rank': 6,\n",
       "  'document_id': 'afcf2cb1-78f9-4cf6-b728-431aaebed50a',\n",
       "  'passage_id': 597,\n",
       "  'document_metadata': {'source': '652_2023-09.md',\n",
       "   'heading': 'Course Communication Expectations',\n",
       "   'section': '3',\n",
       "   'course_number': 'SIADS 652',\n",
       "   'course_title': 'Network Analysis',\n",
       "   'course_date': 'September 2023',\n",
       "   'document': 'https://www.si.umich.edu/sites/default/files/652%20_0.pdf'}},\n",
       " {'content': 'Data Manipulation (SIADS 505), Course Syllabus Course Overview And Prerequisites: This course will introduce data manipulation and cleaning techniques using the popular python pandas data science library and introduce the abstraction of the Series and DataFrame as the central data structures for data analysis, along with an understanding of how to use functions such as groupby, merge, and pivot tables effectively. By the end of this course, students will be able to take tabular data, clean it, manipulate it, and run basic inferential statistical analyses. There are no course prerequisites.',\n",
       "  'score': 14.552517890930176,\n",
       "  'rank': 7,\n",
       "  'document_id': 'f83e4cd1-9282-4d78-941b-b8e8c721f71b',\n",
       "  'passage_id': 369,\n",
       "  'document_metadata': {'source': '505_2023-09.md',\n",
       "   'heading': 'Course Syllabus Course Overview And Prerequisites',\n",
       "   'section': '1',\n",
       "   'course_number': 'SIADS 505',\n",
       "   'course_title': 'Data Manipulation',\n",
       "   'course_date': 'September 2023',\n",
       "   'document': 'https://www.si.umich.edu/sites/default/files/505%20_1.pdf'}},\n",
       " {'content': 'Network Analysis (SIADS 652), Assignment And Quizzes: Assignments consist of a combination of programming and reflection questions. The goal of the assignments is to apply the theory covered in the lecture and readings and the programming covered in the NetworkX tutorials to analyze both real and synthetic networks. Assignments will be partly auto-graded and partly manually graded. Please refer to the document _Assignment Points Distribution_ on Coursera for the point distribution of all assignments. Quizzes consist of multiple-choice and numerical question. You will have 2 attempts to answer each question and you will be told which ones you answered correctly and incorrectly after each attempt. The goal of the quizzes is to assess your understanding of network theory. While you may choose to use NetworkX to answer some of the questions, this should not be necessary for most quiz questions.\\n\\nWeekly Office Hours via Zoom (Ann Arbor, Michigan time):\\nYour instructor will hold weekly, synchronous office hours using the video-conferencing tool, Zoom. The schedule of office hours can be found by clicking on the Live Events link in the left-hand navigation menu. Additionally, all office hours will be recorded and archived so that you can retrieve them later. Archived office hours can be found by clicking on the Resources link in the left- hand navigation menu then clicking the Archived Sessions link.',\n",
       "  'score': 14.50267219543457,\n",
       "  'rank': 8,\n",
       "  'document_id': '958239f4-73b7-4e8f-999b-8c79d99ed618',\n",
       "  'passage_id': 603,\n",
       "  'document_metadata': {'source': '652_2023-09.md',\n",
       "   'heading': 'Assignment And Quizzes',\n",
       "   'section': '8',\n",
       "   'course_number': 'SIADS 652',\n",
       "   'course_title': 'Network Analysis',\n",
       "   'course_date': 'September 2023',\n",
       "   'document': 'https://www.si.umich.edu/sites/default/files/652%20_0.pdf'}},\n",
       " {'content': 'Social Media Analytics (SIADS 682), Programming Lab: There is a lightly graded Programming Lab in this course that will require students to gain access to the an API of a social media platform, which requiring a developer account. The instructions for gaining this access are detail in the Lab.\\n\\nWhy is this Lab about Reddit when the other assignments are about Twitter? Your weekly coding assignments deal with archived Twitter data, and we used to have a Twitter Lab to complement that. But, there have been a lot of changes (and mixed signals) surrounding free access to Twitter developer accounts in recent months. Perhaps Twitter will reverse itself again, but upon recent testing we were no longer able to access a free tier that accommodate our needs, so we looked for an alternative. This Lab as an alternative way to give you some \"real world\" experience accessing data from a different social media platform, Reddit.\\n\\nImportant: Gaining access to a developer account in Reddit can take minutes to days -- if you plan to do the assignment in this class, please request this as early as possible to ensure you have appropriate time to complete your assignment.',\n",
       "  'score': 14.418055534362793,\n",
       "  'rank': 9,\n",
       "  'document_id': '3cb81842-ae00-4287-8c79-94e5ec9d18e9',\n",
       "  'passage_id': 652,\n",
       "  'document_metadata': {'source': '682_2023-11.md',\n",
       "   'heading': 'Programming Lab',\n",
       "   'section': '12',\n",
       "   'course_number': 'SIADS 682',\n",
       "   'course_title': 'Social Media Analytics',\n",
       "   'course_date': 'November 2023',\n",
       "   'document': 'https://www.si.umich.edu/sites/default/files/682%20_0.pdf'}},\n",
       " {'content': 'Experiment Design and Analysis (SIADS 631), Course Schedule: This course begins on Tuesday, October 24, 2023 and ends on Monday, November 20, 2023 .\\n\\nWeekly MobLab Activities will be due on Mondays at 11:59 pm (time zone = Ann Arbor, Michigan - Eastern Time).\\n\\nWeekly Quizzes and Programming Assignments will be due on Mondays at 11:59 pm (time zone = Ann Arbor, Michigan - Eastern Time). You can submit your office hours questions here in this form. Schedule of Weekly Office Hours via Zoom (time zone = Ann Arbor, Michigan - Eastern Time):\\n\\n- Alain Cohn: Friday 4:00 pm - 5:00 PM\\n- Mohamed Abbadi: Saturday 9:00 - 10:00 AM\\n- Hanna Hoover: Monday 8:00 - 9:00 PM',\n",
       "  'score': 14.417159080505371,\n",
       "  'rank': 10,\n",
       "  'document_id': '484d7825-cd8e-4f9b-a2d5-25f1781d58e4',\n",
       "  'passage_id': 538,\n",
       "  'document_metadata': {'source': '631_2023-11.md',\n",
       "   'heading': 'Course Schedule',\n",
       "   'section': '8',\n",
       "   'course_number': 'SIADS 631',\n",
       "   'course_title': 'Experiment Design and Analysis',\n",
       "   'course_date': 'November 2023',\n",
       "   'document': 'https://www.si.umich.edu/sites/default/files/631%20_0.pdf'}}]"
      ]
     },
     "execution_count": 21,
     "metadata": {},
     "output_type": "execute_result"
    }
   ],
   "source": [
    "results"
   ]
  },
  {
   "cell_type": "code",
   "execution_count": 22,
   "id": "b92c09b6-78fd-4a33-b5f7-c21a09ae8c92",
   "metadata": {},
   "outputs": [],
   "source": [
    "# Ragatouille let's you create a LangChain retriever from the indexed model\n",
    "retriever = RAG.as_langchain_retriever(k=5)"
   ]
  },
  {
   "cell_type": "code",
   "execution_count": 23,
   "id": "9e23487c-d41e-405d-b067-3740840b7d74",
   "metadata": {},
   "outputs": [
    {
     "name": "stderr",
     "output_type": "stream",
     "text": [
      "/Users/arnewman/miniconda3/envs/rag/lib/python3.12/site-packages/torch/amp/autocast_mode.py:250: UserWarning: User provided device_type of 'cuda', but CUDA is not available. Disabling\n",
      "  warnings.warn(\n"
     ]
    },
    {
     "data": {
      "text/plain": [
       "[Document(page_content='Class Registration > Q: What is a Backpack?: A: The Backpack is a feature available on [Wolverine Access](https://wolverineaccess.umich.edu/) that works much like the \"shopping carts\" you have seen on many retail websites. With the Backpack you can prepare for your upcoming registration appointment by filling it with classes you want to take. When it is time to register, you will select one or more classes from your Backpack to register for it. NOTE: Placing a class in your Backpack does not enroll you in that class. You must register for a class to become enrolled in it. It is important to note that receiving an override does not enroll you in the course, you still must register through [Wolverine Access](https://wolverineaccess.umich.edu/) to claim the seat that has been opened for you.', metadata={'source': 'advising_guide.md', 'heading': 'Class Registration > Q: What is a Backpack?', 'section': '21', 'course_number': 'n/a', 'course_title': 'n/a', 'course_date': 'n/a', 'document': 'https://docs.google.com/document/d/1A3zdTF0AYQY_zzD2-OlpSHeDxnWqFVEhXl446SyT_pA/edit'}),\n",
       " Document(page_content=\"Qualitative Inquiry for Data Scientists (SIADS 601), Accommodations Refer To The Accommodations For Students With Disabilities Section Of The Umsi Student Handbook (Access To The Student Orientation Course Required).: Use the Student Application Form in Accommodate to begin the process of working with the University's Office of Services for Students with Disabilities.\", metadata={'source': '601_2023-10.md', 'heading': 'Accommodations Refer To The Accommodations For Students With Disabilities Section Of The Umsi Student Handbook (Access To The Student Orientation Course Required).', 'section': '13', 'course_number': 'SIADS 601', 'course_title': 'Qualitative Inquiry for Data Scientists', 'course_date': 'October 2023', 'document': 'https://www.si.umich.edu/sites/default/files/601%20_0.pdf'}),\n",
       " Document(page_content='Class Registration > Q: What do I need to do to drop all of my courses for the Session?: 1. If you log on to [Wolverine Access](https://wolverineaccess.umich.edu/) and click on the Student Business>Student Center> Backpack/Registration>, then you will see a ‘drop’ tab at the top of the screen. Click on the box next to the course name and click \\'drop selected classes\\'. Click on the box next to the course name and click \\'drop selected classes\\'.\\n2. After the drop/add deadline, you may request a late drop in Wolverine Access. A \"W\" (indicating withdrawal) is posted for courses dropped after the drop/add deadline, regardless of the reason for the drop. The deadline to submit your request for a late drop (withdrawal) is 11:59 PM ET on the last day of classes for the current session you are enrolled in.', metadata={'source': 'advising_guide.md', 'heading': 'Class Registration > Q: What do I need to do to drop all of my courses for the Session?', 'section': '28', 'course_number': 'n/a', 'course_title': 'n/a', 'course_date': 'n/a', 'document': 'https://docs.google.com/document/d/1A3zdTF0AYQY_zzD2-OlpSHeDxnWqFVEhXl446SyT_pA/edit'}),\n",
       " Document(page_content=\"Learning Analytics and Educational Data Science (SIADS 680), Accommodations: Refer to the Accommodations for Students with Disabilities section of the UMSI Student Handbook. Use the Student Application Form in Accommodate to begin the process of working with the University's Office of Services for Students with Disabilities.\", metadata={'source': '680_2023-10.md', 'heading': 'Accommodations', 'section': '12', 'course_number': 'SIADS 680', 'course_title': 'Learning Analytics and Educational Data Science', 'course_date': 'October 2023', 'document': 'https://www.si.umich.edu/sites/default/files/680%20_0.pdf'}),\n",
       " Document(page_content=\"Class Registration > Q: What do I need to do to drop a course during the add/drop period?: 1. You need to drop the course in [Wolverine Access](https://wolverineaccess.umich.edu/)\\n2. Click on the Student Business>Student Center> Backpack/Registration\\n3. You will see a ‘drop’ tab at the top of the screen. Click on the box next to the course name and click 'drop selected classes'.\\n4. Double check your updated course schedule on Wolverine Access to ensure that it is dropped-- you should see this updated immediately. It could take several days for the course to drop from Coursera and for your tuition to readjust.\\n\\nPlease note that if you run into ANY errors when you go to drop a course, to please email [umsi.registrar@umich.edu](mailto:umsi.registrar@umich.edu) immediately to help figure out the situation.\", metadata={'source': 'advising_guide.md', 'heading': 'Class Registration > Q: What do I need to do to drop a course during the add/drop period?', 'section': '22', 'course_number': 'n/a', 'course_title': 'n/a', 'course_date': 'n/a', 'document': 'https://docs.google.com/document/d/1A3zdTF0AYQY_zzD2-OlpSHeDxnWqFVEhXl446SyT_pA/edit'})]"
      ]
     },
     "execution_count": 23,
     "metadata": {},
     "output_type": "execute_result"
    }
   ],
   "source": [
    "retriever.invoke(\"What is a backpack?\")"
   ]
  },
  {
   "cell_type": "code",
   "execution_count": 24,
   "id": "ecdf100f-bec6-4d20-a948-ab99a8548e7f",
   "metadata": {},
   "outputs": [],
   "source": [
    "# Next step is to add this to the RAG pipeline and check its performance"
   ]
  },
  {
   "cell_type": "code",
   "execution_count": null,
   "id": "7cca3988-f590-4950-9f02-3368fccc9324",
   "metadata": {},
   "outputs": [],
   "source": []
  }
 ],
 "metadata": {
  "kernelspec": {
   "display_name": "Python 3 (ipykernel)",
   "language": "python",
   "name": "python3"
  },
  "language_info": {
   "codemirror_mode": {
    "name": "ipython",
    "version": 3
   },
   "file_extension": ".py",
   "mimetype": "text/x-python",
   "name": "python",
   "nbconvert_exporter": "python",
   "pygments_lexer": "ipython3",
   "version": "3.12.1"
  }
 },
 "nbformat": 4,
 "nbformat_minor": 5
}
