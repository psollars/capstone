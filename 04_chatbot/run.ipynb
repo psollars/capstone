{
  "cells": [
    {
      "cell_type": "code",
      "execution_count": 1,
      "metadata": {
        "id": "6UpvY42BAXo0"
      },
      "outputs": [],
      "source": [
        "from threading import Thread\n",
        "from pyngrok import ngrok"
      ]
    },
    {
      "cell_type": "code",
      "execution_count": 2,
      "metadata": {
        "id": "w5gabCFtAXo3"
      },
      "outputs": [],
      "source": [
        "import sys\n",
        "import os\n",
        "\n",
        "current = os.path.dirname(os.path.realpath(\".\"))\n",
        "parent = os.path.dirname(current)\n",
        "sys.path.append(parent)\n",
        "\n",
        "from capstone import secrets\n",
        "\n",
        "ngrok.set_auth_token(secrets.NGROK_AUTH_TOKEN)"
      ]
    },
    {
      "cell_type": "code",
      "execution_count": 3,
      "metadata": {
        "id": "BaxUURZQAXo3"
      },
      "outputs": [],
      "source": [
        "def run_streamlit():\n",
        "    # Change the port if 8501 is already in use or if you prefer another port\n",
        "    os.system(\"streamlit run ./app.py --server.port 8501\")"
      ]
    },
    {
      "cell_type": "code",
      "execution_count": 4,
      "metadata": {
        "id": "95Vox16AAXo4"
      },
      "outputs": [
        {
          "name": "stdout",
          "output_type": "stream",
          "text": [
            "\n",
            "      👋 Welcome to Streamlit!\n",
            "\n",
            "      If you’d like to receive helpful onboarding emails, news, offers, promotions,\n",
            "      and the occasional swag, please enter your email address below. Otherwise,\n",
            "      leave this field blank.\n",
            "\n",
            "      Email:  "
          ]
        }
      ],
      "source": [
        "# Start a thread to run the Streamlit app\n",
        "thread = Thread(target=run_streamlit)\n",
        "thread.start()"
      ]
    },
    {
      "cell_type": "code",
      "execution_count": 5,
      "metadata": {
        "colab": {
          "base_uri": "https://localhost:8080/"
        },
        "id": "nSs_eyG9AXo4",
        "outputId": "65bccd09-2ff2-42e7-80ca-7c5c8fb8527d"
      },
      "outputs": [
        {
          "name": "stdout",
          "output_type": "stream",
          "text": [
            "Your Streamlit app is live at: NgrokTunnel: \"https://69b8-98-228-137-207.ngrok-free.app\" -> \"http://localhost:8501\"\n"
          ]
        }
      ],
      "source": [
        "# Open a tunnel to the streamlit port 8501\n",
        "public_url = ngrok.connect(addr=\"8501\", proto=\"http\", bind_tls=True)\n",
        "print(\"Your Streamlit app is live at:\", public_url)"
      ]
    },
    {
      "cell_type": "code",
      "execution_count": null,
      "metadata": {
        "id": "WD27uuWiAXo5"
      },
      "outputs": [],
      "source": [
        "ngrok.kill()"
      ]
    }
  ],
  "metadata": {
    "colab": {
      "provenance": []
    },
    "kernelspec": {
      "display_name": "Python 3",
      "language": "python",
      "name": "python3"
    },
    "language_info": {
      "codemirror_mode": {
        "name": "ipython",
        "version": 3
      },
      "file_extension": ".py",
      "mimetype": "text/x-python",
      "name": "python",
      "nbconvert_exporter": "python",
      "pygments_lexer": "ipython3",
      "version": "3.11.3"
    }
  },
  "nbformat": 4,
  "nbformat_minor": 0
}
