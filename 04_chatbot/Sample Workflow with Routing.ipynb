{
 "cells": [
  {
   "cell_type": "code",
   "execution_count": 1,
   "id": "af5d50fa-aff8-4da5-a04f-ccf1741f2e14",
   "metadata": {},
   "outputs": [],
   "source": [
    "from langchain.callbacks.manager import CallbackManager\n",
    "from langchain.callbacks.streaming_stdout import StreamingStdOutCallbackHandler\n",
    "from langchain.chains import (\n",
    "    RetrievalQA,\n",
    "    ConversationalRetrievalChain,\n",
    "    RetrievalQAWithSourcesChain,\n",
    ")\n",
    "from langchain.memory import ConversationBufferMemory\n",
    "from langchain_openai.llms import OpenAI\n",
    "from langchain.retrievers import EnsembleRetriever\n",
    "from langchain_core.prompts import PromptTemplate\n",
    "\n",
    "import pandas as pd\n",
    "from ragatouille import RAGPretrainedModel\n",
    "from semantic_router import Route, RouteLayer\n",
    "from semantic_router.encoders import HuggingFaceEncoder\n",
    "\n",
    "import gradio as gr\n",
    "from json2html import Json2Html"
   ]
  },
  {
   "cell_type": "code",
   "execution_count": 2,
   "id": "abca920e-4920-46df-8a0f-9314293dfe6b",
   "metadata": {},
   "outputs": [],
   "source": [
    "# Setting some helper variables\n",
    "\n",
    "retrieval_strategy = \"colbert\"\n",
    "model = \"mistral-7b-instruct-v0.2\"\n",
    "\n",
    "rootdir = \"..\"\n",
    "persist_directory = \"./../embeddings\"\n",
    "index_root = rootdir + \"/../colbert_index/\"\n",
    "colbert_path = rootdir + \"/../colbertv2.0/\"\n",
    "index_path = rootdir + \"/../colbert_index/colbert/indexes/documents/\"\n",
    "transcript_path = rootdir + \"/../colbert_index/colbert/indexes/transcripts/\""
   ]
  },
  {
   "cell_type": "code",
   "execution_count": 3,
   "id": "6762a64b-75b6-4d0d-a58b-2772ab803e3e",
   "metadata": {},
   "outputs": [
    {
     "name": "stdout",
     "output_type": "stream",
     "text": [
      "[Apr 08, 18:30:22] Loading segmented_maxsim_cpp extension (set COLBERT_LOAD_TORCH_EXTENSION_VERBOSE=True for more info)...\n"
     ]
    },
    {
     "name": "stderr",
     "output_type": "stream",
     "text": [
      "/Users/arnewman/miniconda3/envs/rag/lib/python3.12/site-packages/torch/cuda/amp/grad_scaler.py:126: UserWarning: torch.cuda.amp.GradScaler is enabled, but CUDA is not available.  Disabling.\n",
      "  warnings.warn(\n"
     ]
    }
   ],
   "source": [
    "# Start Colbert models for documents and transcripts\n",
    "RAG1 = RAGPretrainedModel.from_index(index_path = index_path)\n",
    "RAG2 = RAGPretrainedModel.from_index(index_path = transcript_path)\n",
    "\n",
    "# Get metadata for both models and convert to DataFrame\n",
    "df_rag1 = pd.read_json(index_path+'docid_metadata_map.json').T.reset_index()\n",
    "df_rag2 = pd.read_json(transcript_path+'docid_metadata_map.json').T.reset_index()\n",
    "\n",
    "# Helper to identify relevant documents for retrievers\n",
    "def filter_pids(df, search_term):\n",
    "    return list(df['index'][df.course_number==search_term])"
   ]
  },
  {
   "cell_type": "code",
   "execution_count": 4,
   "id": "95c81e82-cc39-4dd6-9ccc-c484faf755c8",
   "metadata": {},
   "outputs": [],
   "source": [
    "courses = {\n",
    "    \"501\": \"Being a Data Scientist\",\n",
    "    \"502\": \"Math Methods I\",\n",
    "    \"503\": \"Data Science Ethics\",\n",
    "    \"505\": \"Data Manipulation\",\n",
    "    \"511\": \"SQL and Databases\",\n",
    "    \"515\": \"Efficient Data Processing\",\n",
    "    \"516\": \"Big Data: Scalable Data Processing\",\n",
    "    \"521\": \"Visual Exploration of Data\",\n",
    "    \"522\": \"Information Visualization I\",\n",
    "    \"523\": \"Communicating Data Science Results\",\n",
    "    \"524\": \"Presenting Uncertainty\",\n",
    "    \"532\": \"Data Mining I\",\n",
    "    \"542\": \"Supervised Learning\",\n",
    "    \"543\": \"Unsupervised Learning\",\n",
    "    \"571\": \"Business SQL\",  # No syllabus for this one :(\n",
    "    \"593\": \"Milestone I\",\n",
    "    \"601\": \"Qualitative Inquiry for Data Scientists\",\n",
    "    \"602\": \"Math Methods II\",\n",
    "    \"611\": \"Database Architecture & Technology\",\n",
    "    \"622\": \"Information Visualization II\",\n",
    "    \"630\": \"Causal Inference\",\n",
    "    \"631\": \"Experiment Design and Analysis\",\n",
    "    \"632\": \"Data Mining II\",\n",
    "    \"642\": \"Deep Learning I\",\n",
    "    \"643\": \"Machine Learning Pipelines\",\n",
    "    \"644\": \"Reinforcement Learning Algorithms\",\n",
    "    \"652\": \"Network Analysis\",\n",
    "    \"655\": \"Applied Natural Language Processing\",\n",
    "    \"673\": \"Cloud Computing\",\n",
    "    \"680\": \"Learning Analytics and Educational Data Science\",\n",
    "    \"681\": \"Health Analytics\",\n",
    "    \"682\": \"Social Media Analytics\",\n",
    "    \"685\": \"Search and Recommender Systems\",\n",
    "    \"687\": \"Introduction to Sports Analytics\",\n",
    "    \"688\": \"Data Science for Social Good\",\n",
    "    \"696\": \"Milestone II\",\n",
    "    \"699\": \"Capstone\",\n",
    "}"
   ]
  },
  {
   "cell_type": "code",
   "execution_count": 5,
   "id": "a9972be7-c2b7-428f-a75c-9585e2598bff",
   "metadata": {},
   "outputs": [
    {
     "name": "stderr",
     "output_type": "stream",
     "text": [
      "\u001b[32m2024-04-08 18:30:27 INFO semantic_router.utils.logger local\u001b[0m\n"
     ]
    }
   ],
   "source": [
    "# Build semantic routes for each class\n",
    "routes = []\n",
    "for num, name in zip(courses.keys(), courses.values()):\n",
    "    route_name = \"SIADS \" + str(num)\n",
    "    route_utterances = [route_name.lower(), route_name.lower().replace(\" \",\"\"),\n",
    "                        name.lower(), name.lower() + \" class\", name.lower() + \" course\",\n",
    "                       \"who teaches \" + route_name.lower(), \"who teaches \" + name.lower()]\n",
    "    routes.append(Route(name=route_name, utterances=route_utterances))\n",
    "\n",
    "# Select local encoder and build route layer\n",
    "encoder = HuggingFaceEncoder(str=\"/Users/arnewman/.cache/huggingface/hub/models--sentence-transformers--UAE-Large-V1/\", device=\"mps\")\n",
    "rl = RouteLayer(encoder=encoder, routes=routes)    "
   ]
  },
  {
   "cell_type": "code",
   "execution_count": 6,
   "id": "a2e01927-a956-4a28-b6d0-7a5785658019",
   "metadata": {},
   "outputs": [
    {
     "data": {
      "application/vnd.jupyter.widget-view+json": {
       "model_id": "bcf434ba6fe547d7bbb444f2beff42ae",
       "version_major": 2,
       "version_minor": 0
      },
      "text/plain": [
       "Generating embeddings:   0%|          | 0/1 [00:00<?, ?it/s]"
      ]
     },
     "metadata": {},
     "output_type": "display_data"
    },
    {
     "name": "stdout",
     "output_type": "stream",
     "text": [
      "Original Accuracy: 78.95%\n"
     ]
    },
    {
     "data": {
      "application/vnd.jupyter.widget-view+json": {
       "model_id": "ff2ea6ce900645dab4ee1468027e639e",
       "version_major": 2,
       "version_minor": 0
      },
      "text/plain": [
       "Generating embeddings:   0%|          | 0/1 [00:00<?, ?it/s]"
      ]
     },
     "metadata": {},
     "output_type": "display_data"
    },
    {
     "data": {
      "application/vnd.jupyter.widget-view+json": {
       "model_id": "f6c7eed77c1f423d95503fec2a1d6dd6",
       "version_major": 2,
       "version_minor": 0
      },
      "text/plain": [
       "Training:   0%|          | 0/500 [00:00<?, ?it/s]"
      ]
     },
     "metadata": {},
     "output_type": "display_data"
    },
    {
     "data": {
      "application/vnd.jupyter.widget-view+json": {
       "model_id": "3aafe4a892f94e2981fb24ca75f154bf",
       "version_major": 2,
       "version_minor": 0
      },
      "text/plain": [
       "Generating embeddings:   0%|          | 0/1 [00:00<?, ?it/s]"
      ]
     },
     "metadata": {},
     "output_type": "display_data"
    },
    {
     "name": "stdout",
     "output_type": "stream",
     "text": [
      "Revised Accuracy: 84.21%\n"
     ]
    }
   ],
   "source": [
    "# Use evaluation questions to test accuracy\n",
    "# From: https://github.com/aurelio-labs/semantic-router/blob/main/docs/06-threshold-optimization.ipynb\n",
    "\n",
    "test_data = [\n",
    "    (\"Which class involves time series analysis?\", \"SIADS 632\"),\n",
    "    (\"Who teaches the SQL and Databases class?\", \"SIADS 511\"),\n",
    "    (\"What are the prerequisites for Data Science for Social Good?\", \"SIADS 688\"),\n",
    "    (\"When are the office hours for the Math Methods course?\", \"SIADS 502\"),\n",
    "    (\"Are there any weekly readings for Milestone II?\", \"SIADS 699\"),\n",
    "    (\"What are the outcomes of Qualitative Inquiry?\", \"SIADS 601\"),\n",
    "    (\"What textbook is required for SIADS 505?\", \"SIADS 505\"),\n",
    "    (\"What textbook is required for Data Manipulation?\", \"SIADS 505\"),\n",
    "    (\"Which week of unsupervised learning covers DBSCAN?\", \"SIADS 543\"),\n",
    "    (\"How many credits are required to complete the MADS program?\", None),\n",
    "    (\"How long do students have to complete the MADS program start to finish?\", None),\n",
    "    (\"How many points is the comprehensive oral exam worth in SIADS 593?\", \"SIADS 593\"),\n",
    "    (\"What is the penalty for late submission in SIADS 630?\", \"SIADS 630\"),\n",
    "    (\"How do I get accommodations for a class?\", None),\n",
    "    (\"What is a backpack?\", None),\n",
    "    (\"When is the latest I can drop a course?\", None),\n",
    "    (\"How do I get an override to take a class?\", None),\n",
    "    (\"How do I take a leave of absence from the MADS program?\", None),\n",
    "    (\"What are the prerequisites for Search and Recommender Systems?\", \"SIADS 685\")\n",
    "]\n",
    "\n",
    "# unpack the test data\n",
    "X, y = zip(*test_data)\n",
    "\n",
    "# evaluate using the default thresholds\n",
    "accuracy = rl.evaluate(X=X, y=y)\n",
    "print(f\"Original Accuracy: {accuracy*100:.2f}%\")\n",
    "\n",
    "# Check defaults\n",
    "# route_thresholds = rl.get_thresholds()\n",
    "# print(\"Default route thresholds:\", route_thresholds)\n",
    "\n",
    "# Call the fit method\n",
    "rl.fit(X=X, y=y)\n",
    "\n",
    "# Updated thresholds\n",
    "# route_thresholds = rl.get_thresholds()\n",
    "# print(\"Updated route thresholds:\", route_thresholds)\n",
    "\n",
    "# evaluate using the new thresholds\n",
    "accuracy = rl.evaluate(X=X, y=y)\n",
    "print(f\"Revised Accuracy: {accuracy*100:.2f}%\")"
   ]
  },
  {
   "cell_type": "code",
   "execution_count": 7,
   "id": "9c787d69-574d-489a-9ae8-a8f0e065b8c6",
   "metadata": {},
   "outputs": [],
   "source": [
    "# Load model\n",
    "llm_open = OpenAI(openai_api_base = \"http://localhost:7999/v1\",\n",
    "                  model = \"mistral-7b-instruct-v0.2\",\n",
    "                  openai_api_key = \"hello\",\n",
    "                  temperature = 0.1,\n",
    "                  top_p = 1,\n",
    "                  max_tokens = 1024,\n",
    "                  callback_manager = CallbackManager([StreamingStdOutCallbackHandler()]))\n",
    "\n",
    "memory = ConversationBufferMemory(memory_key = \"chat_history\", return_messages=True,\n",
    "                                  output_key = \"result\")\n",
    "\n",
    "\n",
    "# Set prompt template\n",
    "\n",
    "template = '''\n",
    "Use only the following pieces of context to answer the question at the end. \n",
    "Keep your answers concise and do not provide additional explanations or interpretations. \n",
    "If the answer cannot be deduced from the context, just say that you don't know the answer, don't try to make up an answer.\n",
    "\n",
    "{context}\n",
    "\n",
    "Question: {question}\n",
    "Helpful Answer:\n",
    "'''"
   ]
  },
  {
   "cell_type": "code",
   "execution_count": 24,
   "id": "8e5a99cd-1db9-4353-8efc-cf7e494fbbe5",
   "metadata": {},
   "outputs": [
    {
     "name": "stdout",
     "output_type": "stream",
     "text": [
      "No match\n"
     ]
    }
   ],
   "source": [
    "# Select relevant documents based on query and create retrievers\n",
    "# If relevant documents cannot be identified, build retrievers on all documents\n",
    "# Separate retrievers from the documents index and the transcripts index\n",
    "\n",
    "#query = \"Who teaches SIADS 511?\"\n",
    "#query = \"Does he teach any other courses?\"\n",
    "query = \"Who is Graham Hukill?\"\n",
    "r = rl(query)\n",
    "print(r.name if r.name else \"No match\")\n",
    "\n",
    "if r.name:\n",
    "    doc_list = filter_pids(df_rag1, r.name)\n",
    "    if len(doc_list) > 0:\n",
    "        retriever1 = RAG1.as_langchain_retriever(doc_ids=doc_list)        \n",
    "    trans_list = filter_pids(df_rag2, r.name)\n",
    "    if len(trans_list) > 0:\n",
    "        retriever2 = RAG2.as_langchain_retriever(doc_ids=trans_list)\n",
    "else:\n",
    "    retriever1 = RAG1.as_langchain_retriever() # Could set k if desired\n",
    "    retriever2 = RAG2.as_langchain_retriever()\n",
    "\n",
    "retriever = EnsembleRetriever(retrievers=[retriever1, retriever2], weights=[0.5, 0.5])\n"
   ]
  },
  {
   "cell_type": "code",
   "execution_count": 25,
   "id": "21765aca-43b1-406b-b772-7f84f1be008b",
   "metadata": {},
   "outputs": [],
   "source": [
    "# Define processing chain\n",
    "qa_chain = RetrievalQA.from_chain_type(\n",
    "    llm=llm_open,\n",
    "    chain_type=\"stuff\",\n",
    "    memory=memory,\n",
    "    retriever=retriever,\n",
    "    return_source_documents=True,\n",
    "    verbose=True,\n",
    "    chain_type_kwargs={\n",
    "        \"prompt\": PromptTemplate(\n",
    "            template=template,\n",
    "            input_variables=[\"context\", \"question\"])},\n",
    ")"
   ]
  },
  {
   "cell_type": "code",
   "execution_count": 26,
   "id": "84339208-d2eb-441b-8296-79ffebf3dbab",
   "metadata": {},
   "outputs": [],
   "source": [
    "# Function to display results\n",
    "def process_llm_response(llm_response):\n",
    "    print(f\"\\nQuestion: {llm_response['query']}\")\n",
    "    print(f\"\\nAnswer: {llm_response['result']}\")\n",
    "    print(\"\\n\\nSources:\")\n",
    "    for i, source in enumerate(llm_response[\"source_documents\"]):\n",
    "        m = source.metadata\n",
    "        try:\n",
    "            print(f\"{i + 1}. {m['course_title']} ({m['course_number']}): {m['heading']}\")\n",
    "        except:\n",
    "            print(f\"{i + 1}. {m['course_title']} ({m['course_number']}): {m['source']}\")"
   ]
  },
  {
   "cell_type": "code",
   "execution_count": 27,
   "id": "a4467a7f-13f0-4135-9dfb-d0e87ce8ec73",
   "metadata": {},
   "outputs": [
    {
     "name": "stdout",
     "output_type": "stream",
     "text": [
      "\n",
      "\n",
      "\u001b[1m> Entering new RetrievalQA chain...\u001b[0m\n"
     ]
    },
    {
     "name": "stderr",
     "output_type": "stream",
     "text": [
      "/Users/arnewman/miniconda3/envs/rag/lib/python3.12/site-packages/torch/amp/autocast_mode.py:250: UserWarning: User provided device_type of 'cuda', but CUDA is not available. Disabling\n",
      "  warnings.warn(\n",
      "/Users/arnewman/miniconda3/envs/rag/lib/python3.12/site-packages/torch/amp/autocast_mode.py:250: UserWarning: User provided device_type of 'cuda', but CUDA is not available. Disabling\n",
      "  warnings.warn(\n"
     ]
    },
    {
     "name": "stdout",
     "output_type": "stream",
     "text": [
      "\n",
      "\u001b[1m> Finished chain.\u001b[0m\n",
      "\n",
      "Question: Who is Graham Hukill?\n",
      "\n",
      "Answer: Graham Hukill is an Instructor for Database Architecture & Technology (SIADS 611) and SQL and Databases (SIADS 511) courses at the University of Michigan. He is also listed as an intermittent lecturer in the School of Information.\n",
      "\n",
      "\n",
      "Sources:\n",
      "1. Experiment Design and Analysis (SIADS 631): 01_stats-review-and-statistical-power-part-1.en.txt\n",
      "2. Database Architecture & Technology (SIADS 611): Instructor And Course Assistants\n",
      "3. Visual Exploration of Data (SIADS 521): 06_bonus-interview-with-damian-avila.en.txt\n",
      "4. Data Science for Social Good (SIADS 688): 01_social-identity-for-social-good-theory-part-1.en.txt\n",
      "5. SQL and Databases (SIADS 511): Instructor And Course Assistants\n",
      "6. SQL and Databases (SIADS 511): Office Hours\n",
      "7. Machine Learning Pipelines (SIADS 643): 03_interview-with-kevin-hartman.en.txt\n",
      "8. Database Architecture & Technology (SIADS 611): Course Schedule\n",
      "9. SQL and Databases (SIADS 511): 09_demonstration-generating-and-scanning-text.en.txt\n",
      "10. Being a Data Scientist (SIADS 501): 02_getting-the-data-right-lecture.en.txt\n",
      "11. n/a (n/a): MADS Slack Policy, Standards, and Practices > MADS Slack Practices\n",
      "12. Data Science Ethics (SIADS 503): Communications Expectations\n",
      "13. Data Science Ethics (SIADS 503): 12_guest-speaker-introduction-j-m-porup.en.txt\n",
      "14. Milestone II (SIADS 696): Course Communication Expectations\n",
      "15. Unsupervised Learning (SIADS 543): Course Communication Expectations\n",
      "16. Being a Data Scientist (SIADS 501): Student Mental Health\n",
      "17. Social Media Analytics (SIADS 682): Course Communication Expectations\n"
     ]
    }
   ],
   "source": [
    "llm_response = qa_chain(query)\n",
    "process_llm_response(llm_response)"
   ]
  },
  {
   "cell_type": "code",
   "execution_count": 28,
   "id": "1c0f034b-5e47-4247-adf3-77c43cb94a99",
   "metadata": {},
   "outputs": [
    {
     "data": {
      "text/plain": [
       "[Document(page_content='Hi everyone.', metadata={'source': '01_stats-review-and-statistical-power-part-1.en.txt', 'course_number': 'SIADS 631', 'course_title': 'Experiment Design and Analysis', 'start_index': 0}),\n",
       " Document(page_content='Database Architecture & Technology (SIADS 611), Instructor And Course Assistants: - Instructor: Graham Hukill ( gshukill@umich.edu  ) -- Intermittent Lecturer in Information, School of Information\\n- Course Team:\\n  - Derek Bruckner ( dbrucknr@umich.edu  -- Software Programmer/Analyst Senior and Adjunct Lecturer in Information, School of Information\\n  - Toby Kemp ( tobyk@umich.edu  ) -- Intermittent Lecturer in Information, School of Information', metadata={'source': '611_2023-11.md', 'heading': 'Instructor And Course Assistants', 'section': '2', 'course_number': 'SIADS 611', 'course_title': 'Database Architecture & Technology', 'course_date': 'November 2023', 'document': 'https://www.si.umich.edu/sites/default/files/611%20_0.pdf'}),\n",
       " Document(page_content=\"So I think that's about it. Damian is just one of the many different\\ntechnical experts here, working with us at the\\nUniversity of Michigan to help power our massive open\\nonline courses on Coursera, and our online\\ndegree on Coursera. That's new Masters of Applied\\nData Science with Python. Thanks very much\\nDamian for joining me. Thank you for the interview.\", metadata={'source': '06_bonus-interview-with-damian-avila.en.txt', 'course_number': 'SIADS 521', 'course_title': 'Visual Exploration of Data', 'start_index': 22331}),\n",
       " Document(page_content='He survived the war by claiming to be\\na Catholic, he came from a Jewish family. After the war when he went back home, he found that his extended family\\nmembers have been murdered by the Nazis.', metadata={'source': '01_social-identity-for-social-good-theory-part-1.en.txt', 'course_number': 'SIADS 688', 'course_title': 'Data Science for Social Good', 'start_index': 1285}),\n",
       " Document(page_content='SQL and Databases (SIADS 511), Instructor And Course Assistants: - Instructor: Graham Hukill - (gshukill@umich.edu)\\n- Course Assistant: Derek Bruckner (dbrucknr@umich.edu), Emily Schemanske (landise@umich.edu), Jungseo Lee (jungseo@umich.edu), Toby Kemp (tobyk@umich.edu)', metadata={'source': '511_2023-10.md', 'heading': 'Instructor And Course Assistants', 'section': '2', 'course_number': 'SIADS 511', 'course_title': 'SQL and Databases', 'course_date': 'October 2023', 'document': 'https://www.si.umich.edu/sites/default/files/511%20_0.pdf'}),\n",
       " Document(page_content='SQL and Databases (SIADS 511), Office Hours: - Derek Bruckner: Mondays, 8 - 9 am EST\\n- Graham Hukill: Wednesdays, 12-1 pm EST\\n- Emily Schemanske: Fridays, 8 - 9 am EST\\n- Jungseo Lee: Tuesdays 10:30 - 11:30 am EST\\n- Toby Kemp: Thursdays, 6 - 7 pm EST', metadata={'source': '511_2023-10.md', 'heading': 'Office Hours', 'section': '9', 'course_number': 'SIADS 511', 'course_title': 'SQL and Databases', 'course_date': 'October 2023', 'document': 'https://www.si.umich.edu/sites/default/files/511%20_0.pdf'}),\n",
       " Document(page_content=\"I've got Chris and\\nmyself here today, and we're going to be\\ninterviewing Kevin Hartman. Kevin is the director\\nof Analytics in Google. He's going to talk to\\nus about what he does, and how he brings\\nvalue to Google, and his insights on marketing, on Analytics, and on data itself. Kevin, why don't you introduce\\nyourself and give us some background on how you\\ngot to where you are now. Absolutely, great. Good to see you guys. Thank you so much\\nfor inviting me. Also, I want it known\\nright up front, I am a Michigan guy. I grew up in Mount Pleasant,\\nright in the center. Spent many of my finest\\nyears in Michigan, so very happy to be\\nhere speaking with you all. I am Kevin Hartman. Director of Analytics\\nmeans that I lead a team, the Google Media sales side, that works with advertisers\\nto better construct campaigns that those advertisers\\nwill run on YouTube, on Google search, on any of the display advertising\\nmedia that we offer. That includes both\\ninsight work that we will do to just improve the\\neffectiveness of those campaigns, targeting of those campaigns, as well as the back-end\\nmeasurement and proof that the campaigns\\nactually worked, that they wind up having\\nsome desired effect. I have always worked in data, whether it was in\\nmy stent working in the public sector\\nand government, to the consulting work that\\nI did to then working in an advertising agency\\nrunning analytics for a long time as well. I think that's been\\na constant theme. I was fortunate enough right around 10 years ago to\\nwind up coming on over to Google to do many of the things that I've\\nbeen doing at other places. Just Google's a\\nwhole new ballgame. I have been really happy doing the work\\nthat I do here now. When you started out, what\\nkinds of technologies were you using yourself to do this work? Both to do the analysis, but then also to orchestrate\\nit and keep track of things? Sure.\", metadata={'source': '03_interview-with-kevin-hartman.en.txt', 'course_number': 'SIADS 643', 'course_title': 'Machine Learning Pipelines', 'start_index': -1}),\n",
       " Document(page_content='Database Architecture & Technology (SIADS 611), Course Schedule: This course begins on Tuesday, October 24th, and ends on Monday, November 20h, 2023 .\\n\\nWeekly Activities, Quizzes, and Programming Assignments will be due on Mondays at 11:59pm (time zone = Ann Arbor, Michigan - Eastern Time).\\n\\nSchedule of Weekly Office Hours via Zoom (time zone = Ann Arbor, Michigan - Eastern Time):\\n\\n- Graham Hukill:\\n- Dereck Brukner:\\n- Toby Kemp:', metadata={'source': '611_2023-11.md', 'heading': 'Course Schedule', 'section': '8', 'course_number': 'SIADS 611', 'course_title': 'Database Architecture & Technology', 'course_date': 'November 2023', 'document': 'https://www.si.umich.edu/sites/default/files/611%20_0.pdf'}),\n",
       " Document(page_content='Who knows?', metadata={'source': '09_demonstration-generating-and-scanning-text.en.txt', 'course_number': 'SIADS 511', 'course_title': 'SQL and Databases', 'start_index': 7766}),\n",
       " Document(page_content='He says, \"Look, now you\\nknow I can really do this. Send me all your money and\\nI\\'ll make a killing for you.\" Guy sends him the money,\\nhe disappears, and the person\\'s out all\\nof their life savings. So let the investor beware. Oh well, a downer ending\\nfor a downer lesson. Let the data scientists beware. I will see you next time.', metadata={'source': '02_getting-the-data-right-lecture.en.txt', 'course_number': 'SIADS 501', 'course_title': 'Being a Data Scientist', 'start_index': 11258}),\n",
       " Document(page_content='MADS Slack Policy, Standards, and Practices > MADS Slack Practices: Slack is an effective tool for online engagement and collaboration. It is one of the main tools our community uses to come together and learn from each other. Our community is global, and our Slack workspace represents this. We make up different cultures, time zones, and backgrounds but have a shared commitment to the study of data science. Our Slack workspace is an inclusive and professional space for members of our community. When using Slack, please remember these practices. **Failure to uphold them may result in the loss of posting privileges or workspace access**.', metadata={'source': 'handbook.md', 'heading': 'MADS Slack Policy, Standards, and Practices > MADS Slack Practices', 'section': '57', 'course_number': 'n/a', 'course_title': 'n/a', 'course_date': 'n/a', 'document': 'https://docs.google.com/document/d/1YEOcpdONdme5kmpNEnZpdbJeVFhEIw1pS0wq16QdH1I/edit'}),\n",
       " Document(page_content='Data Science Ethics (SIADS 503), Communications Expectations: Slack is the primary communication mechanism between the instructional team and students for this course. If you do not use Slack, you will likely miss out on important updates, feedback, and discussions on topics of interest to the course.\\n\\n- Course channel in Slack = siads503_fa23_001\\n- Slack response time: within 24 hours; weekend responses may be longer - Email response time: N/A; please use Slack\\n- Office Hours: Wednesday 5 - 6 PM (Eastern (Ann Arbor) time), and Sunday 11 am - 12 pm (Eastern (Ann Arbor) time). Please refer to the Live Events page on Coursera.', metadata={'source': '503_2023-11.md', 'heading': 'Communications Expectations', 'section': '4', 'course_number': 'SIADS 503', 'course_title': 'Data Science Ethics', 'course_date': 'November 2023', 'document': 'https://www.si.umich.edu/sites/default/files/503%20_0.pdf'}),\n",
       " Document(page_content=\"Hi, I'm back with an introduction for you for the guest speaker\\nwe're going to hear from next. We're going to talk to JM Porup, a journalist who's covered issues\\nrelated to data science since 2002. He's a decorated journalist and\\nhas an impressive resume that we're happy he's able to bring to us and\\nshare his perspectives with you.\", metadata={'source': '12_guest-speaker-introduction-j-m-porup.en.txt', 'course_number': 'SIADS 503', 'course_title': 'Data Science Ethics', 'start_index': 0}),\n",
       " Document(page_content='Milestone II (SIADS 696), Course Communication Expectations: Slack is the preferred communication tool for this course. If you have questions about course content (e.g. lecture videos or assignments), please make sure to use Slack. Instructor and course assistant response time to Slack messages will endeavor to be within 24 hours Monday - Friday.', metadata={'source': '696_2023-09.md', 'heading': 'Course Communication Expectations', 'section': '5', 'course_number': 'SIADS 696', 'course_title': 'Milestone II', 'course_date': 'September 2023', 'document': 'https://www.si.umich.edu/sites/default/files/696%20_0.pdf'}),\n",
       " Document(page_content='Unsupervised Learning (SIADS 543), Course Communication Expectations: Slack is the preferred communication tool for this course. If you have questions about course content (e.g. lecture videos or assignments), please make sure to use Slack. Instructor and course assistant response time to Slack messages will aim to be within 24 hours, Monday-Friday.', metadata={'source': '543_2023-09.md', 'heading': 'Course Communication Expectations', 'section': '5', 'course_number': 'SIADS 543', 'course_title': 'Unsupervised Learning', 'course_date': 'September 2023', 'document': 'https://www.si.umich.edu/sites/default/files/543%20_0.pdf'}),\n",
       " Document(page_content=\"Being a Data Scientist (SIADS 501), Student Mental Health: Refer to the University's Resources for Stress and Mental Health website for a listing of resources for students.\", metadata={'source': '501_2023-09.md', 'heading': 'Student Mental Health', 'section': '17', 'course_number': 'SIADS 501', 'course_title': 'Being a Data Scientist', 'course_date': 'September 2023', 'document': 'https://www.si.umich.edu/sites/default/files/501%20_0.pdf'}),\n",
       " Document(page_content='Social Media Analytics (SIADS 682), Course Communication Expectations: Slack is the preferred communication tool for this course. If you have questions about course content (e.g. lecture videos or assignments), please make sure to use Slack. Instructor and course assistant response time to Slack messages will aim to be within 24 hours, Monday-Friday and 48 hours on weekends. Please try to monitor the Slack channels for the course regularly.\\n\\nPersonal communication that may involve sensitive information may be emailed directly to the instructor or course assistant. If you email the instructor or course assistant, please include \"SIADS 682\" in the email subject. Instructor and course assistant response time to email messages will be within 24 hours.', metadata={'source': '682_2023-11.md', 'heading': 'Course Communication Expectations', 'section': '6', 'course_number': 'SIADS 682', 'course_title': 'Social Media Analytics', 'course_date': 'November 2023', 'document': 'https://www.si.umich.edu/sites/default/files/682%20_0.pdf'})]"
      ]
     },
     "execution_count": 28,
     "metadata": {},
     "output_type": "execute_result"
    }
   ],
   "source": [
    "llm_response['source_documents']"
   ]
  },
  {
   "cell_type": "code",
   "execution_count": null,
   "id": "18ed8b6e-c338-4493-b387-e5c778a6751a",
   "metadata": {},
   "outputs": [],
   "source": []
  }
 ],
 "metadata": {
  "kernelspec": {
   "display_name": "Python 3 (ipykernel)",
   "language": "python",
   "name": "python3"
  },
  "language_info": {
   "codemirror_mode": {
    "name": "ipython",
    "version": 3
   },
   "file_extension": ".py",
   "mimetype": "text/x-python",
   "name": "python",
   "nbconvert_exporter": "python",
   "pygments_lexer": "ipython3",
   "version": "3.12.1"
  }
 },
 "nbformat": 4,
 "nbformat_minor": 5
}
